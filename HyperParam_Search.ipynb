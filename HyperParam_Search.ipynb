{
  "cells": [
    {
      "cell_type": "markdown",
      "source": [],
      "metadata": {
        "id": "gf7txJmipnpx"
      }
    },
    {
      "cell_type": "markdown",
      "source": [
        "## 1D-Wave Point\n"
      ],
      "metadata": {
        "id": "Y4CkCXYMppqU"
      }
    },
    {
      "cell_type": "code",
      "execution_count": null,
      "metadata": {
        "colab": {
          "base_uri": "https://localhost:8080/"
        },
        "id": "Om7WLJA6kqiL",
        "outputId": "6c65a5ad-757a-4847-dee0-25e7168805a2"
      },
      "outputs": [
        {
          "name": "stdout",
          "output_type": "stream",
          "text": [
            "\n",
            "Testing model: PINN\n",
            "Total hyperparameter combinations to test for PINN: 48\n",
            "\n",
            "Testing combination 1/48 for model PINN: {'learning_rate': 0.001, 'hidden_layers': 2, 'hidden_units': 128}\n"
          ]
        },
        {
          "name": "stderr",
          "output_type": "stream",
          "text": [
            "\r  0%|          | 0/1000 [00:00<?, ?it/s]/usr/local/lib/python3.10/dist-packages/torch/autograd/graph.py:825: UserWarning: Attempting to run cuBLAS, but there was no current CUDA context! Attempting to set the primary context... (Triggered internally at ../aten/src/ATen/cuda/CublasHandlePool.cpp:135.)\n",
            "  return Variable._execution_engine.run_backward(  # Calls into the C++ engine to run the backward pass\n",
            "100%|██████████| 1000/1000 [01:03<00:00, 15.73it/s]\n"
          ]
        },
        {
          "name": "stdout",
          "output_type": "stream",
          "text": [
            "Model: PINN, Final Loss: 0.104198, Relative L1 Error: 0.609446, Relative L2 Error: 0.602705\n",
            "\n",
            "Testing combination 2/48 for model PINN: {'learning_rate': 0.001, 'hidden_layers': 2, 'hidden_units': 256}\n"
          ]
        },
        {
          "name": "stderr",
          "output_type": "stream",
          "text": [
            "100%|██████████| 1000/1000 [00:40<00:00, 24.56it/s]\n"
          ]
        },
        {
          "name": "stdout",
          "output_type": "stream",
          "text": [
            "Model: PINN, Final Loss: 0.393464, Relative L1 Error: 1.102078, Relative L2 Error: 1.070918\n",
            "\n",
            "Testing combination 3/48 for model PINN: {'learning_rate': 0.001, 'hidden_layers': 2, 'hidden_units': 512}\n"
          ]
        },
        {
          "name": "stderr",
          "output_type": "stream",
          "text": [
            "100%|██████████| 1000/1000 [00:42<00:00, 23.30it/s]\n"
          ]
        },
        {
          "name": "stdout",
          "output_type": "stream",
          "text": [
            "Model: PINN, Final Loss: 0.393518, Relative L1 Error: 1.102352, Relative L2 Error: 1.071134\n",
            "\n",
            "Testing combination 4/48 for model PINN: {'learning_rate': 0.001, 'hidden_layers': 2, 'hidden_units': 1024}\n"
          ]
        },
        {
          "name": "stderr",
          "output_type": "stream",
          "text": [
            "100%|██████████| 1000/1000 [00:50<00:00, 19.82it/s]\n"
          ]
        },
        {
          "name": "stdout",
          "output_type": "stream",
          "text": [
            "Model: PINN, Final Loss: 0.393588, Relative L1 Error: 1.101837, Relative L2 Error: 1.070721\n",
            "\n",
            "Testing combination 5/48 for model PINN: {'learning_rate': 0.001, 'hidden_layers': 4, 'hidden_units': 128}\n"
          ]
        },
        {
          "name": "stderr",
          "output_type": "stream",
          "text": [
            "100%|██████████| 1000/1000 [02:04<00:00,  8.03it/s]\n"
          ]
        },
        {
          "name": "stdout",
          "output_type": "stream",
          "text": [
            "Model: PINN, Final Loss: 0.096865, Relative L1 Error: 0.515841, Relative L2 Error: 0.509111\n",
            "\n",
            "Testing combination 6/48 for model PINN: {'learning_rate': 0.001, 'hidden_layers': 4, 'hidden_units': 256}\n"
          ]
        },
        {
          "name": "stderr",
          "output_type": "stream",
          "text": [
            "100%|██████████| 1000/1000 [02:22<00:00,  7.03it/s]\n"
          ]
        },
        {
          "name": "stdout",
          "output_type": "stream",
          "text": [
            "Model: PINN, Final Loss: 0.141745, Relative L1 Error: 0.776269, Relative L2 Error: 0.767807\n",
            "\n",
            "Testing combination 7/48 for model PINN: {'learning_rate': 0.001, 'hidden_layers': 4, 'hidden_units': 512}\n"
          ]
        },
        {
          "name": "stderr",
          "output_type": "stream",
          "text": [
            "100%|██████████| 1000/1000 [02:21<00:00,  7.08it/s]\n"
          ]
        },
        {
          "name": "stdout",
          "output_type": "stream",
          "text": [
            "Model: PINN, Final Loss: 0.393394, Relative L1 Error: 1.101546, Relative L2 Error: 1.070529\n",
            "\n",
            "Testing combination 8/48 for model PINN: {'learning_rate': 0.001, 'hidden_layers': 4, 'hidden_units': 1024}\n"
          ]
        },
        {
          "name": "stderr",
          "output_type": "stream",
          "text": [
            "100%|██████████| 1000/1000 [06:03<00:00,  2.75it/s]\n"
          ]
        },
        {
          "name": "stdout",
          "output_type": "stream",
          "text": [
            "Model: PINN, Final Loss: 0.393601, Relative L1 Error: 1.101442, Relative L2 Error: 1.070404\n",
            "\n",
            "Testing combination 9/48 for model PINN: {'learning_rate': 0.001, 'hidden_layers': 6, 'hidden_units': 128}\n"
          ]
        },
        {
          "name": "stderr",
          "output_type": "stream",
          "text": [
            "100%|██████████| 1000/1000 [03:16<00:00,  5.09it/s]\n"
          ]
        },
        {
          "name": "stdout",
          "output_type": "stream",
          "text": [
            "Model: PINN, Final Loss: 0.037578, Relative L1 Error: 0.364981, Relative L2 Error: 0.367167\n",
            "\n",
            "Testing combination 10/48 for model PINN: {'learning_rate': 0.001, 'hidden_layers': 6, 'hidden_units': 256}\n"
          ]
        },
        {
          "name": "stderr",
          "output_type": "stream",
          "text": [
            "100%|██████████| 1000/1000 [05:39<00:00,  2.94it/s]\n"
          ]
        },
        {
          "name": "stdout",
          "output_type": "stream",
          "text": [
            "Model: PINN, Final Loss: 0.038024, Relative L1 Error: 0.364538, Relative L2 Error: 0.372167\n",
            "\n",
            "Testing combination 11/48 for model PINN: {'learning_rate': 0.001, 'hidden_layers': 6, 'hidden_units': 512}\n"
          ]
        },
        {
          "name": "stderr",
          "output_type": "stream",
          "text": [
            "100%|██████████| 1000/1000 [05:13<00:00,  3.19it/s]\n"
          ]
        },
        {
          "name": "stdout",
          "output_type": "stream",
          "text": [
            "Model: PINN, Final Loss: 0.129112, Relative L1 Error: 0.718856, Relative L2 Error: 0.713880\n",
            "\n",
            "Testing combination 12/48 for model PINN: {'learning_rate': 0.001, 'hidden_layers': 6, 'hidden_units': 1024}\n"
          ]
        },
        {
          "name": "stderr",
          "output_type": "stream",
          "text": [
            "100%|██████████| 1000/1000 [11:10<00:00,  1.49it/s]\n"
          ]
        },
        {
          "name": "stdout",
          "output_type": "stream",
          "text": [
            "Model: PINN, Final Loss: 0.393584, Relative L1 Error: 1.101897, Relative L2 Error: 1.070754\n",
            "\n",
            "Testing combination 13/48 for model PINN: {'learning_rate': 0.001, 'hidden_layers': 8, 'hidden_units': 128}\n"
          ]
        },
        {
          "name": "stderr",
          "output_type": "stream",
          "text": [
            "100%|██████████| 1000/1000 [03:37<00:00,  4.61it/s]\n"
          ]
        },
        {
          "name": "stdout",
          "output_type": "stream",
          "text": [
            "Model: PINN, Final Loss: 0.089773, Relative L1 Error: 0.549346, Relative L2 Error: 0.553922\n",
            "\n",
            "Testing combination 14/48 for model PINN: {'learning_rate': 0.001, 'hidden_layers': 8, 'hidden_units': 256}\n"
          ]
        },
        {
          "name": "stderr",
          "output_type": "stream",
          "text": [
            "100%|██████████| 1000/1000 [04:57<00:00,  3.36it/s]\n"
          ]
        },
        {
          "name": "stdout",
          "output_type": "stream",
          "text": [
            "Model: PINN, Final Loss: 0.105669, Relative L1 Error: 0.576226, Relative L2 Error: 0.572229\n",
            "\n",
            "Testing combination 15/48 for model PINN: {'learning_rate': 0.001, 'hidden_layers': 8, 'hidden_units': 512}\n"
          ]
        },
        {
          "name": "stderr",
          "output_type": "stream",
          "text": [
            "100%|██████████| 1000/1000 [07:13<00:00,  2.31it/s]\n"
          ]
        },
        {
          "name": "stdout",
          "output_type": "stream",
          "text": [
            "Model: PINN, Final Loss: 0.132102, Relative L1 Error: 0.739318, Relative L2 Error: 0.735040\n",
            "\n",
            "Testing combination 16/48 for model PINN: {'learning_rate': 0.001, 'hidden_layers': 8, 'hidden_units': 1024}\n"
          ]
        },
        {
          "name": "stderr",
          "output_type": "stream",
          "text": [
            "100%|██████████| 1000/1000 [13:08<00:00,  1.27it/s]\n"
          ]
        },
        {
          "name": "stdout",
          "output_type": "stream",
          "text": [
            "Model: PINN, Final Loss: 0.393411, Relative L1 Error: 1.101966, Relative L2 Error: 1.070840\n",
            "\n",
            "Testing combination 17/48 for model PINN: {'learning_rate': 0.01, 'hidden_layers': 2, 'hidden_units': 128}\n"
          ]
        },
        {
          "name": "stderr",
          "output_type": "stream",
          "text": [
            "100%|██████████| 1000/1000 [01:24<00:00, 11.79it/s]\n"
          ]
        },
        {
          "name": "stdout",
          "output_type": "stream",
          "text": [
            "Model: PINN, Final Loss: 0.089402, Relative L1 Error: 0.491481, Relative L2 Error: 0.481100\n",
            "\n",
            "Testing combination 18/48 for model PINN: {'learning_rate': 0.01, 'hidden_layers': 2, 'hidden_units': 256}\n"
          ]
        },
        {
          "name": "stderr",
          "output_type": "stream",
          "text": [
            "100%|██████████| 1000/1000 [01:14<00:00, 13.50it/s]\n"
          ]
        },
        {
          "name": "stdout",
          "output_type": "stream",
          "text": [
            "Model: PINN, Final Loss: 0.092071, Relative L1 Error: 0.501718, Relative L2 Error: 0.491399\n",
            "\n",
            "Testing combination 19/48 for model PINN: {'learning_rate': 0.01, 'hidden_layers': 2, 'hidden_units': 512}\n"
          ]
        },
        {
          "name": "stderr",
          "output_type": "stream",
          "text": [
            "100%|██████████| 1000/1000 [01:32<00:00, 10.82it/s]\n"
          ]
        },
        {
          "name": "stdout",
          "output_type": "stream",
          "text": [
            "Model: PINN, Final Loss: 0.092283, Relative L1 Error: 0.502214, Relative L2 Error: 0.491901\n",
            "\n",
            "Testing combination 20/48 for model PINN: {'learning_rate': 0.01, 'hidden_layers': 2, 'hidden_units': 1024}\n"
          ]
        },
        {
          "name": "stderr",
          "output_type": "stream",
          "text": [
            "100%|██████████| 1000/1000 [01:38<00:00, 10.13it/s]\n"
          ]
        },
        {
          "name": "stdout",
          "output_type": "stream",
          "text": [
            "Model: PINN, Final Loss: 0.082914, Relative L1 Error: 0.491516, Relative L2 Error: 0.479743\n",
            "\n",
            "Testing combination 21/48 for model PINN: {'learning_rate': 0.01, 'hidden_layers': 4, 'hidden_units': 128}\n"
          ]
        },
        {
          "name": "stderr",
          "output_type": "stream",
          "text": [
            "100%|██████████| 1000/1000 [03:38<00:00,  4.58it/s]\n"
          ]
        },
        {
          "name": "stdout",
          "output_type": "stream",
          "text": [
            "Model: PINN, Final Loss: 0.018407, Relative L1 Error: 0.313438, Relative L2 Error: 0.321516\n",
            "\n",
            "Testing combination 22/48 for model PINN: {'learning_rate': 0.01, 'hidden_layers': 4, 'hidden_units': 256}\n"
          ]
        },
        {
          "name": "stderr",
          "output_type": "stream",
          "text": [
            "100%|██████████| 1000/1000 [03:25<00:00,  4.87it/s]\n"
          ]
        },
        {
          "name": "stdout",
          "output_type": "stream",
          "text": [
            "Model: PINN, Final Loss: 0.027889, Relative L1 Error: 0.353177, Relative L2 Error: 0.371113\n",
            "\n",
            "Testing combination 23/48 for model PINN: {'learning_rate': 0.01, 'hidden_layers': 4, 'hidden_units': 512}\n"
          ]
        },
        {
          "name": "stderr",
          "output_type": "stream",
          "text": [
            "100%|██████████| 1000/1000 [05:26<00:00,  3.06it/s]\n"
          ]
        },
        {
          "name": "stdout",
          "output_type": "stream",
          "text": [
            "Model: PINN, Final Loss: 0.022011, Relative L1 Error: 0.341249, Relative L2 Error: 0.347911\n",
            "\n",
            "Testing combination 24/48 for model PINN: {'learning_rate': 0.01, 'hidden_layers': 4, 'hidden_units': 1024}\n"
          ]
        },
        {
          "name": "stderr",
          "output_type": "stream",
          "text": [
            "100%|██████████| 1000/1000 [10:54<00:00,  1.53it/s]\n"
          ]
        },
        {
          "name": "stdout",
          "output_type": "stream",
          "text": [
            "Model: PINN, Final Loss: 0.097432, Relative L1 Error: 0.527581, Relative L2 Error: 0.518368\n",
            "\n",
            "Testing combination 25/48 for model PINN: {'learning_rate': 0.01, 'hidden_layers': 6, 'hidden_units': 128}\n"
          ]
        },
        {
          "name": "stderr",
          "output_type": "stream",
          "text": [
            "100%|██████████| 1000/1000 [04:57<00:00,  3.36it/s]\n"
          ]
        },
        {
          "name": "stdout",
          "output_type": "stream",
          "text": [
            "Model: PINN, Final Loss: 0.020737, Relative L1 Error: 0.340927, Relative L2 Error: 0.345325\n",
            "\n",
            "Testing combination 26/48 for model PINN: {'learning_rate': 0.01, 'hidden_layers': 6, 'hidden_units': 256}\n"
          ]
        },
        {
          "name": "stderr",
          "output_type": "stream",
          "text": [
            "100%|██████████| 1000/1000 [11:24<00:00,  1.46it/s]\n"
          ]
        },
        {
          "name": "stdout",
          "output_type": "stream",
          "text": [
            "Model: PINN, Final Loss: 0.007998, Relative L1 Error: 0.172220, Relative L2 Error: 0.181658\n",
            "\n",
            "Testing combination 27/48 for model PINN: {'learning_rate': 0.01, 'hidden_layers': 6, 'hidden_units': 512}\n"
          ]
        },
        {
          "name": "stderr",
          "output_type": "stream",
          "text": [
            "100%|██████████| 1000/1000 [08:55<00:00,  1.87it/s]\n"
          ]
        },
        {
          "name": "stdout",
          "output_type": "stream",
          "text": [
            "Model: PINN, Final Loss: 0.039963, Relative L1 Error: 0.401262, Relative L2 Error: 0.398176\n",
            "\n",
            "Testing combination 28/48 for model PINN: {'learning_rate': 0.01, 'hidden_layers': 6, 'hidden_units': 1024}\n"
          ]
        },
        {
          "name": "stderr",
          "output_type": "stream",
          "text": [
            "100%|██████████| 1000/1000 [32:45<00:00,  1.97s/it]\n"
          ]
        },
        {
          "name": "stdout",
          "output_type": "stream",
          "text": [
            "Model: PINN, Final Loss: 0.028304, Relative L1 Error: 0.385739, Relative L2 Error: 0.389364\n",
            "\n",
            "Testing combination 29/48 for model PINN: {'learning_rate': 0.01, 'hidden_layers': 8, 'hidden_units': 128}\n"
          ]
        },
        {
          "name": "stderr",
          "output_type": "stream",
          "text": [
            "100%|██████████| 1000/1000 [06:18<00:00,  2.64it/s]\n"
          ]
        },
        {
          "name": "stdout",
          "output_type": "stream",
          "text": [
            "Model: PINN, Final Loss: 0.015730, Relative L1 Error: 0.297861, Relative L2 Error: 0.305517\n",
            "\n",
            "Testing combination 30/48 for model PINN: {'learning_rate': 0.01, 'hidden_layers': 8, 'hidden_units': 256}\n"
          ]
        },
        {
          "name": "stderr",
          "output_type": "stream",
          "text": [
            "100%|██████████| 1000/1000 [09:41<00:00,  1.72it/s]\n"
          ]
        },
        {
          "name": "stdout",
          "output_type": "stream",
          "text": [
            "Model: PINN, Final Loss: 0.021384, Relative L1 Error: 0.345532, Relative L2 Error: 0.349188\n",
            "\n",
            "Testing combination 31/48 for model PINN: {'learning_rate': 0.01, 'hidden_layers': 8, 'hidden_units': 512}\n"
          ]
        },
        {
          "name": "stderr",
          "output_type": "stream",
          "text": [
            "100%|██████████| 1000/1000 [18:43<00:00,  1.12s/it]\n"
          ]
        },
        {
          "name": "stdout",
          "output_type": "stream",
          "text": [
            "Model: PINN, Final Loss: 0.025669, Relative L1 Error: 0.378680, Relative L2 Error: 0.380289\n",
            "\n",
            "Testing combination 32/48 for model PINN: {'learning_rate': 0.01, 'hidden_layers': 8, 'hidden_units': 1024}\n"
          ]
        },
        {
          "name": "stderr",
          "output_type": "stream",
          "text": [
            "100%|██████████| 1000/1000 [38:46<00:00,  2.33s/it]\n"
          ]
        },
        {
          "name": "stdout",
          "output_type": "stream",
          "text": [
            "Model: PINN, Final Loss: 0.023821, Relative L1 Error: 0.307928, Relative L2 Error: 0.317063\n",
            "\n",
            "Testing combination 33/48 for model PINN: {'learning_rate': 0.02, 'hidden_layers': 2, 'hidden_units': 128}\n"
          ]
        },
        {
          "name": "stderr",
          "output_type": "stream",
          "text": [
            "100%|██████████| 1000/1000 [02:28<00:00,  6.74it/s]\n"
          ]
        },
        {
          "name": "stdout",
          "output_type": "stream",
          "text": [
            "Model: PINN, Final Loss: 0.019925, Relative L1 Error: 0.354504, Relative L2 Error: 0.359871\n",
            "\n",
            "Testing combination 34/48 for model PINN: {'learning_rate': 0.02, 'hidden_layers': 2, 'hidden_units': 256}\n"
          ]
        },
        {
          "name": "stderr",
          "output_type": "stream",
          "text": [
            "100%|██████████| 1000/1000 [02:12<00:00,  7.56it/s]\n"
          ]
        },
        {
          "name": "stdout",
          "output_type": "stream",
          "text": [
            "Model: PINN, Final Loss: 0.030360, Relative L1 Error: 0.346396, Relative L2 Error: 0.348459\n",
            "\n",
            "Testing combination 35/48 for model PINN: {'learning_rate': 0.02, 'hidden_layers': 2, 'hidden_units': 512}\n"
          ]
        },
        {
          "name": "stderr",
          "output_type": "stream",
          "text": [
            "100%|██████████| 1000/1000 [01:13<00:00, 13.59it/s]\n"
          ]
        },
        {
          "name": "stdout",
          "output_type": "stream",
          "text": [
            "Model: PINN, Final Loss: 0.093588, Relative L1 Error: 0.500617, Relative L2 Error: 0.490293\n",
            "\n",
            "Testing combination 36/48 for model PINN: {'learning_rate': 0.02, 'hidden_layers': 2, 'hidden_units': 1024}\n"
          ]
        },
        {
          "name": "stderr",
          "output_type": "stream",
          "text": [
            "100%|██████████| 1000/1000 [01:30<00:00, 11.06it/s]\n"
          ]
        },
        {
          "name": "stdout",
          "output_type": "stream",
          "text": [
            "Model: PINN, Final Loss: 0.093693, Relative L1 Error: 0.499320, Relative L2 Error: 0.489008\n",
            "\n",
            "Testing combination 37/48 for model PINN: {'learning_rate': 0.02, 'hidden_layers': 4, 'hidden_units': 128}\n"
          ]
        },
        {
          "name": "stderr",
          "output_type": "stream",
          "text": [
            "100%|██████████| 1000/1000 [04:40<00:00,  3.56it/s]\n"
          ]
        },
        {
          "name": "stdout",
          "output_type": "stream",
          "text": [
            "Model: PINN, Final Loss: 0.008211, Relative L1 Error: 0.165870, Relative L2 Error: 0.177597\n",
            "\n",
            "Testing combination 38/48 for model PINN: {'learning_rate': 0.02, 'hidden_layers': 4, 'hidden_units': 256}\n"
          ]
        },
        {
          "name": "stderr",
          "output_type": "stream",
          "text": [
            "100%|██████████| 1000/1000 [05:21<00:00,  3.11it/s]\n"
          ]
        },
        {
          "name": "stdout",
          "output_type": "stream",
          "text": [
            "Model: PINN, Final Loss: 0.010850, Relative L1 Error: 0.228054, Relative L2 Error: 0.243407\n",
            "\n",
            "Testing combination 39/48 for model PINN: {'learning_rate': 0.02, 'hidden_layers': 4, 'hidden_units': 512}\n"
          ]
        },
        {
          "name": "stderr",
          "output_type": "stream",
          "text": [
            "100%|██████████| 1000/1000 [12:18<00:00,  1.35it/s]\n"
          ]
        },
        {
          "name": "stdout",
          "output_type": "stream",
          "text": [
            "Model: PINN, Final Loss: 0.005010, Relative L1 Error: 0.123708, Relative L2 Error: 0.135198\n",
            "\n",
            "Testing combination 40/48 for model PINN: {'learning_rate': 0.02, 'hidden_layers': 4, 'hidden_units': 1024}\n"
          ]
        },
        {
          "name": "stderr",
          "output_type": "stream",
          "text": [
            "100%|██████████| 1000/1000 [22:21<00:00,  1.34s/it]\n"
          ]
        },
        {
          "name": "stdout",
          "output_type": "stream",
          "text": [
            "Model: PINN, Final Loss: 0.011310, Relative L1 Error: 0.218104, Relative L2 Error: 0.227848\n",
            "\n",
            "Testing combination 41/48 for model PINN: {'learning_rate': 0.02, 'hidden_layers': 6, 'hidden_units': 128}\n"
          ]
        },
        {
          "name": "stderr",
          "output_type": "stream",
          "text": [
            "100%|██████████| 1000/1000 [08:16<00:00,  2.01it/s]\n"
          ]
        },
        {
          "name": "stdout",
          "output_type": "stream",
          "text": [
            "Model: PINN, Final Loss: 0.003160, Relative L1 Error: 0.096566, Relative L2 Error: 0.102616\n",
            "\n",
            "Testing combination 42/48 for model PINN: {'learning_rate': 0.02, 'hidden_layers': 6, 'hidden_units': 256}\n"
          ]
        },
        {
          "name": "stderr",
          "output_type": "stream",
          "text": [
            "100%|██████████| 1000/1000 [10:11<00:00,  1.64it/s]\n"
          ]
        },
        {
          "name": "stdout",
          "output_type": "stream",
          "text": [
            "Model: PINN, Final Loss: 0.009609, Relative L1 Error: 0.198922, Relative L2 Error: 0.208928\n",
            "\n",
            "Testing combination 43/48 for model PINN: {'learning_rate': 0.02, 'hidden_layers': 6, 'hidden_units': 512}\n"
          ]
        },
        {
          "name": "stderr",
          "output_type": "stream",
          "text": [
            "100%|██████████| 1000/1000 [14:42<00:00,  1.13it/s]\n"
          ]
        },
        {
          "name": "stdout",
          "output_type": "stream",
          "text": [
            "Model: PINN, Final Loss: 0.006931, Relative L1 Error: 0.153063, Relative L2 Error: 0.160707\n",
            "\n",
            "Testing combination 44/48 for model PINN: {'learning_rate': 0.02, 'hidden_layers': 6, 'hidden_units': 1024}\n"
          ]
        },
        {
          "name": "stderr",
          "output_type": "stream",
          "text": [
            "100%|██████████| 1000/1000 [57:46<00:00,  3.47s/it]\n"
          ]
        },
        {
          "name": "stdout",
          "output_type": "stream",
          "text": [
            "Model: PINN, Final Loss: 0.011848, Relative L1 Error: 0.227718, Relative L2 Error: 0.237493\n",
            "\n",
            "Testing combination 45/48 for model PINN: {'learning_rate': 0.02, 'hidden_layers': 8, 'hidden_units': 128}\n"
          ]
        },
        {
          "name": "stderr",
          "output_type": "stream",
          "text": [
            "100%|██████████| 1000/1000 [06:20<00:00,  2.62it/s]\n"
          ]
        },
        {
          "name": "stdout",
          "output_type": "stream",
          "text": [
            "Model: PINN, Final Loss: 0.020950, Relative L1 Error: 0.342972, Relative L2 Error: 0.350565\n",
            "\n",
            "Testing combination 46/48 for model PINN: {'learning_rate': 0.02, 'hidden_layers': 8, 'hidden_units': 256}\n"
          ]
        },
        {
          "name": "stderr",
          "output_type": "stream",
          "text": [
            "100%|██████████| 1000/1000 [13:56<00:00,  1.19it/s]\n"
          ]
        },
        {
          "name": "stdout",
          "output_type": "stream",
          "text": [
            "Model: PINN, Final Loss: 0.015772, Relative L1 Error: 0.294803, Relative L2 Error: 0.305898\n",
            "\n",
            "Testing combination 47/48 for model PINN: {'learning_rate': 0.02, 'hidden_layers': 8, 'hidden_units': 512}\n"
          ]
        },
        {
          "name": "stderr",
          "output_type": "stream",
          "text": [
            "100%|██████████| 1000/1000 [14:04<00:00,  1.18it/s]\n"
          ]
        },
        {
          "name": "stdout",
          "output_type": "stream",
          "text": [
            "Model: PINN, Final Loss: 0.019153, Relative L1 Error: 0.318888, Relative L2 Error: 0.327194\n",
            "\n",
            "Testing combination 48/48 for model PINN: {'learning_rate': 0.02, 'hidden_layers': 8, 'hidden_units': 1024}\n"
          ]
        },
        {
          "name": "stderr",
          "output_type": "stream",
          "text": [
            "100%|██████████| 1000/1000 [1:02:41<00:00,  3.76s/it]"
          ]
        },
        {
          "name": "stdout",
          "output_type": "stream",
          "text": [
            "Model: PINN, Final Loss: 0.020544, Relative L1 Error: 0.341850, Relative L2 Error: 0.351188\n",
            "\n",
            "Results saved to ./results/wave_point_optimized_results/hyperparameter_search_results.csv\n"
          ]
        },
        {
          "name": "stderr",
          "output_type": "stream",
          "text": [
            "\n"
          ]
        }
      ],
      "source": [
        "import os\n",
        "import time\n",
        "import torch\n",
        "import torch.nn as nn\n",
        "import random\n",
        "import itertools\n",
        "import numpy as np\n",
        "import pandas as pd\n",
        "from torch.optim import LBFGS\n",
        "from tqdm import tqdm\n",
        "from util import get_data, make_time_sequence, get_n_params\n",
        "from model_dict import get_model\n",
        "\n",
        "# Set seeds for reproducibility\n",
        "seed = 0\n",
        "np.random.seed(seed)\n",
        "random.seed(seed)\n",
        "torch.manual_seed(seed)\n",
        "\n",
        "def train_model(model_name, learning_rate, hidden_layers, hidden_units,\n",
        "                device=\"cpu\", max_epochs=1000):\n",
        "    # Data preparation\n",
        "    res, b_left, b_right, b_upper, b_lower = get_data([0, 1], [0, 1], 101, 101)\n",
        "    res_test, _, _, _, _ = get_data([0, 1], [0, 1], 101, 101)\n",
        "\n",
        "    # For PINNsFormer models, make time sequences\n",
        "    if model_name == 'PINNsFormer' or model_name == 'PINNsFormer_Enc_Only':\n",
        "        res = make_time_sequence(res, num_step=5, step=1e-4)\n",
        "        b_left = make_time_sequence(b_left, num_step=5, step=1e-4)\n",
        "        b_right = make_time_sequence(b_right, num_step=5, step=1e-4)\n",
        "        b_upper = make_time_sequence(b_upper, num_step=5, step=1e-4)\n",
        "        b_lower = make_time_sequence(b_lower, num_step=5, step=1e-4)\n",
        "\n",
        "    # Convert data to tensors\n",
        "    res = torch.tensor(res, dtype=torch.float32, requires_grad=True).to(device)\n",
        "    b_left = torch.tensor(b_left, dtype=torch.float32, requires_grad=True).to(device)\n",
        "    b_right = torch.tensor(b_right, dtype=torch.float32, requires_grad=True).to(device)\n",
        "    b_upper = torch.tensor(b_upper, dtype=torch.float32, requires_grad=True).to(device)\n",
        "    b_lower = torch.tensor(b_lower, dtype=torch.float32, requires_grad=True).to(device)\n",
        "\n",
        "    x_res, t_res = res[..., 0:1], res[..., 1:2]\n",
        "    x_left, t_left = b_left[..., 0:1], b_left[..., 1:2]\n",
        "    x_right, t_right = b_right[..., 0:1], b_right[..., 1:2]\n",
        "    x_upper, t_upper = b_upper[..., 0:1], b_upper[..., 1:2]\n",
        "    x_lower, t_lower = b_lower[..., 0:1], b_lower[..., 1:2]\n",
        "\n",
        "    # Initialize the model\n",
        "    ModelClass = get_model(model_name)\n",
        "    if model_name == 'KAN':\n",
        "        model = ModelClass(width=[2, 5, 5, 1], grid=5, k=3, grid_eps=1.0,\n",
        "                           noise_scale_base=0.25, device=device).to(device)\n",
        "    elif model_name == 'PINNsFormer' or model_name == 'PINNsFormer_Enc_Only':\n",
        "        model = ModelClass(in_dim=2, hidden_dim=32, out_dim=1, num_layer=1).to(device)\n",
        "    else:\n",
        "        model = ModelClass(in_dim=2, hidden_dim=hidden_units, out_dim=1,\n",
        "                           num_layer=hidden_layers).to(device)\n",
        "\n",
        "    # Initialize weights\n",
        "    def init_weights(m):\n",
        "        if isinstance(m, nn.Linear):\n",
        "            torch.nn.init.xavier_uniform_(m.weight)\n",
        "            if m.bias is not None:\n",
        "                m.bias.data.fill_(0.01)\n",
        "    model.apply(init_weights)\n",
        "\n",
        "    # Initialize the optimizer\n",
        "    optimizer = LBFGS(model.parameters(), lr=learning_rate, max_iter=20,\n",
        "                      history_size=50, line_search_fn='strong_wolfe')\n",
        "\n",
        "    # Initialize a list to store the loss values\n",
        "    loss_history = []\n",
        "    pi = torch.tensor(np.pi, dtype=torch.float32, requires_grad=False).to(device)\n",
        "\n",
        "    # Training loop\n",
        "    for epoch in tqdm(range(max_epochs)):\n",
        "        def closure():\n",
        "            optimizer.zero_grad()\n",
        "            pred_res = model(x_res, t_res)\n",
        "            pred_left = model(x_left, t_left)\n",
        "            pred_right = model(x_right, t_right)\n",
        "            pred_upper = model(x_upper, t_upper)\n",
        "            pred_lower = model(x_lower, t_lower)\n",
        "\n",
        "            u_x = torch.autograd.grad(pred_res, x_res, grad_outputs=torch.ones_like(pred_res),\n",
        "                                      retain_graph=True, create_graph=True)[0]\n",
        "            u_xx = torch.autograd.grad(u_x, x_res, grad_outputs=torch.ones_like(u_x),\n",
        "                                       retain_graph=True, create_graph=True)[0]\n",
        "            u_t = torch.autograd.grad(pred_res, t_res, grad_outputs=torch.ones_like(pred_res),\n",
        "                                      retain_graph=True, create_graph=True)[0]\n",
        "            u_tt = torch.autograd.grad(u_t, t_res, grad_outputs=torch.ones_like(u_t),\n",
        "                                       retain_graph=True, create_graph=True)[0]\n",
        "\n",
        "            loss_res = torch.mean((u_tt - 4 * u_xx) ** 2)\n",
        "            loss_bc = torch.mean((pred_upper) ** 2) + torch.mean((pred_lower) ** 2)\n",
        "\n",
        "            ui_t = torch.autograd.grad(pred_left, t_left, grad_outputs=torch.ones_like(pred_left),\n",
        "                                       retain_graph=True, create_graph=True)[0]\n",
        "\n",
        "            loss_ic_1 = torch.mean(\n",
        "                (pred_left[..., 0] - torch.sin(pi * x_left[..., 0]) - 0.5 * torch.sin(3 * pi * x_left[..., 0])) ** 2)\n",
        "            loss_ic_2 = torch.mean((ui_t) ** 2)\n",
        "\n",
        "            loss_ic = loss_ic_1 + loss_ic_2\n",
        "\n",
        "            loss = loss_res + loss_ic + loss_bc\n",
        "\n",
        "            # Append the loss value to the history\n",
        "            loss_history.append(loss.item())\n",
        "\n",
        "            loss.backward()\n",
        "            return loss\n",
        "\n",
        "        optimizer.step(closure)\n",
        "\n",
        "    # Retrieve the final loss value from the loss history\n",
        "    final_loss = loss_history[-1]\n",
        "\n",
        "    # Evaluation\n",
        "    with torch.no_grad():\n",
        "        if model_name == 'PINNsFormer' or model_name == 'PINNsFormer_Enc_Only':\n",
        "            res_test = make_time_sequence(res_test, num_step=5, step=1e-4)\n",
        "\n",
        "        res_test = torch.tensor(res_test, dtype=torch.float32).to(device)\n",
        "        x_test, t_test = res_test[..., 0:1], res_test[..., 1:2]\n",
        "        pred = model(x_test, t_test).cpu().detach().numpy()\n",
        "\n",
        "    pred = pred.reshape(101, 101)\n",
        "\n",
        "    # Analytical solution\n",
        "    def u_ana(x, t):\n",
        "        return np.sin(np.pi * x) * np.cos(2 * np.pi * t) + 0.5 * np.sin(3 * np.pi * x) * np.cos(6 * np.pi * t)\n",
        "\n",
        "    u = u_ana(res_test.cpu().numpy()[..., 0], res_test.cpu().numpy()[..., 1]).reshape(101, 101)\n",
        "\n",
        "    # Compute relative errors\n",
        "    rl1 = np.sum(np.abs(u - pred)) / np.sum(np.abs(u))\n",
        "    rl2 = np.sqrt(np.sum((u - pred) ** 2) / np.sum(u ** 2))\n",
        "\n",
        "    return final_loss, rl1, rl2\n",
        "\n",
        "def hyperparameter_search(models, param_grid, device=\"cpu\", max_epochs=1000):\n",
        "    # Create directories for saving results\n",
        "    results_dir = \"./results/wave_point_optimized_results\"\n",
        "    os.makedirs(results_dir, exist_ok=True)\n",
        "    results_file = os.path.join(results_dir, \"hyperparameter_search_results.csv\")\n",
        "\n",
        "    results = []\n",
        "\n",
        "    # Define hyperparameter keys\n",
        "    hyperparam_keys = [\"learning_rate\", \"hidden_layers\", \"hidden_units\"]\n",
        "    hyperparam_values = [param_grid[key] for key in hyperparam_keys]\n",
        "\n",
        "    # Generate hyperparameter combinations\n",
        "    hyperparam_combinations = list(itertools.product(*hyperparam_values))\n",
        "\n",
        "    for model_name in models:\n",
        "        print(f\"\\nTesting model: {model_name}\")\n",
        "        print(f\"Total hyperparameter combinations to test for {model_name}: {len(hyperparam_combinations)}\")\n",
        "\n",
        "        for idx, combination in enumerate(hyperparam_combinations):\n",
        "            hyperparams = dict(zip(hyperparam_keys, combination))\n",
        "\n",
        "            train_args = {\n",
        "                'model_name': model_name,\n",
        "                'learning_rate': hyperparams[\"learning_rate\"],\n",
        "                'hidden_layers': hyperparams[\"hidden_layers\"],\n",
        "                'hidden_units': hyperparams[\"hidden_units\"],\n",
        "                'device': device,\n",
        "                'max_epochs': max_epochs,\n",
        "            }\n",
        "\n",
        "            print(f\"\\nTesting combination {idx+1}/{len(hyperparam_combinations)} for model {model_name}: {hyperparams}\")\n",
        "            try:\n",
        "                start_time = time.time()\n",
        "                final_loss, rl1, rl2 = train_model(**train_args)\n",
        "                runtime = time.time() - start_time\n",
        "\n",
        "                results.append({\n",
        "                    \"model\": model_name,\n",
        "                    **hyperparams,\n",
        "                    \"final_loss\": final_loss,\n",
        "                    \"relative_L1_error\": rl1,\n",
        "                    \"relative_L2_error\": rl2,\n",
        "                    \"runtime_seconds\": runtime,\n",
        "                })\n",
        "                print(f\"Model: {model_name}, Final Loss: {final_loss:.6f}, \"\n",
        "                      f\"Relative L1 Error: {rl1:.6f}, Relative L2 Error: {rl2:.6f}\")\n",
        "\n",
        "            except Exception as e:\n",
        "                print(f\"Error with combination {hyperparams} for model {model_name}: {e}\")\n",
        "                results.append({\n",
        "                    \"model\": model_name,\n",
        "                    **hyperparams,\n",
        "                    \"final_loss\": None,\n",
        "                    \"relative_L1_error\": None,\n",
        "                    \"relative_L2_error\": None,\n",
        "                    \"runtime_seconds\": None,\n",
        "                })\n",
        "\n",
        "    results_df = pd.DataFrame(results)\n",
        "    results_df.to_csv(results_file, index=False)\n",
        "    print(f\"\\nResults saved to {results_file}\")\n",
        "    return results_df\n",
        "\n",
        "if __name__ == \"__main__\":\n",
        "    param_grid = {\n",
        "        \"learning_rate\": [0.001, 0.01, 0.02],\n",
        "        \"hidden_layers\": [2, 4, 6, 8],\n",
        "        \"hidden_units\": [128, 256, 512, 1024],\n",
        "    }\n",
        "    # List of models to test\n",
        "    #models = [\"PINN\", \"QRes\", \"FLS\", \"KAN\", \"PINNsFormer\", \"PINNsFormer_Enc_Only\"]\n",
        "    models = [\"PINN\"]\n",
        "    results = hyperparameter_search(models=models, param_grid=param_grid, device=\"cuda\", max_epochs=1000)\n"
      ]
    },
    {
      "cell_type": "code",
      "execution_count": null,
      "metadata": {
        "colab": {
          "base_uri": "https://localhost:8080/"
        },
        "id": "9EE44vxlaSxU",
        "outputId": "e904db33-e578-4bc7-bed7-93a2f5d61016"
      },
      "outputs": [
        {
          "name": "stdout",
          "output_type": "stream",
          "text": [
            "\n",
            "Testing model: PINN\n",
            "Total hyperparameter combinations to test for PINN: 8\n",
            "\n",
            "Testing combination 1/8 for model PINN: {'learning_rate': 0.0001, 'hidden_layers': 2, 'hidden_units': 128}\n"
          ]
        },
        {
          "name": "stderr",
          "output_type": "stream",
          "text": [
            "\r  0%|          | 0/1000 [00:00<?, ?it/s]/usr/local/lib/python3.10/dist-packages/torch/autograd/graph.py:825: UserWarning: Attempting to run cuBLAS, but there was no current CUDA context! Attempting to set the primary context... (Triggered internally at ../aten/src/ATen/cuda/CublasHandlePool.cpp:135.)\n",
            "  return Variable._execution_engine.run_backward(  # Calls into the C++ engine to run the backward pass\n",
            "100%|██████████| 1000/1000 [00:31<00:00, 31.36it/s]\n"
          ]
        },
        {
          "name": "stdout",
          "output_type": "stream",
          "text": [
            "Model: PINN, Final Loss: 0.393004, Relative L1 Error: 1.100893, Relative L2 Error: 1.070027\n",
            "\n",
            "Testing combination 2/8 for model PINN: {'learning_rate': 0.0001, 'hidden_layers': 2, 'hidden_units': 256}\n"
          ]
        },
        {
          "name": "stderr",
          "output_type": "stream",
          "text": [
            "100%|██████████| 1000/1000 [00:31<00:00, 31.84it/s]\n"
          ]
        },
        {
          "name": "stdout",
          "output_type": "stream",
          "text": [
            "Model: PINN, Final Loss: 0.393572, Relative L1 Error: 1.102304, Relative L2 Error: 1.071079\n",
            "\n",
            "Testing combination 3/8 for model PINN: {'learning_rate': 0.0001, 'hidden_layers': 2, 'hidden_units': 512}\n"
          ]
        },
        {
          "name": "stderr",
          "output_type": "stream",
          "text": [
            "100%|██████████| 1000/1000 [00:41<00:00, 24.01it/s]\n"
          ]
        },
        {
          "name": "stdout",
          "output_type": "stream",
          "text": [
            "Model: PINN, Final Loss: 0.393639, Relative L1 Error: 1.103397, Relative L2 Error: 1.071902\n",
            "\n",
            "Testing combination 4/8 for model PINN: {'learning_rate': 0.0001, 'hidden_layers': 2, 'hidden_units': 1024}\n"
          ]
        },
        {
          "name": "stderr",
          "output_type": "stream",
          "text": [
            "100%|██████████| 1000/1000 [00:48<00:00, 20.58it/s]\n"
          ]
        },
        {
          "name": "stdout",
          "output_type": "stream",
          "text": [
            "Model: PINN, Final Loss: 0.393679, Relative L1 Error: 1.101556, Relative L2 Error: 1.070476\n",
            "\n",
            "Testing combination 5/8 for model PINN: {'learning_rate': 0.0001, 'hidden_layers': 4, 'hidden_units': 128}\n"
          ]
        },
        {
          "name": "stderr",
          "output_type": "stream",
          "text": [
            "100%|██████████| 1000/1000 [01:29<00:00, 11.11it/s]\n"
          ]
        },
        {
          "name": "stdout",
          "output_type": "stream",
          "text": [
            "Model: PINN, Final Loss: 0.147552, Relative L1 Error: 0.801746, Relative L2 Error: 0.789447\n",
            "\n",
            "Testing combination 6/8 for model PINN: {'learning_rate': 0.0001, 'hidden_layers': 4, 'hidden_units': 256}\n"
          ]
        },
        {
          "name": "stderr",
          "output_type": "stream",
          "text": [
            "100%|██████████| 1000/1000 [01:17<00:00, 12.94it/s]\n"
          ]
        },
        {
          "name": "stdout",
          "output_type": "stream",
          "text": [
            "Model: PINN, Final Loss: 0.393120, Relative L1 Error: 1.102266, Relative L2 Error: 1.071163\n",
            "\n",
            "Testing combination 7/8 for model PINN: {'learning_rate': 0.0001, 'hidden_layers': 4, 'hidden_units': 512}\n"
          ]
        },
        {
          "name": "stderr",
          "output_type": "stream",
          "text": [
            "100%|██████████| 1000/1000 [01:52<00:00,  8.93it/s]\n"
          ]
        },
        {
          "name": "stdout",
          "output_type": "stream",
          "text": [
            "Model: PINN, Final Loss: 0.393573, Relative L1 Error: 1.102808, Relative L2 Error: 1.071513\n",
            "\n",
            "Testing combination 8/8 for model PINN: {'learning_rate': 0.0001, 'hidden_layers': 4, 'hidden_units': 1024}\n"
          ]
        },
        {
          "name": "stderr",
          "output_type": "stream",
          "text": [
            "100%|██████████| 1000/1000 [05:58<00:00,  2.79it/s]"
          ]
        },
        {
          "name": "stdout",
          "output_type": "stream",
          "text": [
            "Model: PINN, Final Loss: 0.393758, Relative L1 Error: 1.101129, Relative L2 Error: 1.070084\n",
            "\n",
            "Results saved to ./results/wave_point_optimized_results/hyperparameter_search_results.csv\n"
          ]
        },
        {
          "name": "stderr",
          "output_type": "stream",
          "text": [
            "\n"
          ]
        }
      ],
      "source": [
        "import os\n",
        "import time\n",
        "import torch\n",
        "import torch.nn as nn\n",
        "import random\n",
        "import itertools\n",
        "import numpy as np\n",
        "import pandas as pd\n",
        "from torch.optim import LBFGS\n",
        "from tqdm import tqdm\n",
        "from util import get_data, make_time_sequence, get_n_params\n",
        "from model_dict import get_model\n",
        "\n",
        "# Set seeds for reproducibility\n",
        "seed = 0\n",
        "np.random.seed(seed)\n",
        "random.seed(seed)\n",
        "torch.manual_seed(seed)\n",
        "\n",
        "def train_model(model_name, learning_rate, hidden_layers, hidden_units,\n",
        "                device=\"cpu\", max_epochs=1000):\n",
        "    # Data preparation\n",
        "    res, b_left, b_right, b_upper, b_lower = get_data([0, 1], [0, 1], 101, 101)\n",
        "    res_test, _, _, _, _ = get_data([0, 1], [0, 1], 101, 101)\n",
        "\n",
        "    # For PINNsFormer models, make time sequences\n",
        "    if model_name == 'PINNsFormer' or model_name == 'PINNsFormer_Enc_Only':\n",
        "        res = make_time_sequence(res, num_step=5, step=1e-4)\n",
        "        b_left = make_time_sequence(b_left, num_step=5, step=1e-4)\n",
        "        b_right = make_time_sequence(b_right, num_step=5, step=1e-4)\n",
        "        b_upper = make_time_sequence(b_upper, num_step=5, step=1e-4)\n",
        "        b_lower = make_time_sequence(b_lower, num_step=5, step=1e-4)\n",
        "\n",
        "    # Convert data to tensors\n",
        "    res = torch.tensor(res, dtype=torch.float32, requires_grad=True).to(device)\n",
        "    b_left = torch.tensor(b_left, dtype=torch.float32, requires_grad=True).to(device)\n",
        "    b_right = torch.tensor(b_right, dtype=torch.float32, requires_grad=True).to(device)\n",
        "    b_upper = torch.tensor(b_upper, dtype=torch.float32, requires_grad=True).to(device)\n",
        "    b_lower = torch.tensor(b_lower, dtype=torch.float32, requires_grad=True).to(device)\n",
        "\n",
        "    x_res, t_res = res[..., 0:1], res[..., 1:2]\n",
        "    x_left, t_left = b_left[..., 0:1], b_left[..., 1:2]\n",
        "    x_right, t_right = b_right[..., 0:1], b_right[..., 1:2]\n",
        "    x_upper, t_upper = b_upper[..., 0:1], b_upper[..., 1:2]\n",
        "    x_lower, t_lower = b_lower[..., 0:1], b_lower[..., 1:2]\n",
        "\n",
        "    # Initialize the model\n",
        "    ModelClass = get_model(model_name)\n",
        "    if model_name == 'KAN':\n",
        "        model = ModelClass(width=[2, 5, 5, 1], grid=5, k=3, grid_eps=1.0,\n",
        "                           noise_scale_base=0.25, device=device).to(device)\n",
        "    elif model_name == 'PINNsFormer' or model_name == 'PINNsFormer_Enc_Only':\n",
        "        model = ModelClass(in_dim=2, hidden_dim=32, out_dim=1, num_layer=1).to(device)\n",
        "    else:\n",
        "        model = ModelClass(in_dim=2, hidden_dim=hidden_units, out_dim=1,\n",
        "                           num_layer=hidden_layers).to(device)\n",
        "\n",
        "    # Initialize weights\n",
        "    def init_weights(m):\n",
        "        if isinstance(m, nn.Linear):\n",
        "            torch.nn.init.xavier_uniform_(m.weight)\n",
        "            if m.bias is not None:\n",
        "                m.bias.data.fill_(0.01)\n",
        "    model.apply(init_weights)\n",
        "\n",
        "    # Initialize the optimizer\n",
        "    optimizer = LBFGS(model.parameters(), lr=learning_rate, max_iter=20,\n",
        "                      history_size=50, line_search_fn='strong_wolfe')\n",
        "\n",
        "    # Initialize a list to store the loss values\n",
        "    loss_history = []\n",
        "    pi = torch.tensor(np.pi, dtype=torch.float32, requires_grad=False).to(device)\n",
        "\n",
        "    # Training loop\n",
        "    for epoch in tqdm(range(max_epochs)):\n",
        "        def closure():\n",
        "            optimizer.zero_grad()\n",
        "            pred_res = model(x_res, t_res)\n",
        "            pred_left = model(x_left, t_left)\n",
        "            pred_right = model(x_right, t_right)\n",
        "            pred_upper = model(x_upper, t_upper)\n",
        "            pred_lower = model(x_lower, t_lower)\n",
        "\n",
        "            u_x = torch.autograd.grad(pred_res, x_res, grad_outputs=torch.ones_like(pred_res),\n",
        "                                      retain_graph=True, create_graph=True)[0]\n",
        "            u_xx = torch.autograd.grad(u_x, x_res, grad_outputs=torch.ones_like(u_x),\n",
        "                                       retain_graph=True, create_graph=True)[0]\n",
        "            u_t = torch.autograd.grad(pred_res, t_res, grad_outputs=torch.ones_like(pred_res),\n",
        "                                      retain_graph=True, create_graph=True)[0]\n",
        "            u_tt = torch.autograd.grad(u_t, t_res, grad_outputs=torch.ones_like(u_t),\n",
        "                                       retain_graph=True, create_graph=True)[0]\n",
        "\n",
        "            loss_res = torch.mean((u_tt - 4 * u_xx) ** 2)\n",
        "            loss_bc = torch.mean((pred_upper) ** 2) + torch.mean((pred_lower) ** 2)\n",
        "\n",
        "            ui_t = torch.autograd.grad(pred_left, t_left, grad_outputs=torch.ones_like(pred_left),\n",
        "                                       retain_graph=True, create_graph=True)[0]\n",
        "\n",
        "            loss_ic_1 = torch.mean(\n",
        "                (pred_left[..., 0] - torch.sin(pi * x_left[..., 0]) - 0.5 * torch.sin(3 * pi * x_left[..., 0])) ** 2)\n",
        "            loss_ic_2 = torch.mean((ui_t) ** 2)\n",
        "\n",
        "            loss_ic = loss_ic_1 + loss_ic_2\n",
        "\n",
        "            loss = loss_res + loss_ic + loss_bc\n",
        "\n",
        "            # Append the loss value to the history\n",
        "            loss_history.append(loss.item())\n",
        "\n",
        "            loss.backward()\n",
        "            return loss\n",
        "\n",
        "        optimizer.step(closure)\n",
        "\n",
        "    # Retrieve the final loss value from the loss history\n",
        "    final_loss = loss_history[-1]\n",
        "\n",
        "    # Evaluation\n",
        "    with torch.no_grad():\n",
        "        if model_name == 'PINNsFormer' or model_name == 'PINNsFormer_Enc_Only':\n",
        "            res_test = make_time_sequence(res_test, num_step=5, step=1e-4)\n",
        "\n",
        "        res_test = torch.tensor(res_test, dtype=torch.float32).to(device)\n",
        "        x_test, t_test = res_test[..., 0:1], res_test[..., 1:2]\n",
        "        pred = model(x_test, t_test).cpu().detach().numpy()\n",
        "\n",
        "    pred = pred.reshape(101, 101)\n",
        "\n",
        "    # Analytical solution\n",
        "    def u_ana(x, t):\n",
        "        return np.sin(np.pi * x) * np.cos(2 * np.pi * t) + 0.5 * np.sin(3 * np.pi * x) * np.cos(6 * np.pi * t)\n",
        "\n",
        "    u = u_ana(res_test.cpu().numpy()[..., 0], res_test.cpu().numpy()[..., 1]).reshape(101, 101)\n",
        "\n",
        "    # Compute relative errors\n",
        "    rl1 = np.sum(np.abs(u - pred)) / np.sum(np.abs(u))\n",
        "    rl2 = np.sqrt(np.sum((u - pred) ** 2) / np.sum(u ** 2))\n",
        "\n",
        "    return final_loss, rl1, rl2\n",
        "\n",
        "def hyperparameter_search(models, param_grid, device=\"cpu\", max_epochs=1000):\n",
        "    # Create directories for saving results\n",
        "    results_dir = \"./results/wave_point_optimized_results\"\n",
        "    os.makedirs(results_dir, exist_ok=True)\n",
        "    results_file = os.path.join(results_dir, \"hyperparameter_search_results.csv\")\n",
        "\n",
        "    results = []\n",
        "\n",
        "    # Define hyperparameter keys\n",
        "    hyperparam_keys = [\"learning_rate\", \"hidden_layers\", \"hidden_units\"]\n",
        "    hyperparam_values = [param_grid[key] for key in hyperparam_keys]\n",
        "\n",
        "    # Generate hyperparameter combinations\n",
        "    hyperparam_combinations = list(itertools.product(*hyperparam_values))\n",
        "\n",
        "    for model_name in models:\n",
        "        print(f\"\\nTesting model: {model_name}\")\n",
        "        print(f\"Total hyperparameter combinations to test for {model_name}: {len(hyperparam_combinations)}\")\n",
        "\n",
        "        for idx, combination in enumerate(hyperparam_combinations):\n",
        "            hyperparams = dict(zip(hyperparam_keys, combination))\n",
        "\n",
        "            train_args = {\n",
        "                'model_name': model_name,\n",
        "                'learning_rate': hyperparams[\"learning_rate\"],\n",
        "                'hidden_layers': hyperparams[\"hidden_layers\"],\n",
        "                'hidden_units': hyperparams[\"hidden_units\"],\n",
        "                'device': device,\n",
        "                'max_epochs': max_epochs,\n",
        "            }\n",
        "\n",
        "            print(f\"\\nTesting combination {idx+1}/{len(hyperparam_combinations)} for model {model_name}: {hyperparams}\")\n",
        "            try:\n",
        "                start_time = time.time()\n",
        "                final_loss, rl1, rl2 = train_model(**train_args)\n",
        "                runtime = time.time() - start_time\n",
        "\n",
        "                results.append({\n",
        "                    \"model\": model_name,\n",
        "                    **hyperparams,\n",
        "                    \"final_loss\": final_loss,\n",
        "                    \"relative_L1_error\": rl1,\n",
        "                    \"relative_L2_error\": rl2,\n",
        "                    \"runtime_seconds\": runtime,\n",
        "                })\n",
        "                print(f\"Model: {model_name}, Final Loss: {final_loss:.6f}, \"\n",
        "                      f\"Relative L1 Error: {rl1:.6f}, Relative L2 Error: {rl2:.6f}\")\n",
        "\n",
        "            except Exception as e:\n",
        "                print(f\"Error with combination {hyperparams} for model {model_name}: {e}\")\n",
        "                results.append({\n",
        "                    \"model\": model_name,\n",
        "                    **hyperparams,\n",
        "                    \"final_loss\": None,\n",
        "                    \"relative_L1_error\": None,\n",
        "                    \"relative_L2_error\": None,\n",
        "                    \"runtime_seconds\": None,\n",
        "                })\n",
        "\n",
        "    results_df = pd.DataFrame(results)\n",
        "    results_df.to_csv(results_file, index=False)\n",
        "    print(f\"\\nResults saved to {results_file}\")\n",
        "    return results_df\n",
        "\n",
        "if __name__ == \"__main__\":\n",
        "    param_grid = {\n",
        "        \"learning_rate\": [0.0001],\n",
        "        \"hidden_layers\": [2, 4],\n",
        "        \"hidden_units\": [128, 256, 512, 1024],\n",
        "    }\n",
        "    # List of models to test\n",
        "    #models = [\"PINN\", \"QRes\", \"FLS\", \"KAN\", \"PINNsFormer\", \"PINNsFormer_Enc_Only\"]\n",
        "    models = [\"PINN\"]\n",
        "    results = hyperparameter_search(models=models, param_grid=param_grid, device=\"cuda\", max_epochs=1000)\n"
      ]
    },
    {
      "cell_type": "markdown",
      "source": [
        "## 1-D Wave Region"
      ],
      "metadata": {
        "id": "qvG9be7VpdyW"
      }
    },
    {
      "cell_type": "code",
      "execution_count": null,
      "metadata": {
        "colab": {
          "base_uri": "https://localhost:8080/"
        },
        "id": "UvemYJIUd17G",
        "outputId": "ff261f8b-a44c-4583-af00-5382d298482f"
      },
      "outputs": [
        {
          "name": "stdout",
          "output_type": "stream",
          "text": [
            "Using device: cuda\n",
            "\n",
            "Testing model: PINN\n",
            "Total hyperparameter combinations: 64\n",
            "\n",
            "Testing combination 1/64: {'learning_rate': 0.0001, 'hidden_layers': 2, 'hidden_units': 512, 'initial_region': 0.0001, 'sample_num': 1, 'past_iterations': 5}\n"
          ]
        },
        {
          "name": "stderr",
          "output_type": "stream",
          "text": [
            "100%|██████████| 500/500 [00:59<00:00,  8.35it/s]\n"
          ]
        },
        {
          "name": "stdout",
          "output_type": "stream",
          "text": [
            "Model: PINN, Final Loss: 0.145970, L1 Error: 0.804167, L2 Error: 0.799022\n",
            "\n",
            "Testing combination 2/64: {'learning_rate': 0.0001, 'hidden_layers': 2, 'hidden_units': 512, 'initial_region': 0.0001, 'sample_num': 1, 'past_iterations': 10}\n"
          ]
        },
        {
          "name": "stderr",
          "output_type": "stream",
          "text": [
            "100%|██████████| 500/500 [00:48<00:00, 10.23it/s]\n"
          ]
        },
        {
          "name": "stdout",
          "output_type": "stream",
          "text": [
            "Model: PINN, Final Loss: 0.147139, L1 Error: 0.815592, L2 Error: 0.810879\n",
            "\n",
            "Testing combination 3/64: {'learning_rate': 0.0001, 'hidden_layers': 2, 'hidden_units': 512, 'initial_region': 0.0001, 'sample_num': 5, 'past_iterations': 5}\n"
          ]
        },
        {
          "name": "stderr",
          "output_type": "stream",
          "text": [
            "100%|██████████| 500/500 [02:35<00:00,  3.22it/s]\n"
          ]
        },
        {
          "name": "stdout",
          "output_type": "stream",
          "text": [
            "Model: PINN, Final Loss: 0.098252, L1 Error: 0.527900, L2 Error: 0.518251\n",
            "\n",
            "Testing combination 4/64: {'learning_rate': 0.0001, 'hidden_layers': 2, 'hidden_units': 512, 'initial_region': 0.0001, 'sample_num': 5, 'past_iterations': 10}\n"
          ]
        },
        {
          "name": "stderr",
          "output_type": "stream",
          "text": [
            "100%|██████████| 500/500 [02:27<00:00,  3.39it/s]\n"
          ]
        },
        {
          "name": "stdout",
          "output_type": "stream",
          "text": [
            "Model: PINN, Final Loss: 0.142743, L1 Error: 0.783840, L2 Error: 0.777953\n",
            "\n",
            "Testing combination 5/64: {'learning_rate': 0.0001, 'hidden_layers': 2, 'hidden_units': 512, 'initial_region': 0.001, 'sample_num': 1, 'past_iterations': 5}\n"
          ]
        },
        {
          "name": "stderr",
          "output_type": "stream",
          "text": [
            "100%|██████████| 500/500 [01:05<00:00,  7.67it/s]\n"
          ]
        },
        {
          "name": "stdout",
          "output_type": "stream",
          "text": [
            "Model: PINN, Final Loss: 0.274975, L1 Error: 1.144612, L2 Error: 1.122331\n",
            "\n",
            "Testing combination 6/64: {'learning_rate': 0.0001, 'hidden_layers': 2, 'hidden_units': 512, 'initial_region': 0.001, 'sample_num': 1, 'past_iterations': 10}\n"
          ]
        },
        {
          "name": "stderr",
          "output_type": "stream",
          "text": [
            "100%|██████████| 500/500 [00:52<00:00,  9.45it/s]\n"
          ]
        },
        {
          "name": "stdout",
          "output_type": "stream",
          "text": [
            "Model: PINN, Final Loss: 0.306793, L1 Error: 1.191621, L2 Error: 1.166194\n",
            "\n",
            "Testing combination 7/64: {'learning_rate': 0.0001, 'hidden_layers': 2, 'hidden_units': 512, 'initial_region': 0.001, 'sample_num': 5, 'past_iterations': 5}\n"
          ]
        },
        {
          "name": "stderr",
          "output_type": "stream",
          "text": [
            "100%|██████████| 500/500 [01:27<00:00,  5.68it/s]\n"
          ]
        },
        {
          "name": "stdout",
          "output_type": "stream",
          "text": [
            "Model: PINN, Final Loss: 0.308291, L1 Error: 1.194484, L2 Error: 1.168649\n",
            "\n",
            "Testing combination 8/64: {'learning_rate': 0.0001, 'hidden_layers': 2, 'hidden_units': 512, 'initial_region': 0.001, 'sample_num': 5, 'past_iterations': 10}\n"
          ]
        },
        {
          "name": "stderr",
          "output_type": "stream",
          "text": [
            "100%|██████████| 500/500 [02:31<00:00,  3.30it/s]\n"
          ]
        },
        {
          "name": "stdout",
          "output_type": "stream",
          "text": [
            "Model: PINN, Final Loss: 0.181605, L1 Error: 0.893081, L2 Error: 0.881714\n",
            "\n",
            "Testing combination 9/64: {'learning_rate': 0.0001, 'hidden_layers': 2, 'hidden_units': 1024, 'initial_region': 0.0001, 'sample_num': 1, 'past_iterations': 5}\n"
          ]
        },
        {
          "name": "stderr",
          "output_type": "stream",
          "text": [
            "100%|██████████| 500/500 [00:49<00:00, 10.15it/s]\n"
          ]
        },
        {
          "name": "stdout",
          "output_type": "stream",
          "text": [
            "Model: PINN, Final Loss: 0.308212, L1 Error: 1.195561, L2 Error: 1.169552\n",
            "\n",
            "Testing combination 10/64: {'learning_rate': 0.0001, 'hidden_layers': 2, 'hidden_units': 1024, 'initial_region': 0.0001, 'sample_num': 1, 'past_iterations': 10}\n"
          ]
        },
        {
          "name": "stderr",
          "output_type": "stream",
          "text": [
            "100%|██████████| 500/500 [01:15<00:00,  6.65it/s]\n"
          ]
        },
        {
          "name": "stdout",
          "output_type": "stream",
          "text": [
            "Model: PINN, Final Loss: 0.147955, L1 Error: 0.819937, L2 Error: 0.814760\n",
            "\n",
            "Testing combination 11/64: {'learning_rate': 0.0001, 'hidden_layers': 2, 'hidden_units': 1024, 'initial_region': 0.0001, 'sample_num': 5, 'past_iterations': 5}\n"
          ]
        },
        {
          "name": "stderr",
          "output_type": "stream",
          "text": [
            "100%|██████████| 500/500 [03:51<00:00,  2.16it/s]\n"
          ]
        },
        {
          "name": "stdout",
          "output_type": "stream",
          "text": [
            "Model: PINN, Final Loss: 0.148582, L1 Error: 0.817267, L2 Error: 0.811171\n",
            "\n",
            "Testing combination 12/64: {'learning_rate': 0.0001, 'hidden_layers': 2, 'hidden_units': 1024, 'initial_region': 0.0001, 'sample_num': 5, 'past_iterations': 10}\n"
          ]
        },
        {
          "name": "stderr",
          "output_type": "stream",
          "text": [
            "100%|██████████| 500/500 [04:46<00:00,  1.75it/s]\n"
          ]
        },
        {
          "name": "stdout",
          "output_type": "stream",
          "text": [
            "Model: PINN, Final Loss: 0.142634, L1 Error: 0.788673, L2 Error: 0.783303\n",
            "\n",
            "Testing combination 13/64: {'learning_rate': 0.0001, 'hidden_layers': 2, 'hidden_units': 1024, 'initial_region': 0.001, 'sample_num': 1, 'past_iterations': 5}\n"
          ]
        },
        {
          "name": "stderr",
          "output_type": "stream",
          "text": [
            "100%|██████████| 500/500 [01:08<00:00,  7.32it/s]\n"
          ]
        },
        {
          "name": "stdout",
          "output_type": "stream",
          "text": [
            "Model: PINN, Final Loss: 0.308485, L1 Error: 1.193509, L2 Error: 1.167632\n",
            "\n",
            "Testing combination 14/64: {'learning_rate': 0.0001, 'hidden_layers': 2, 'hidden_units': 1024, 'initial_region': 0.001, 'sample_num': 1, 'past_iterations': 10}\n"
          ]
        },
        {
          "name": "stderr",
          "output_type": "stream",
          "text": [
            "100%|██████████| 500/500 [01:00<00:00,  8.21it/s]\n"
          ]
        },
        {
          "name": "stdout",
          "output_type": "stream",
          "text": [
            "Model: PINN, Final Loss: 0.311629, L1 Error: 1.191716, L2 Error: 1.165790\n",
            "\n",
            "Testing combination 15/64: {'learning_rate': 0.0001, 'hidden_layers': 2, 'hidden_units': 1024, 'initial_region': 0.001, 'sample_num': 5, 'past_iterations': 5}\n"
          ]
        },
        {
          "name": "stderr",
          "output_type": "stream",
          "text": [
            "100%|██████████| 500/500 [04:01<00:00,  2.07it/s]\n"
          ]
        },
        {
          "name": "stdout",
          "output_type": "stream",
          "text": [
            "Model: PINN, Final Loss: 0.191515, L1 Error: 0.976254, L2 Error: 0.961450\n",
            "\n",
            "Testing combination 16/64: {'learning_rate': 0.0001, 'hidden_layers': 2, 'hidden_units': 1024, 'initial_region': 0.001, 'sample_num': 5, 'past_iterations': 10}\n"
          ]
        },
        {
          "name": "stderr",
          "output_type": "stream",
          "text": [
            "100%|██████████| 500/500 [03:52<00:00,  2.15it/s]\n"
          ]
        },
        {
          "name": "stdout",
          "output_type": "stream",
          "text": [
            "Model: PINN, Final Loss: 0.187527, L1 Error: 0.954231, L2 Error: 0.940922\n",
            "\n",
            "Testing combination 17/64: {'learning_rate': 0.0001, 'hidden_layers': 4, 'hidden_units': 512, 'initial_region': 0.0001, 'sample_num': 1, 'past_iterations': 5}\n"
          ]
        },
        {
          "name": "stderr",
          "output_type": "stream",
          "text": [
            "100%|██████████| 500/500 [03:46<00:00,  2.21it/s]\n"
          ]
        },
        {
          "name": "stdout",
          "output_type": "stream",
          "text": [
            "Model: PINN, Final Loss: 0.170912, L1 Error: 0.848292, L2 Error: 0.831913\n",
            "\n",
            "Testing combination 18/64: {'learning_rate': 0.0001, 'hidden_layers': 4, 'hidden_units': 512, 'initial_region': 0.0001, 'sample_num': 1, 'past_iterations': 10}\n"
          ]
        },
        {
          "name": "stderr",
          "output_type": "stream",
          "text": [
            "100%|██████████| 500/500 [03:41<00:00,  2.26it/s]\n"
          ]
        },
        {
          "name": "stdout",
          "output_type": "stream",
          "text": [
            "Model: PINN, Final Loss: 0.160049, L1 Error: 0.818250, L2 Error: 0.804376\n",
            "\n",
            "Testing combination 19/64: {'learning_rate': 0.0001, 'hidden_layers': 4, 'hidden_units': 512, 'initial_region': 0.0001, 'sample_num': 5, 'past_iterations': 5}\n"
          ]
        },
        {
          "name": "stderr",
          "output_type": "stream",
          "text": [
            "100%|██████████| 500/500 [13:48<00:00,  1.66s/it]\n"
          ]
        },
        {
          "name": "stdout",
          "output_type": "stream",
          "text": [
            "Model: PINN, Final Loss: 0.140303, L1 Error: 0.778788, L2 Error: 0.773269\n",
            "\n",
            "Testing combination 20/64: {'learning_rate': 0.0001, 'hidden_layers': 4, 'hidden_units': 512, 'initial_region': 0.0001, 'sample_num': 5, 'past_iterations': 10}\n"
          ]
        },
        {
          "name": "stderr",
          "output_type": "stream",
          "text": [
            "100%|██████████| 500/500 [17:05<00:00,  2.05s/it]\n"
          ]
        },
        {
          "name": "stdout",
          "output_type": "stream",
          "text": [
            "Model: PINN, Final Loss: 0.130479, L1 Error: 0.728826, L2 Error: 0.725891\n",
            "\n",
            "Testing combination 21/64: {'learning_rate': 0.0001, 'hidden_layers': 4, 'hidden_units': 512, 'initial_region': 0.001, 'sample_num': 1, 'past_iterations': 5}\n"
          ]
        },
        {
          "name": "stderr",
          "output_type": "stream",
          "text": [
            "100%|██████████| 500/500 [03:10<00:00,  2.62it/s]\n"
          ]
        },
        {
          "name": "stdout",
          "output_type": "stream",
          "text": [
            "Model: PINN, Final Loss: 0.303811, L1 Error: 1.187804, L2 Error: 1.163015\n",
            "\n",
            "Testing combination 22/64: {'learning_rate': 0.0001, 'hidden_layers': 4, 'hidden_units': 512, 'initial_region': 0.001, 'sample_num': 1, 'past_iterations': 10}\n"
          ]
        },
        {
          "name": "stderr",
          "output_type": "stream",
          "text": [
            "100%|██████████| 500/500 [03:06<00:00,  2.68it/s]\n"
          ]
        },
        {
          "name": "stdout",
          "output_type": "stream",
          "text": [
            "Model: PINN, Final Loss: 0.327577, L1 Error: 1.165391, L2 Error: 1.139813\n",
            "\n",
            "Testing combination 23/64: {'learning_rate': 0.0001, 'hidden_layers': 4, 'hidden_units': 512, 'initial_region': 0.001, 'sample_num': 5, 'past_iterations': 5}\n"
          ]
        },
        {
          "name": "stderr",
          "output_type": "stream",
          "text": [
            "100%|██████████| 500/500 [11:42<00:00,  1.40s/it]\n"
          ]
        },
        {
          "name": "stdout",
          "output_type": "stream",
          "text": [
            "Model: PINN, Final Loss: 0.204284, L1 Error: 0.936734, L2 Error: 0.915877\n",
            "\n",
            "Testing combination 24/64: {'learning_rate': 0.0001, 'hidden_layers': 4, 'hidden_units': 512, 'initial_region': 0.001, 'sample_num': 5, 'past_iterations': 10}\n"
          ]
        },
        {
          "name": "stderr",
          "output_type": "stream",
          "text": [
            "100%|██████████| 500/500 [13:12<00:00,  1.59s/it]\n"
          ]
        },
        {
          "name": "stdout",
          "output_type": "stream",
          "text": [
            "Model: PINN, Final Loss: 0.174969, L1 Error: 0.887297, L2 Error: 0.869183\n",
            "\n",
            "Testing combination 25/64: {'learning_rate': 0.0001, 'hidden_layers': 4, 'hidden_units': 1024, 'initial_region': 0.0001, 'sample_num': 1, 'past_iterations': 5}\n"
          ]
        },
        {
          "name": "stderr",
          "output_type": "stream",
          "text": [
            "100%|██████████| 500/500 [08:35<00:00,  1.03s/it]\n"
          ]
        },
        {
          "name": "stdout",
          "output_type": "stream",
          "text": [
            "Model: PINN, Final Loss: 0.154099, L1 Error: 0.816548, L2 Error: 0.804143\n",
            "\n",
            "Testing combination 26/64: {'learning_rate': 0.0001, 'hidden_layers': 4, 'hidden_units': 1024, 'initial_region': 0.0001, 'sample_num': 1, 'past_iterations': 10}\n"
          ]
        },
        {
          "name": "stderr",
          "output_type": "stream",
          "text": [
            "100%|██████████| 500/500 [10:49<00:00,  1.30s/it]\n"
          ]
        },
        {
          "name": "stdout",
          "output_type": "stream",
          "text": [
            "Model: PINN, Final Loss: 0.148760, L1 Error: 0.805152, L2 Error: 0.794016\n",
            "\n",
            "Testing combination 27/64: {'learning_rate': 0.0001, 'hidden_layers': 4, 'hidden_units': 1024, 'initial_region': 0.0001, 'sample_num': 5, 'past_iterations': 5}\n"
          ]
        },
        {
          "name": "stderr",
          "output_type": "stream",
          "text": [
            "  0%|          | 0/500 [00:00<?, ?it/s]\n"
          ]
        },
        {
          "name": "stdout",
          "output_type": "stream",
          "text": [
            "Error with combo {'learning_rate': 0.0001, 'hidden_layers': 4, 'hidden_units': 1024, 'initial_region': 0.0001, 'sample_num': 5, 'past_iterations': 5}: CUDA out of memory. Tried to allocate 400.00 MiB. GPU 0 has a total capacity of 39.56 GiB of which 188.81 MiB is free. Process 52766 has 39.37 GiB memory in use. Of the allocated memory 38.30 GiB is allocated by PyTorch, and 586.28 MiB is reserved by PyTorch but unallocated. If reserved but unallocated memory is large try setting PYTORCH_CUDA_ALLOC_CONF=expandable_segments:True to avoid fragmentation.  See documentation for Memory Management  (https://pytorch.org/docs/stable/notes/cuda.html#environment-variables)\n",
            "\n",
            "Testing combination 28/64: {'learning_rate': 0.0001, 'hidden_layers': 4, 'hidden_units': 1024, 'initial_region': 0.0001, 'sample_num': 5, 'past_iterations': 10}\n"
          ]
        },
        {
          "name": "stderr",
          "output_type": "stream",
          "text": [
            "  0%|          | 0/500 [00:00<?, ?it/s]\n"
          ]
        },
        {
          "name": "stdout",
          "output_type": "stream",
          "text": [
            "Error with combo {'learning_rate': 0.0001, 'hidden_layers': 4, 'hidden_units': 1024, 'initial_region': 0.0001, 'sample_num': 5, 'past_iterations': 10}: CUDA out of memory. Tried to allocate 400.00 MiB. GPU 0 has a total capacity of 39.56 GiB of which 188.81 MiB is free. Process 52766 has 39.37 GiB memory in use. Of the allocated memory 38.30 GiB is allocated by PyTorch, and 586.28 MiB is reserved by PyTorch but unallocated. If reserved but unallocated memory is large try setting PYTORCH_CUDA_ALLOC_CONF=expandable_segments:True to avoid fragmentation.  See documentation for Memory Management  (https://pytorch.org/docs/stable/notes/cuda.html#environment-variables)\n",
            "\n",
            "Testing combination 29/64: {'learning_rate': 0.0001, 'hidden_layers': 4, 'hidden_units': 1024, 'initial_region': 0.001, 'sample_num': 1, 'past_iterations': 5}\n"
          ]
        },
        {
          "name": "stderr",
          "output_type": "stream",
          "text": [
            "100%|██████████| 500/500 [08:24<00:00,  1.01s/it]\n"
          ]
        },
        {
          "name": "stdout",
          "output_type": "stream",
          "text": [
            "Model: PINN, Final Loss: 0.313141, L1 Error: 1.197339, L2 Error: 1.171864\n",
            "\n",
            "Testing combination 30/64: {'learning_rate': 0.0001, 'hidden_layers': 4, 'hidden_units': 1024, 'initial_region': 0.001, 'sample_num': 1, 'past_iterations': 10}\n"
          ]
        },
        {
          "name": "stderr",
          "output_type": "stream",
          "text": [
            "100%|██████████| 500/500 [09:56<00:00,  1.19s/it]\n"
          ]
        },
        {
          "name": "stdout",
          "output_type": "stream",
          "text": [
            "Model: PINN, Final Loss: 0.196554, L1 Error: 0.939120, L2 Error: 0.918086\n",
            "\n",
            "Testing combination 31/64: {'learning_rate': 0.0001, 'hidden_layers': 4, 'hidden_units': 1024, 'initial_region': 0.001, 'sample_num': 5, 'past_iterations': 5}\n"
          ]
        },
        {
          "name": "stderr",
          "output_type": "stream",
          "text": [
            "  0%|          | 0/500 [00:00<?, ?it/s]\n"
          ]
        },
        {
          "name": "stdout",
          "output_type": "stream",
          "text": [
            "Error with combo {'learning_rate': 0.0001, 'hidden_layers': 4, 'hidden_units': 1024, 'initial_region': 0.001, 'sample_num': 5, 'past_iterations': 5}: CUDA out of memory. Tried to allocate 400.00 MiB. GPU 0 has a total capacity of 39.56 GiB of which 188.81 MiB is free. Process 52766 has 39.37 GiB memory in use. Of the allocated memory 38.30 GiB is allocated by PyTorch, and 586.28 MiB is reserved by PyTorch but unallocated. If reserved but unallocated memory is large try setting PYTORCH_CUDA_ALLOC_CONF=expandable_segments:True to avoid fragmentation.  See documentation for Memory Management  (https://pytorch.org/docs/stable/notes/cuda.html#environment-variables)\n",
            "\n",
            "Testing combination 32/64: {'learning_rate': 0.0001, 'hidden_layers': 4, 'hidden_units': 1024, 'initial_region': 0.001, 'sample_num': 5, 'past_iterations': 10}\n"
          ]
        },
        {
          "name": "stderr",
          "output_type": "stream",
          "text": [
            "  0%|          | 0/500 [00:00<?, ?it/s]\n"
          ]
        },
        {
          "name": "stdout",
          "output_type": "stream",
          "text": [
            "Error with combo {'learning_rate': 0.0001, 'hidden_layers': 4, 'hidden_units': 1024, 'initial_region': 0.001, 'sample_num': 5, 'past_iterations': 10}: CUDA out of memory. Tried to allocate 400.00 MiB. GPU 0 has a total capacity of 39.56 GiB of which 188.81 MiB is free. Process 52766 has 39.37 GiB memory in use. Of the allocated memory 38.30 GiB is allocated by PyTorch, and 586.28 MiB is reserved by PyTorch but unallocated. If reserved but unallocated memory is large try setting PYTORCH_CUDA_ALLOC_CONF=expandable_segments:True to avoid fragmentation.  See documentation for Memory Management  (https://pytorch.org/docs/stable/notes/cuda.html#environment-variables)\n",
            "\n",
            "Testing combination 33/64: {'learning_rate': 0.001, 'hidden_layers': 2, 'hidden_units': 512, 'initial_region': 0.0001, 'sample_num': 1, 'past_iterations': 5}\n"
          ]
        },
        {
          "name": "stderr",
          "output_type": "stream",
          "text": [
            "100%|██████████| 500/500 [01:36<00:00,  5.19it/s]\n"
          ]
        },
        {
          "name": "stdout",
          "output_type": "stream",
          "text": [
            "Model: PINN, Final Loss: 0.092297, L1 Error: 0.499171, L2 Error: 0.488620\n",
            "\n",
            "Testing combination 34/64: {'learning_rate': 0.001, 'hidden_layers': 2, 'hidden_units': 512, 'initial_region': 0.0001, 'sample_num': 1, 'past_iterations': 10}\n"
          ]
        },
        {
          "name": "stderr",
          "output_type": "stream",
          "text": [
            "100%|██████████| 500/500 [02:24<00:00,  3.46it/s]\n"
          ]
        },
        {
          "name": "stdout",
          "output_type": "stream",
          "text": [
            "Model: PINN, Final Loss: 0.056496, L1 Error: 0.444158, L2 Error: 0.436084\n",
            "\n",
            "Testing combination 35/64: {'learning_rate': 0.001, 'hidden_layers': 2, 'hidden_units': 512, 'initial_region': 0.0001, 'sample_num': 5, 'past_iterations': 5}\n"
          ]
        },
        {
          "name": "stderr",
          "output_type": "stream",
          "text": [
            "100%|██████████| 500/500 [03:40<00:00,  2.26it/s]\n"
          ]
        },
        {
          "name": "stdout",
          "output_type": "stream",
          "text": [
            "Model: PINN, Final Loss: 0.094184, L1 Error: 0.510839, L2 Error: 0.500312\n",
            "\n",
            "Testing combination 36/64: {'learning_rate': 0.001, 'hidden_layers': 2, 'hidden_units': 512, 'initial_region': 0.0001, 'sample_num': 5, 'past_iterations': 10}\n"
          ]
        },
        {
          "name": "stderr",
          "output_type": "stream",
          "text": [
            "100%|██████████| 500/500 [04:10<00:00,  2.00it/s]\n"
          ]
        },
        {
          "name": "stdout",
          "output_type": "stream",
          "text": [
            "Model: PINN, Final Loss: 0.039699, L1 Error: 0.417811, L2 Error: 0.416699\n",
            "\n",
            "Testing combination 37/64: {'learning_rate': 0.001, 'hidden_layers': 2, 'hidden_units': 512, 'initial_region': 0.001, 'sample_num': 1, 'past_iterations': 5}\n"
          ]
        },
        {
          "name": "stderr",
          "output_type": "stream",
          "text": [
            "100%|██████████| 500/500 [01:08<00:00,  7.35it/s]\n"
          ]
        },
        {
          "name": "stdout",
          "output_type": "stream",
          "text": [
            "Model: PINN, Final Loss: 0.144096, L1 Error: 0.793453, L2 Error: 0.787512\n",
            "\n",
            "Testing combination 38/64: {'learning_rate': 0.001, 'hidden_layers': 2, 'hidden_units': 512, 'initial_region': 0.001, 'sample_num': 1, 'past_iterations': 10}\n"
          ]
        },
        {
          "name": "stderr",
          "output_type": "stream",
          "text": [
            "100%|██████████| 500/500 [01:28<00:00,  5.64it/s]\n"
          ]
        },
        {
          "name": "stdout",
          "output_type": "stream",
          "text": [
            "Model: PINN, Final Loss: 0.094165, L1 Error: 0.517762, L2 Error: 0.507874\n",
            "\n",
            "Testing combination 39/64: {'learning_rate': 0.001, 'hidden_layers': 2, 'hidden_units': 512, 'initial_region': 0.001, 'sample_num': 5, 'past_iterations': 5}\n"
          ]
        },
        {
          "name": "stderr",
          "output_type": "stream",
          "text": [
            "100%|██████████| 500/500 [03:12<00:00,  2.60it/s]\n"
          ]
        },
        {
          "name": "stdout",
          "output_type": "stream",
          "text": [
            "Model: PINN, Final Loss: 0.096339, L1 Error: 0.508530, L2 Error: 0.499155\n",
            "\n",
            "Testing combination 40/64: {'learning_rate': 0.001, 'hidden_layers': 2, 'hidden_units': 512, 'initial_region': 0.001, 'sample_num': 5, 'past_iterations': 10}\n"
          ]
        },
        {
          "name": "stderr",
          "output_type": "stream",
          "text": [
            "100%|██████████| 500/500 [03:28<00:00,  2.39it/s]\n"
          ]
        },
        {
          "name": "stdout",
          "output_type": "stream",
          "text": [
            "Model: PINN, Final Loss: 0.113511, L1 Error: 0.616137, L2 Error: 0.612943\n",
            "\n",
            "Testing combination 41/64: {'learning_rate': 0.001, 'hidden_layers': 2, 'hidden_units': 1024, 'initial_region': 0.0001, 'sample_num': 1, 'past_iterations': 5}\n"
          ]
        },
        {
          "name": "stderr",
          "output_type": "stream",
          "text": [
            "100%|██████████| 500/500 [01:55<00:00,  4.33it/s]\n"
          ]
        },
        {
          "name": "stdout",
          "output_type": "stream",
          "text": [
            "Model: PINN, Final Loss: 0.094897, L1 Error: 0.502681, L2 Error: 0.492923\n",
            "\n",
            "Testing combination 42/64: {'learning_rate': 0.001, 'hidden_layers': 2, 'hidden_units': 1024, 'initial_region': 0.0001, 'sample_num': 1, 'past_iterations': 10}\n"
          ]
        },
        {
          "name": "stderr",
          "output_type": "stream",
          "text": [
            "100%|██████████| 500/500 [02:11<00:00,  3.80it/s]\n"
          ]
        },
        {
          "name": "stdout",
          "output_type": "stream",
          "text": [
            "Model: PINN, Final Loss: 0.094150, L1 Error: 0.504622, L2 Error: 0.493513\n",
            "\n",
            "Testing combination 43/64: {'learning_rate': 0.001, 'hidden_layers': 2, 'hidden_units': 1024, 'initial_region': 0.0001, 'sample_num': 5, 'past_iterations': 5}\n"
          ]
        },
        {
          "name": "stderr",
          "output_type": "stream",
          "text": [
            "100%|██████████| 500/500 [09:05<00:00,  1.09s/it]\n"
          ]
        },
        {
          "name": "stdout",
          "output_type": "stream",
          "text": [
            "Model: PINN, Final Loss: 0.067608, L1 Error: 0.468388, L2 Error: 0.458290\n",
            "\n",
            "Testing combination 44/64: {'learning_rate': 0.001, 'hidden_layers': 2, 'hidden_units': 1024, 'initial_region': 0.0001, 'sample_num': 5, 'past_iterations': 10}\n"
          ]
        },
        {
          "name": "stderr",
          "output_type": "stream",
          "text": [
            "100%|██████████| 500/500 [05:29<00:00,  1.52it/s]\n"
          ]
        },
        {
          "name": "stdout",
          "output_type": "stream",
          "text": [
            "Model: PINN, Final Loss: 0.094517, L1 Error: 0.501805, L2 Error: 0.491829\n",
            "\n",
            "Testing combination 45/64: {'learning_rate': 0.001, 'hidden_layers': 2, 'hidden_units': 1024, 'initial_region': 0.001, 'sample_num': 1, 'past_iterations': 5}\n"
          ]
        },
        {
          "name": "stderr",
          "output_type": "stream",
          "text": [
            "100%|██████████| 500/500 [01:40<00:00,  4.95it/s]\n"
          ]
        },
        {
          "name": "stdout",
          "output_type": "stream",
          "text": [
            "Model: PINN, Final Loss: 0.138312, L1 Error: 0.761383, L2 Error: 0.754483\n",
            "\n",
            "Testing combination 46/64: {'learning_rate': 0.001, 'hidden_layers': 2, 'hidden_units': 1024, 'initial_region': 0.001, 'sample_num': 1, 'past_iterations': 10}\n"
          ]
        },
        {
          "name": "stderr",
          "output_type": "stream",
          "text": [
            "100%|██████████| 500/500 [01:55<00:00,  4.33it/s]\n"
          ]
        },
        {
          "name": "stdout",
          "output_type": "stream",
          "text": [
            "Model: PINN, Final Loss: 0.127804, L1 Error: 0.703842, L2 Error: 0.697216\n",
            "\n",
            "Testing combination 47/64: {'learning_rate': 0.001, 'hidden_layers': 2, 'hidden_units': 1024, 'initial_region': 0.001, 'sample_num': 5, 'past_iterations': 5}\n"
          ]
        },
        {
          "name": "stderr",
          "output_type": "stream",
          "text": [
            "100%|██████████| 500/500 [05:14<00:00,  1.59it/s]\n"
          ]
        },
        {
          "name": "stdout",
          "output_type": "stream",
          "text": [
            "Model: PINN, Final Loss: 0.119071, L1 Error: 0.650634, L2 Error: 0.647412\n",
            "\n",
            "Testing combination 48/64: {'learning_rate': 0.001, 'hidden_layers': 2, 'hidden_units': 1024, 'initial_region': 0.001, 'sample_num': 5, 'past_iterations': 10}\n"
          ]
        },
        {
          "name": "stderr",
          "output_type": "stream",
          "text": [
            "100%|██████████| 500/500 [06:06<00:00,  1.36it/s]\n"
          ]
        },
        {
          "name": "stdout",
          "output_type": "stream",
          "text": [
            "Model: PINN, Final Loss: 0.099642, L1 Error: 0.526913, L2 Error: 0.517979\n",
            "\n",
            "Testing combination 49/64: {'learning_rate': 0.001, 'hidden_layers': 4, 'hidden_units': 512, 'initial_region': 0.0001, 'sample_num': 1, 'past_iterations': 5}\n"
          ]
        },
        {
          "name": "stderr",
          "output_type": "stream",
          "text": [
            "100%|██████████| 500/500 [06:49<00:00,  1.22it/s]\n"
          ]
        },
        {
          "name": "stdout",
          "output_type": "stream",
          "text": [
            "Model: PINN, Final Loss: 0.047825, L1 Error: 0.416608, L2 Error: 0.422307\n",
            "\n",
            "Testing combination 50/64: {'learning_rate': 0.001, 'hidden_layers': 4, 'hidden_units': 512, 'initial_region': 0.0001, 'sample_num': 1, 'past_iterations': 10}\n"
          ]
        },
        {
          "name": "stderr",
          "output_type": "stream",
          "text": [
            "100%|██████████| 500/500 [06:41<00:00,  1.24it/s]\n"
          ]
        },
        {
          "name": "stdout",
          "output_type": "stream",
          "text": [
            "Model: PINN, Final Loss: 0.080731, L1 Error: 0.533769, L2 Error: 0.541162\n",
            "\n",
            "Testing combination 51/64: {'learning_rate': 0.001, 'hidden_layers': 4, 'hidden_units': 512, 'initial_region': 0.0001, 'sample_num': 5, 'past_iterations': 5}\n"
          ]
        },
        {
          "name": "stderr",
          "output_type": "stream",
          "text": [
            "100%|██████████| 500/500 [29:00<00:00,  3.48s/it]\n"
          ]
        },
        {
          "name": "stdout",
          "output_type": "stream",
          "text": [
            "Model: PINN, Final Loss: 0.036076, L1 Error: 0.375545, L2 Error: 0.376653\n",
            "\n",
            "Testing combination 52/64: {'learning_rate': 0.001, 'hidden_layers': 4, 'hidden_units': 512, 'initial_region': 0.0001, 'sample_num': 5, 'past_iterations': 10}\n"
          ]
        },
        {
          "name": "stderr",
          "output_type": "stream",
          "text": [
            "100%|██████████| 500/500 [27:29<00:00,  3.30s/it]\n"
          ]
        },
        {
          "name": "stdout",
          "output_type": "stream",
          "text": [
            "Model: PINN, Final Loss: 0.039638, L1 Error: 0.371326, L2 Error: 0.371397\n",
            "\n",
            "Testing combination 53/64: {'learning_rate': 0.001, 'hidden_layers': 4, 'hidden_units': 512, 'initial_region': 0.001, 'sample_num': 1, 'past_iterations': 5}\n"
          ]
        },
        {
          "name": "stderr",
          "output_type": "stream",
          "text": [
            "100%|██████████| 500/500 [03:26<00:00,  2.42it/s]\n"
          ]
        },
        {
          "name": "stdout",
          "output_type": "stream",
          "text": [
            "Model: PINN, Final Loss: 0.145910, L1 Error: 0.790648, L2 Error: 0.780684\n",
            "\n",
            "Testing combination 54/64: {'learning_rate': 0.001, 'hidden_layers': 4, 'hidden_units': 512, 'initial_region': 0.001, 'sample_num': 1, 'past_iterations': 10}\n"
          ]
        },
        {
          "name": "stderr",
          "output_type": "stream",
          "text": [
            "100%|██████████| 500/500 [03:29<00:00,  2.39it/s]\n"
          ]
        },
        {
          "name": "stdout",
          "output_type": "stream",
          "text": [
            "Model: PINN, Final Loss: 0.134697, L1 Error: 0.755389, L2 Error: 0.751127\n",
            "\n",
            "Testing combination 55/64: {'learning_rate': 0.001, 'hidden_layers': 4, 'hidden_units': 512, 'initial_region': 0.001, 'sample_num': 5, 'past_iterations': 5}\n"
          ]
        },
        {
          "name": "stderr",
          "output_type": "stream",
          "text": [
            "100%|██████████| 500/500 [13:36<00:00,  1.63s/it]\n"
          ]
        },
        {
          "name": "stdout",
          "output_type": "stream",
          "text": [
            "Model: PINN, Final Loss: 0.143250, L1 Error: 0.784382, L2 Error: 0.779450\n",
            "\n",
            "Testing combination 56/64: {'learning_rate': 0.001, 'hidden_layers': 4, 'hidden_units': 512, 'initial_region': 0.001, 'sample_num': 5, 'past_iterations': 10}\n"
          ]
        },
        {
          "name": "stderr",
          "output_type": "stream",
          "text": [
            "100%|██████████| 500/500 [16:21<00:00,  1.96s/it]\n"
          ]
        },
        {
          "name": "stdout",
          "output_type": "stream",
          "text": [
            "Model: PINN, Final Loss: 0.134821, L1 Error: 0.750086, L2 Error: 0.747050\n",
            "\n",
            "Testing combination 57/64: {'learning_rate': 0.001, 'hidden_layers': 4, 'hidden_units': 1024, 'initial_region': 0.0001, 'sample_num': 1, 'past_iterations': 5}\n"
          ]
        },
        {
          "name": "stderr",
          "output_type": "stream",
          "text": [
            "100%|██████████| 500/500 [18:26<00:00,  2.21s/it]\n"
          ]
        },
        {
          "name": "stdout",
          "output_type": "stream",
          "text": [
            "Model: PINN, Final Loss: 0.067263, L1 Error: 0.479958, L2 Error: 0.486369\n",
            "\n",
            "Testing combination 58/64: {'learning_rate': 0.001, 'hidden_layers': 4, 'hidden_units': 1024, 'initial_region': 0.0001, 'sample_num': 1, 'past_iterations': 10}\n"
          ]
        },
        {
          "name": "stderr",
          "output_type": "stream",
          "text": [
            "100%|██████████| 500/500 [21:39<00:00,  2.60s/it]\n"
          ]
        },
        {
          "name": "stdout",
          "output_type": "stream",
          "text": [
            "Model: PINN, Final Loss: 0.076682, L1 Error: 0.463480, L2 Error: 0.458725\n",
            "\n",
            "Testing combination 59/64: {'learning_rate': 0.001, 'hidden_layers': 4, 'hidden_units': 1024, 'initial_region': 0.0001, 'sample_num': 5, 'past_iterations': 5}\n"
          ]
        },
        {
          "name": "stderr",
          "output_type": "stream",
          "text": [
            "  0%|          | 0/500 [00:00<?, ?it/s]\n"
          ]
        },
        {
          "name": "stdout",
          "output_type": "stream",
          "text": [
            "Error with combo {'learning_rate': 0.001, 'hidden_layers': 4, 'hidden_units': 1024, 'initial_region': 0.0001, 'sample_num': 5, 'past_iterations': 5}: CUDA out of memory. Tried to allocate 400.00 MiB. GPU 0 has a total capacity of 39.56 GiB of which 188.81 MiB is free. Process 52766 has 39.37 GiB memory in use. Of the allocated memory 38.30 GiB is allocated by PyTorch, and 586.28 MiB is reserved by PyTorch but unallocated. If reserved but unallocated memory is large try setting PYTORCH_CUDA_ALLOC_CONF=expandable_segments:True to avoid fragmentation.  See documentation for Memory Management  (https://pytorch.org/docs/stable/notes/cuda.html#environment-variables)\n",
            "\n",
            "Testing combination 60/64: {'learning_rate': 0.001, 'hidden_layers': 4, 'hidden_units': 1024, 'initial_region': 0.0001, 'sample_num': 5, 'past_iterations': 10}\n"
          ]
        },
        {
          "name": "stderr",
          "output_type": "stream",
          "text": [
            "  0%|          | 0/500 [00:00<?, ?it/s]\n"
          ]
        },
        {
          "name": "stdout",
          "output_type": "stream",
          "text": [
            "Error with combo {'learning_rate': 0.001, 'hidden_layers': 4, 'hidden_units': 1024, 'initial_region': 0.0001, 'sample_num': 5, 'past_iterations': 10}: CUDA out of memory. Tried to allocate 400.00 MiB. GPU 0 has a total capacity of 39.56 GiB of which 188.81 MiB is free. Process 52766 has 39.37 GiB memory in use. Of the allocated memory 38.30 GiB is allocated by PyTorch, and 586.28 MiB is reserved by PyTorch but unallocated. If reserved but unallocated memory is large try setting PYTORCH_CUDA_ALLOC_CONF=expandable_segments:True to avoid fragmentation.  See documentation for Memory Management  (https://pytorch.org/docs/stable/notes/cuda.html#environment-variables)\n",
            "\n",
            "Testing combination 61/64: {'learning_rate': 0.001, 'hidden_layers': 4, 'hidden_units': 1024, 'initial_region': 0.001, 'sample_num': 1, 'past_iterations': 5}\n"
          ]
        },
        {
          "name": "stderr",
          "output_type": "stream",
          "text": [
            "100%|██████████| 500/500 [08:38<00:00,  1.04s/it]\n"
          ]
        },
        {
          "name": "stdout",
          "output_type": "stream",
          "text": [
            "Model: PINN, Final Loss: 0.147669, L1 Error: 0.782642, L2 Error: 0.771815\n",
            "\n",
            "Testing combination 62/64: {'learning_rate': 0.001, 'hidden_layers': 4, 'hidden_units': 1024, 'initial_region': 0.001, 'sample_num': 1, 'past_iterations': 10}\n"
          ]
        },
        {
          "name": "stderr",
          "output_type": "stream",
          "text": [
            "100%|██████████| 500/500 [13:05<00:00,  1.57s/it]\n"
          ]
        },
        {
          "name": "stdout",
          "output_type": "stream",
          "text": [
            "Model: PINN, Final Loss: 0.130078, L1 Error: 0.730789, L2 Error: 0.726335\n",
            "\n",
            "Testing combination 63/64: {'learning_rate': 0.001, 'hidden_layers': 4, 'hidden_units': 1024, 'initial_region': 0.001, 'sample_num': 5, 'past_iterations': 5}\n"
          ]
        },
        {
          "name": "stderr",
          "output_type": "stream",
          "text": [
            "  0%|          | 0/500 [00:00<?, ?it/s]\n"
          ]
        },
        {
          "name": "stdout",
          "output_type": "stream",
          "text": [
            "Error with combo {'learning_rate': 0.001, 'hidden_layers': 4, 'hidden_units': 1024, 'initial_region': 0.001, 'sample_num': 5, 'past_iterations': 5}: CUDA out of memory. Tried to allocate 400.00 MiB. GPU 0 has a total capacity of 39.56 GiB of which 188.81 MiB is free. Process 52766 has 39.37 GiB memory in use. Of the allocated memory 38.30 GiB is allocated by PyTorch, and 586.28 MiB is reserved by PyTorch but unallocated. If reserved but unallocated memory is large try setting PYTORCH_CUDA_ALLOC_CONF=expandable_segments:True to avoid fragmentation.  See documentation for Memory Management  (https://pytorch.org/docs/stable/notes/cuda.html#environment-variables)\n",
            "\n",
            "Testing combination 64/64: {'learning_rate': 0.001, 'hidden_layers': 4, 'hidden_units': 1024, 'initial_region': 0.001, 'sample_num': 5, 'past_iterations': 10}\n"
          ]
        },
        {
          "name": "stderr",
          "output_type": "stream",
          "text": [
            "  0%|          | 0/500 [00:00<?, ?it/s]"
          ]
        },
        {
          "name": "stdout",
          "output_type": "stream",
          "text": [
            "Error with combo {'learning_rate': 0.001, 'hidden_layers': 4, 'hidden_units': 1024, 'initial_region': 0.001, 'sample_num': 5, 'past_iterations': 10}: CUDA out of memory. Tried to allocate 400.00 MiB. GPU 0 has a total capacity of 39.56 GiB of which 188.81 MiB is free. Process 52766 has 39.37 GiB memory in use. Of the allocated memory 38.30 GiB is allocated by PyTorch, and 586.28 MiB is reserved by PyTorch but unallocated. If reserved but unallocated memory is large try setting PYTORCH_CUDA_ALLOC_CONF=expandable_segments:True to avoid fragmentation.  See documentation for Memory Management  (https://pytorch.org/docs/stable/notes/cuda.html#environment-variables)\n",
            "\n",
            "Results saved to ./results/wave_region_optimized_results/hyperparameter_search_results.csv\n"
          ]
        },
        {
          "name": "stderr",
          "output_type": "stream",
          "text": [
            "\n"
          ]
        }
      ],
      "source": [
        "import os\n",
        "import time\n",
        "import torch\n",
        "import torch.nn as nn\n",
        "import matplotlib.pyplot as plt\n",
        "import random\n",
        "import numpy as np\n",
        "from itertools import product\n",
        "from tqdm import tqdm\n",
        "import pandas as pd\n",
        "from util import get_data, make_time_sequence, get_n_params\n",
        "from model_dict import get_model\n",
        "\n",
        "# Set seeds for reproducibility\n",
        "seed = 0\n",
        "np.random.seed(seed)\n",
        "random.seed(seed)\n",
        "torch.manual_seed(seed)\n",
        "torch.cuda.manual_seed(seed)\n",
        "\n",
        "# Check for CUDA availability\n",
        "device = \"cuda\" if torch.cuda.is_available() else \"cpu\"\n",
        "print(f\"Using device: {device}\")\n",
        "\n",
        "def init_weights(m):\n",
        "    if isinstance(m, nn.Linear):\n",
        "        torch.nn.init.xavier_uniform_(m.weight)\n",
        "        if m.bias is not None:\n",
        "            m.bias.data.fill_(0.01)\n",
        "\n",
        "def u_ana_fn(x, t):\n",
        "    # Analytical solution: u(x,t)=sin(pi*x)*cos(2*pi*t)+0.5*sin(3*pi*x)*cos(6*pi*t)\n",
        "    return np.sin(np.pi*x)*np.cos(2*np.pi*t) + 0.5*np.sin(3*np.pi*x)*np.cos(6*np.pi*t)\n",
        "\n",
        "def train_model(model_name, learning_rate, hidden_layers, hidden_units,\n",
        "                initial_region, sample_num, past_iterations,\n",
        "                device=\"cpu\", max_epochs=500):\n",
        "    # Data preparation\n",
        "    res, b_left, b_right, b_upper, b_lower = get_data([0,1],[0,1],101,101)\n",
        "    res_test, _, _, _, _ = get_data([0,1],[0,1],101,101)\n",
        "\n",
        "    # For PINNsFormer models, make time sequences\n",
        "    if model_name in ['PINNsFormer', 'PINNsFormer_Enc_Only']:\n",
        "        res = make_time_sequence(res, num_step=5, step=1e-4)\n",
        "        b_left = make_time_sequence(b_left, num_step=5, step=1e-4)\n",
        "        b_right = make_time_sequence(b_right, num_step=5, step=1e-4)\n",
        "        b_upper = make_time_sequence(b_upper, num_step=5, step=1e-4)\n",
        "        b_lower = make_time_sequence(b_lower, num_step=5, step=1e-4)\n",
        "\n",
        "    # Convert data to tensors (double precision)\n",
        "    res = torch.tensor(res, dtype=torch.float64, requires_grad=True).to(device)\n",
        "    b_left = torch.tensor(b_left, dtype=torch.float64, requires_grad=True).to(device)\n",
        "    b_right = torch.tensor(b_right, dtype=torch.float64, requires_grad=True).to(device)\n",
        "    b_upper = torch.tensor(b_upper, dtype=torch.float64, requires_grad=True).to(device)\n",
        "    b_lower = torch.tensor(b_lower, dtype=torch.float64, requires_grad=True).to(device)\n",
        "\n",
        "    x_res, t_res = res[...,0:1], res[...,1:2]\n",
        "    x_left, t_left = b_left[...,0:1], b_left[...,1:2]\n",
        "    x_right, t_right = b_right[...,0:1], b_right[...,1:2]\n",
        "    x_upper, t_upper = b_upper[...,0:1], b_upper[...,1:2]\n",
        "    x_lower, t_lower = b_lower[...,0:1], b_lower[...,1:2]\n",
        "\n",
        "    # Initialize model\n",
        "    ModelClass = get_model(model_name)\n",
        "    if model_name == 'KAN':\n",
        "        model = ModelClass(width=[2,5,5,1], grid=5, k=3, grid_eps=1.0,\n",
        "                           noise_scale_base=0.25, device=device).to(device).double()\n",
        "    elif model_name in ['PINNsFormer','PINNsFormer_Enc_Only']:\n",
        "        model = ModelClass(in_dim=2, hidden_dim=32, out_dim=1, num_layer=1).to(device).double()\n",
        "    else:\n",
        "        model = ModelClass(in_dim=2, hidden_dim=hidden_units, out_dim=1, num_layer=hidden_layers).to(device).double()\n",
        "\n",
        "    model.apply(init_weights)\n",
        "\n",
        "    # Use LBFGS optimizer\n",
        "    optimizer = torch.optim.LBFGS(model.parameters(), lr=learning_rate, max_iter=20,\n",
        "                                  history_size=50, line_search_fn='strong_wolfe')\n",
        "\n",
        "    gradient_list_overall = []\n",
        "    gradient_list_temp = []\n",
        "    gradient_variance = 1.0\n",
        "\n",
        "    loss_history = []\n",
        "    pi = torch.tensor(np.pi, dtype=torch.float64, requires_grad=False).to(device)\n",
        "\n",
        "    for epoch in tqdm(range(max_epochs)):\n",
        "        def closure():\n",
        "            optimizer.zero_grad()\n",
        "            x_res_region_sample_list = []\n",
        "            t_res_region_sample_list = []\n",
        "\n",
        "            # Region Sampling\n",
        "            clamped_value = max(min(initial_region / gradient_variance, 0.01), 0)\n",
        "            for _ in range(sample_num):\n",
        "                x_region_sample = (torch.rand_like(x_res)*clamped_value).to(device)\n",
        "                t_region_sample = (torch.rand_like(t_res)*clamped_value).to(device)\n",
        "                # clamp t to [0,1]\n",
        "                t_perturbed = torch.clamp(t_res + t_region_sample, min=0.0, max=1.0)\n",
        "                # clamp x to [0,1] since BC presumably at x=0 and x=1\n",
        "                x_perturbed = torch.clamp(x_res + x_region_sample, min=0.0, max=1.0)\n",
        "                x_res_region_sample_list.append(x_perturbed)\n",
        "                t_res_region_sample_list.append(t_perturbed)\n",
        "\n",
        "            x_res_region_sample = torch.cat(x_res_region_sample_list, dim=0)\n",
        "            t_res_region_sample = torch.cat(t_res_region_sample_list, dim=0)\n",
        "\n",
        "            pred_res = model(x_res_region_sample, t_res_region_sample)\n",
        "            pred_left = model(x_left, t_left)\n",
        "            pred_right = model(x_right, t_right)\n",
        "            pred_upper = model(x_upper, t_upper)\n",
        "            pred_lower = model(x_lower, t_lower)\n",
        "\n",
        "            # Check for NaN in predictions\n",
        "            if torch.isnan(pred_res).any():\n",
        "                print(f\"NaN in pred_res at epoch {epoch}\")\n",
        "                loss = torch.tensor(float('nan'), dtype=torch.float64, requires_grad=True).to(device)\n",
        "                loss.backward()\n",
        "                return loss\n",
        "\n",
        "            u_x = torch.autograd.grad(pred_res, x_res_region_sample, grad_outputs=torch.ones_like(pred_res),\n",
        "                                      retain_graph=True, create_graph=True)[0]\n",
        "            u_t = torch.autograd.grad(pred_res, t_res_region_sample, grad_outputs=torch.ones_like(pred_res),\n",
        "                                      retain_graph=True, create_graph=True)[0]\n",
        "            u_xx = torch.autograd.grad(u_x, x_res_region_sample, grad_outputs=torch.ones_like(u_x),\n",
        "                                       retain_graph=True, create_graph=True)[0]\n",
        "            u_tt = torch.autograd.grad(u_t, t_res_region_sample, grad_outputs=torch.ones_like(u_t),\n",
        "                                       retain_graph=True, create_graph=True)[0]\n",
        "\n",
        "            if (torch.isnan(u_x).any() or torch.isnan(u_t).any() or\n",
        "                torch.isnan(u_xx).any() or torch.isnan(u_tt).any()):\n",
        "                print(f\"NaN in derivatives at epoch {epoch}\")\n",
        "                loss = torch.tensor(float('nan'), dtype=torch.float64, requires_grad=True).to(device)\n",
        "                loss.backward()\n",
        "                return loss\n",
        "\n",
        "            # PDE Residual: u_tt =4 u_xx\n",
        "            loss_res = torch.mean((u_tt -4*u_xx)**2)\n",
        "\n",
        "            # Boundary conditions: pred_upper(t=1) and pred_lower(t=0)\n",
        "            loss_bc = torch.mean((pred_upper)**2) + torch.mean((pred_lower)**2)\n",
        "\n",
        "            ui_t = torch.autograd.grad(pred_left, t_left, grad_outputs=torch.ones_like(pred_left),\n",
        "                                       retain_graph=True, create_graph=True)[0]\n",
        "\n",
        "            loss_ic_1 = torch.mean((pred_left[...,0] - (torch.sin(pi*x_left[...,0]) + 0.5*torch.sin(3*pi*x_left[...,0])))**2)\n",
        "            loss_ic_2 = torch.mean((ui_t)**2)\n",
        "            loss_ic = loss_ic_1 + loss_ic_2\n",
        "\n",
        "            if torch.isnan(loss_res) or torch.isnan(loss_ic) or torch.isnan(loss_bc):\n",
        "                print(f\"NaN in loss components at epoch {epoch}\")\n",
        "                loss = torch.tensor(float('nan'), dtype=torch.float64, requires_grad=True).to(device)\n",
        "                loss.backward()\n",
        "                return loss\n",
        "\n",
        "            loss = loss_res + loss_ic + loss_bc\n",
        "            loss_history.append(loss.item())\n",
        "\n",
        "            loss.backward(retain_graph=True)\n",
        "\n",
        "            # Collect gradients for trust region calibration\n",
        "            grads = []\n",
        "            for p in model.parameters():\n",
        "                if p.grad is not None:\n",
        "                    grads.append(p.grad.view(-1))\n",
        "                else:\n",
        "                    grads.append(torch.zeros(1, dtype=torch.float64, device=device))\n",
        "            grads_cat = torch.cat(grads).cpu().numpy()\n",
        "            gradient_list_temp.append(grads_cat)\n",
        "\n",
        "            return loss\n",
        "\n",
        "        optimizer.step(closure)\n",
        "\n",
        "        # Trust Region Calibration\n",
        "        if gradient_list_temp:\n",
        "            gradient_list_overall.append(np.mean(np.array(gradient_list_temp), axis=0))\n",
        "            gradient_list_overall = gradient_list_overall[-past_iterations:]\n",
        "            gradient_list = np.array(gradient_list_overall)\n",
        "            gradient_variance = (\n",
        "                np.std(gradient_list, axis=0) /\n",
        "                (np.mean(np.abs(gradient_list), axis=0) + 1e-6)\n",
        "            ).mean()\n",
        "            gradient_list_temp = []\n",
        "            if gradient_variance == 0:\n",
        "                gradient_variance = 1.0\n",
        "\n",
        "    # Retrieve final loss\n",
        "    if len(loss_history)>0:\n",
        "        final_loss = loss_history[-1]\n",
        "    else:\n",
        "        final_loss = float('nan')\n",
        "\n",
        "    # Evaluation\n",
        "    with torch.no_grad():\n",
        "        if model_name in ['PINNsFormer','PINNsFormer_Enc_Only']:\n",
        "            res_test_mod = make_time_sequence(res_test, num_step=5, step=1e-4)\n",
        "        else:\n",
        "            res_test_mod = res_test\n",
        "\n",
        "        res_test_tensor = torch.tensor(res_test_mod, dtype=torch.float64).to(device)\n",
        "        x_test, t_test = res_test_tensor[...,0:1], res_test_tensor[...,1:2]\n",
        "        pred = model(x_test, t_test).cpu().numpy()\n",
        "\n",
        "    pred = pred.reshape(101,101)\n",
        "    u = u_ana_fn(res_test_tensor.cpu().numpy()[...,0], res_test_tensor.cpu().numpy()[...,1]).reshape(101,101)\n",
        "\n",
        "    denom_l1 = np.sum(np.abs(u))\n",
        "    denom_l2 = np.sum(u**2)\n",
        "    if denom_l1 == 0:\n",
        "        print(\"Warning: zero denominator in L1 error\")\n",
        "        rl1 = float('nan')\n",
        "    else:\n",
        "        rl1 = np.sum(np.abs(u - pred))/denom_l1\n",
        "\n",
        "    if denom_l2 == 0:\n",
        "        print(\"Warning: zero denominator in L2 error\")\n",
        "        rl2 = float('nan')\n",
        "    else:\n",
        "        rl2 = np.sqrt(np.sum((u - pred)**2)/denom_l2)\n",
        "\n",
        "    return final_loss, rl1, rl2\n",
        "\n",
        "def hyperparameter_search(models, param_grid, device=\"cuda\", max_epochs=500):\n",
        "    results_dir = \"./results/wave_region_optimized_results\"\n",
        "    os.makedirs(results_dir, exist_ok=True)\n",
        "    results_file = os.path.join(results_dir, \"hyperparameter_search_results.csv\")\n",
        "\n",
        "    keys = list(param_grid.keys())\n",
        "    values = [param_grid[k] for k in keys]\n",
        "    combos = list(product(*values))\n",
        "\n",
        "    results = []\n",
        "\n",
        "    for model_name in models:\n",
        "        print(f\"\\nTesting model: {model_name}\")\n",
        "        print(f\"Total hyperparameter combinations: {len(combos)}\")\n",
        "\n",
        "        for idx, combo in enumerate(combos):\n",
        "            hyperparams = dict(zip(keys, combo))\n",
        "            print(f\"\\nTesting combination {idx+1}/{len(combos)}: {hyperparams}\")\n",
        "\n",
        "            train_args = {\n",
        "                'model_name': model_name,\n",
        "                'learning_rate': hyperparams[\"learning_rate\"],\n",
        "                'hidden_layers': hyperparams[\"hidden_layers\"],\n",
        "                'hidden_units': hyperparams[\"hidden_units\"],\n",
        "                'initial_region': hyperparams[\"initial_region\"],\n",
        "                'sample_num': hyperparams[\"sample_num\"],\n",
        "                'past_iterations': hyperparams[\"past_iterations\"],\n",
        "                'device': device,\n",
        "                'max_epochs': max_epochs,\n",
        "            }\n",
        "\n",
        "            start_time = time.time()\n",
        "            try:\n",
        "                final_loss, rl1, rl2 = train_model(**train_args)\n",
        "                runtime = time.time() - start_time\n",
        "                results.append({\n",
        "                    \"model\": model_name,\n",
        "                    **hyperparams,\n",
        "                    \"final_loss\": final_loss,\n",
        "                    \"relative_L1_error\": rl1,\n",
        "                    \"relative_L2_error\": rl2,\n",
        "                    \"runtime_seconds\": runtime,\n",
        "                })\n",
        "                print(f\"Model: {model_name}, Final Loss: {final_loss:.6f}, \"\n",
        "                      f\"L1 Error: {rl1:.6f}, L2 Error: {rl2:.6f}\")\n",
        "            except Exception as e:\n",
        "                print(f\"Error with combo {hyperparams}: {e}\")\n",
        "                results.append({\n",
        "                    \"model\": model_name,\n",
        "                    **hyperparams,\n",
        "                    \"final_loss\": None,\n",
        "                    \"relative_L1_error\": None,\n",
        "                    \"relative_L2_error\": None,\n",
        "                    \"runtime_seconds\": None,\n",
        "                })\n",
        "\n",
        "    results_df = pd.DataFrame(results)\n",
        "    results_df.to_csv(results_file, index=False)\n",
        "    print(f\"\\nResults saved to {results_file}\")\n",
        "    return results_df\n",
        "\n",
        "if __name__ == \"__main__\":\n",
        "    # Param grid with region optimization parameters included\n",
        "    param_grid = {\n",
        "        \"learning_rate\": [0.0001, 0.001],\n",
        "        \"hidden_layers\": [2, 4],\n",
        "        \"hidden_units\": [512, 1024],\n",
        "        \"initial_region\": [1e-4, 1e-3],\n",
        "        \"sample_num\": [1, 5],\n",
        "        \"past_iterations\": [5, 10],\n",
        "    }\n",
        "\n",
        "    models = [\"PINN\"]\n",
        "    results = hyperparameter_search(models=models, param_grid=param_grid, device=device, max_epochs=500)\n"
      ]
    },
    {
      "cell_type": "markdown",
      "metadata": {
        "id": "VBncjP9fhqlL"
      },
      "source": []
    },
    {
      "cell_type": "code",
      "execution_count": null,
      "metadata": {
        "colab": {
          "base_uri": "https://localhost:8080/"
        },
        "id": "Z4LhZXsQ5Tq1",
        "outputId": "75af22aa-624e-49ed-b415-c644c5400d53"
      },
      "outputs": [
        {
          "name": "stdout",
          "output_type": "stream",
          "text": [
            "Using device: cuda\n",
            "\n",
            "Testing model: PINN\n",
            "Total hyperparameter combinations: 64\n",
            "\n",
            "Testing combination 1/64: {'learning_rate': 0.0001, 'hidden_layers': 2, 'hidden_units': 128, 'initial_region': 0.0001, 'sample_num': 1, 'past_iterations': 5}\n"
          ]
        },
        {
          "name": "stderr",
          "output_type": "stream",
          "text": [
            "\r  0%|          | 0/500 [00:00<?, ?it/s]/usr/local/lib/python3.10/dist-packages/torch/autograd/graph.py:825: UserWarning: Attempting to run cuBLAS, but there was no current CUDA context! Attempting to set the primary context... (Triggered internally at ../aten/src/ATen/cuda/CublasHandlePool.cpp:135.)\n",
            "  return Variable._execution_engine.run_backward(  # Calls into the C++ engine to run the backward pass\n",
            "100%|██████████| 500/500 [00:45<00:00, 10.95it/s]\n"
          ]
        },
        {
          "name": "stdout",
          "output_type": "stream",
          "text": [
            "Model: PINN, Final Loss: 0.267013, L1 Error: 1.122812, L2 Error: 1.101869\n",
            "\n",
            "Testing combination 2/64: {'learning_rate': 0.0001, 'hidden_layers': 2, 'hidden_units': 128, 'initial_region': 0.0001, 'sample_num': 1, 'past_iterations': 10}\n"
          ]
        },
        {
          "name": "stderr",
          "output_type": "stream",
          "text": [
            "100%|██████████| 500/500 [00:53<00:00,  9.29it/s]\n"
          ]
        },
        {
          "name": "stdout",
          "output_type": "stream",
          "text": [
            "Model: PINN, Final Loss: 0.143228, L1 Error: 0.770920, L2 Error: 0.762574\n",
            "\n",
            "Testing combination 3/64: {'learning_rate': 0.0001, 'hidden_layers': 2, 'hidden_units': 128, 'initial_region': 0.0001, 'sample_num': 5, 'past_iterations': 5}\n"
          ]
        },
        {
          "name": "stderr",
          "output_type": "stream",
          "text": [
            "100%|██████████| 500/500 [01:14<00:00,  6.75it/s]\n"
          ]
        },
        {
          "name": "stdout",
          "output_type": "stream",
          "text": [
            "Model: PINN, Final Loss: 0.140799, L1 Error: 0.776160, L2 Error: 0.769708\n",
            "\n",
            "Testing combination 4/64: {'learning_rate': 0.0001, 'hidden_layers': 2, 'hidden_units': 128, 'initial_region': 0.0001, 'sample_num': 5, 'past_iterations': 10}\n"
          ]
        },
        {
          "name": "stderr",
          "output_type": "stream",
          "text": [
            "100%|██████████| 500/500 [01:33<00:00,  5.33it/s]\n"
          ]
        },
        {
          "name": "stdout",
          "output_type": "stream",
          "text": [
            "Model: PINN, Final Loss: 0.121143, L1 Error: 0.656938, L2 Error: 0.653478\n",
            "\n",
            "Testing combination 5/64: {'learning_rate': 0.0001, 'hidden_layers': 2, 'hidden_units': 128, 'initial_region': 0.001, 'sample_num': 1, 'past_iterations': 5}\n"
          ]
        },
        {
          "name": "stderr",
          "output_type": "stream",
          "text": [
            "100%|██████████| 500/500 [00:43<00:00, 11.42it/s]\n"
          ]
        },
        {
          "name": "stdout",
          "output_type": "stream",
          "text": [
            "Model: PINN, Final Loss: 0.275048, L1 Error: 1.144120, L2 Error: 1.121084\n",
            "\n",
            "Testing combination 6/64: {'learning_rate': 0.0001, 'hidden_layers': 2, 'hidden_units': 128, 'initial_region': 0.001, 'sample_num': 1, 'past_iterations': 10}\n"
          ]
        },
        {
          "name": "stderr",
          "output_type": "stream",
          "text": [
            "100%|██████████| 500/500 [00:52<00:00,  9.57it/s]\n"
          ]
        },
        {
          "name": "stdout",
          "output_type": "stream",
          "text": [
            "Model: PINN, Final Loss: 0.251233, L1 Error: 1.088128, L2 Error: 1.067731\n",
            "\n",
            "Testing combination 7/64: {'learning_rate': 0.0001, 'hidden_layers': 2, 'hidden_units': 128, 'initial_region': 0.001, 'sample_num': 5, 'past_iterations': 5}\n"
          ]
        },
        {
          "name": "stderr",
          "output_type": "stream",
          "text": [
            "100%|██████████| 500/500 [00:54<00:00,  9.13it/s]\n"
          ]
        },
        {
          "name": "stdout",
          "output_type": "stream",
          "text": [
            "Model: PINN, Final Loss: 0.146910, L1 Error: 0.765503, L2 Error: 0.770512\n",
            "\n",
            "Testing combination 8/64: {'learning_rate': 0.0001, 'hidden_layers': 2, 'hidden_units': 128, 'initial_region': 0.001, 'sample_num': 5, 'past_iterations': 10}\n"
          ]
        },
        {
          "name": "stderr",
          "output_type": "stream",
          "text": [
            "100%|██████████| 500/500 [01:11<00:00,  6.98it/s]\n"
          ]
        },
        {
          "name": "stdout",
          "output_type": "stream",
          "text": [
            "Model: PINN, Final Loss: 0.149680, L1 Error: 0.802181, L2 Error: 0.791676\n",
            "\n",
            "Testing combination 9/64: {'learning_rate': 0.0001, 'hidden_layers': 2, 'hidden_units': 256, 'initial_region': 0.0001, 'sample_num': 1, 'past_iterations': 5}\n"
          ]
        },
        {
          "name": "stderr",
          "output_type": "stream",
          "text": [
            "100%|██████████| 500/500 [00:51<00:00,  9.79it/s]\n"
          ]
        },
        {
          "name": "stdout",
          "output_type": "stream",
          "text": [
            "Model: PINN, Final Loss: 0.148804, L1 Error: 0.802104, L2 Error: 0.791717\n",
            "\n",
            "Testing combination 10/64: {'learning_rate': 0.0001, 'hidden_layers': 2, 'hidden_units': 256, 'initial_region': 0.0001, 'sample_num': 1, 'past_iterations': 10}\n"
          ]
        },
        {
          "name": "stderr",
          "output_type": "stream",
          "text": [
            "100%|██████████| 500/500 [00:55<00:00,  9.01it/s]\n"
          ]
        },
        {
          "name": "stdout",
          "output_type": "stream",
          "text": [
            "Model: PINN, Final Loss: 0.133207, L1 Error: 0.736171, L2 Error: 0.728975\n",
            "\n",
            "Testing combination 11/64: {'learning_rate': 0.0001, 'hidden_layers': 2, 'hidden_units': 256, 'initial_region': 0.0001, 'sample_num': 5, 'past_iterations': 5}\n"
          ]
        },
        {
          "name": "stderr",
          "output_type": "stream",
          "text": [
            "100%|██████████| 500/500 [01:31<00:00,  5.46it/s]\n"
          ]
        },
        {
          "name": "stdout",
          "output_type": "stream",
          "text": [
            "Model: PINN, Final Loss: 0.126969, L1 Error: 0.703875, L2 Error: 0.698504\n",
            "\n",
            "Testing combination 12/64: {'learning_rate': 0.0001, 'hidden_layers': 2, 'hidden_units': 256, 'initial_region': 0.0001, 'sample_num': 5, 'past_iterations': 10}\n"
          ]
        },
        {
          "name": "stderr",
          "output_type": "stream",
          "text": [
            "100%|██████████| 500/500 [01:20<00:00,  6.18it/s]\n"
          ]
        },
        {
          "name": "stdout",
          "output_type": "stream",
          "text": [
            "Model: PINN, Final Loss: 0.148926, L1 Error: 0.802771, L2 Error: 0.794482\n",
            "\n",
            "Testing combination 13/64: {'learning_rate': 0.0001, 'hidden_layers': 2, 'hidden_units': 256, 'initial_region': 0.001, 'sample_num': 1, 'past_iterations': 5}\n"
          ]
        },
        {
          "name": "stderr",
          "output_type": "stream",
          "text": [
            "100%|██████████| 500/500 [00:54<00:00,  9.19it/s]\n"
          ]
        },
        {
          "name": "stdout",
          "output_type": "stream",
          "text": [
            "Model: PINN, Final Loss: 0.304522, L1 Error: 1.186221, L2 Error: 1.161149\n",
            "\n",
            "Testing combination 14/64: {'learning_rate': 0.0001, 'hidden_layers': 2, 'hidden_units': 256, 'initial_region': 0.001, 'sample_num': 1, 'past_iterations': 10}\n"
          ]
        },
        {
          "name": "stderr",
          "output_type": "stream",
          "text": [
            "100%|██████████| 500/500 [00:52<00:00,  9.58it/s]\n"
          ]
        },
        {
          "name": "stdout",
          "output_type": "stream",
          "text": [
            "Model: PINN, Final Loss: 0.308048, L1 Error: 1.191531, L2 Error: 1.165833\n",
            "\n",
            "Testing combination 15/64: {'learning_rate': 0.0001, 'hidden_layers': 2, 'hidden_units': 256, 'initial_region': 0.001, 'sample_num': 5, 'past_iterations': 5}\n"
          ]
        },
        {
          "name": "stderr",
          "output_type": "stream",
          "text": [
            "100%|██████████| 500/500 [01:30<00:00,  5.53it/s]\n"
          ]
        },
        {
          "name": "stdout",
          "output_type": "stream",
          "text": [
            "Model: PINN, Final Loss: 0.198359, L1 Error: 0.928814, L2 Error: 0.908262\n",
            "\n",
            "Testing combination 16/64: {'learning_rate': 0.0001, 'hidden_layers': 2, 'hidden_units': 256, 'initial_region': 0.001, 'sample_num': 5, 'past_iterations': 10}\n"
          ]
        },
        {
          "name": "stderr",
          "output_type": "stream",
          "text": [
            "100%|██████████| 500/500 [01:37<00:00,  5.13it/s]\n"
          ]
        },
        {
          "name": "stdout",
          "output_type": "stream",
          "text": [
            "Model: PINN, Final Loss: 0.141921, L1 Error: 0.781055, L2 Error: 0.777817\n",
            "\n",
            "Testing combination 17/64: {'learning_rate': 0.0001, 'hidden_layers': 4, 'hidden_units': 128, 'initial_region': 0.0001, 'sample_num': 1, 'past_iterations': 5}\n"
          ]
        },
        {
          "name": "stderr",
          "output_type": "stream",
          "text": [
            "100%|██████████| 500/500 [01:13<00:00,  6.80it/s]\n"
          ]
        },
        {
          "name": "stdout",
          "output_type": "stream",
          "text": [
            "Model: PINN, Final Loss: 0.142759, L1 Error: 0.770303, L2 Error: 0.761198\n",
            "\n",
            "Testing combination 18/64: {'learning_rate': 0.0001, 'hidden_layers': 4, 'hidden_units': 128, 'initial_region': 0.0001, 'sample_num': 1, 'past_iterations': 10}\n"
          ]
        },
        {
          "name": "stderr",
          "output_type": "stream",
          "text": [
            "100%|██████████| 500/500 [01:22<00:00,  6.05it/s]\n"
          ]
        },
        {
          "name": "stdout",
          "output_type": "stream",
          "text": [
            "Model: PINN, Final Loss: 0.150575, L1 Error: 0.800067, L2 Error: 0.787546\n",
            "\n",
            "Testing combination 19/64: {'learning_rate': 0.0001, 'hidden_layers': 4, 'hidden_units': 128, 'initial_region': 0.0001, 'sample_num': 5, 'past_iterations': 5}\n"
          ]
        },
        {
          "name": "stderr",
          "output_type": "stream",
          "text": [
            "100%|██████████| 500/500 [02:44<00:00,  3.03it/s]\n"
          ]
        },
        {
          "name": "stdout",
          "output_type": "stream",
          "text": [
            "Model: PINN, Final Loss: 0.145535, L1 Error: 0.786238, L2 Error: 0.775490\n",
            "\n",
            "Testing combination 20/64: {'learning_rate': 0.0001, 'hidden_layers': 4, 'hidden_units': 128, 'initial_region': 0.0001, 'sample_num': 5, 'past_iterations': 10}\n"
          ]
        },
        {
          "name": "stderr",
          "output_type": "stream",
          "text": [
            "100%|██████████| 500/500 [03:19<00:00,  2.50it/s]\n"
          ]
        },
        {
          "name": "stdout",
          "output_type": "stream",
          "text": [
            "Model: PINN, Final Loss: 0.132237, L1 Error: 0.738754, L2 Error: 0.734696\n",
            "\n",
            "Testing combination 21/64: {'learning_rate': 0.0001, 'hidden_layers': 4, 'hidden_units': 128, 'initial_region': 0.001, 'sample_num': 1, 'past_iterations': 5}\n"
          ]
        },
        {
          "name": "stderr",
          "output_type": "stream",
          "text": [
            "100%|██████████| 500/500 [01:23<00:00,  5.96it/s]\n"
          ]
        },
        {
          "name": "stdout",
          "output_type": "stream",
          "text": [
            "Model: PINN, Final Loss: 0.272499, L1 Error: 1.140640, L2 Error: 1.118238\n",
            "\n",
            "Testing combination 22/64: {'learning_rate': 0.0001, 'hidden_layers': 4, 'hidden_units': 128, 'initial_region': 0.001, 'sample_num': 1, 'past_iterations': 10}\n"
          ]
        },
        {
          "name": "stderr",
          "output_type": "stream",
          "text": [
            "100%|██████████| 500/500 [00:47<00:00, 10.46it/s]\n"
          ]
        },
        {
          "name": "stdout",
          "output_type": "stream",
          "text": [
            "Model: PINN, Final Loss: 0.307528, L1 Error: 1.173790, L2 Error: 1.149168\n",
            "\n",
            "Testing combination 23/64: {'learning_rate': 0.0001, 'hidden_layers': 4, 'hidden_units': 128, 'initial_region': 0.001, 'sample_num': 5, 'past_iterations': 5}\n"
          ]
        },
        {
          "name": "stderr",
          "output_type": "stream",
          "text": [
            "100%|██████████| 500/500 [02:06<00:00,  3.95it/s]\n"
          ]
        },
        {
          "name": "stdout",
          "output_type": "stream",
          "text": [
            "Model: PINN, Final Loss: 0.289526, L1 Error: 1.175153, L2 Error: 1.151425\n",
            "\n",
            "Testing combination 24/64: {'learning_rate': 0.0001, 'hidden_layers': 4, 'hidden_units': 128, 'initial_region': 0.001, 'sample_num': 5, 'past_iterations': 10}\n"
          ]
        },
        {
          "name": "stderr",
          "output_type": "stream",
          "text": [
            "100%|██████████| 500/500 [02:42<00:00,  3.08it/s]\n"
          ]
        },
        {
          "name": "stdout",
          "output_type": "stream",
          "text": [
            "Model: PINN, Final Loss: 0.272304, L1 Error: 1.136892, L2 Error: 1.114607\n",
            "\n",
            "Testing combination 25/64: {'learning_rate': 0.0001, 'hidden_layers': 4, 'hidden_units': 256, 'initial_region': 0.0001, 'sample_num': 1, 'past_iterations': 5}\n"
          ]
        },
        {
          "name": "stderr",
          "output_type": "stream",
          "text": [
            "100%|██████████| 500/500 [01:50<00:00,  4.53it/s]\n"
          ]
        },
        {
          "name": "stdout",
          "output_type": "stream",
          "text": [
            "Model: PINN, Final Loss: 0.162252, L1 Error: 0.832030, L2 Error: 0.819310\n",
            "\n",
            "Testing combination 26/64: {'learning_rate': 0.0001, 'hidden_layers': 4, 'hidden_units': 256, 'initial_region': 0.0001, 'sample_num': 1, 'past_iterations': 10}\n"
          ]
        },
        {
          "name": "stderr",
          "output_type": "stream",
          "text": [
            "100%|██████████| 500/500 [02:12<00:00,  3.78it/s]\n"
          ]
        },
        {
          "name": "stdout",
          "output_type": "stream",
          "text": [
            "Model: PINN, Final Loss: 0.144466, L1 Error: 0.788330, L2 Error: 0.779157\n",
            "\n",
            "Testing combination 27/64: {'learning_rate': 0.0001, 'hidden_layers': 4, 'hidden_units': 256, 'initial_region': 0.0001, 'sample_num': 5, 'past_iterations': 5}\n"
          ]
        },
        {
          "name": "stderr",
          "output_type": "stream",
          "text": [
            "100%|██████████| 500/500 [06:56<00:00,  1.20it/s]\n"
          ]
        },
        {
          "name": "stdout",
          "output_type": "stream",
          "text": [
            "Model: PINN, Final Loss: 0.140108, L1 Error: 0.775251, L2 Error: 0.769722\n",
            "\n",
            "Testing combination 28/64: {'learning_rate': 0.0001, 'hidden_layers': 4, 'hidden_units': 256, 'initial_region': 0.0001, 'sample_num': 5, 'past_iterations': 10}\n"
          ]
        },
        {
          "name": "stderr",
          "output_type": "stream",
          "text": [
            "100%|██████████| 500/500 [06:32<00:00,  1.28it/s]\n"
          ]
        },
        {
          "name": "stdout",
          "output_type": "stream",
          "text": [
            "Model: PINN, Final Loss: 0.133043, L1 Error: 0.740775, L2 Error: 0.735764\n",
            "\n",
            "Testing combination 29/64: {'learning_rate': 0.0001, 'hidden_layers': 4, 'hidden_units': 256, 'initial_region': 0.001, 'sample_num': 1, 'past_iterations': 5}\n"
          ]
        },
        {
          "name": "stderr",
          "output_type": "stream",
          "text": [
            "100%|██████████| 500/500 [01:46<00:00,  4.71it/s]\n"
          ]
        },
        {
          "name": "stdout",
          "output_type": "stream",
          "text": [
            "Model: PINN, Final Loss: 0.321798, L1 Error: 1.168784, L2 Error: 1.142773\n",
            "\n",
            "Testing combination 30/64: {'learning_rate': 0.0001, 'hidden_layers': 4, 'hidden_units': 256, 'initial_region': 0.001, 'sample_num': 1, 'past_iterations': 10}\n"
          ]
        },
        {
          "name": "stderr",
          "output_type": "stream",
          "text": [
            "100%|██████████| 500/500 [01:49<00:00,  4.58it/s]\n"
          ]
        },
        {
          "name": "stdout",
          "output_type": "stream",
          "text": [
            "Model: PINN, Final Loss: 0.288138, L1 Error: 1.174519, L2 Error: 1.150842\n",
            "\n",
            "Testing combination 31/64: {'learning_rate': 0.0001, 'hidden_layers': 4, 'hidden_units': 256, 'initial_region': 0.001, 'sample_num': 5, 'past_iterations': 5}\n"
          ]
        },
        {
          "name": "stderr",
          "output_type": "stream",
          "text": [
            "100%|██████████| 500/500 [06:03<00:00,  1.38it/s]\n"
          ]
        },
        {
          "name": "stdout",
          "output_type": "stream",
          "text": [
            "Model: PINN, Final Loss: 0.181869, L1 Error: 0.865735, L2 Error: 0.845116\n",
            "\n",
            "Testing combination 32/64: {'learning_rate': 0.0001, 'hidden_layers': 4, 'hidden_units': 256, 'initial_region': 0.001, 'sample_num': 5, 'past_iterations': 10}\n"
          ]
        },
        {
          "name": "stderr",
          "output_type": "stream",
          "text": [
            "100%|██████████| 500/500 [04:46<00:00,  1.75it/s]\n"
          ]
        },
        {
          "name": "stdout",
          "output_type": "stream",
          "text": [
            "Model: PINN, Final Loss: 0.221236, L1 Error: 1.017669, L2 Error: 0.999283\n",
            "\n",
            "Testing combination 33/64: {'learning_rate': 0.001, 'hidden_layers': 2, 'hidden_units': 128, 'initial_region': 0.0001, 'sample_num': 1, 'past_iterations': 5}\n"
          ]
        },
        {
          "name": "stderr",
          "output_type": "stream",
          "text": [
            "100%|██████████| 500/500 [01:21<00:00,  6.17it/s]\n"
          ]
        },
        {
          "name": "stdout",
          "output_type": "stream",
          "text": [
            "Model: PINN, Final Loss: 0.093687, L1 Error: 0.502656, L2 Error: 0.492390\n",
            "\n",
            "Testing combination 34/64: {'learning_rate': 0.001, 'hidden_layers': 2, 'hidden_units': 128, 'initial_region': 0.0001, 'sample_num': 1, 'past_iterations': 10}\n"
          ]
        },
        {
          "name": "stderr",
          "output_type": "stream",
          "text": [
            "100%|██████████| 500/500 [01:20<00:00,  6.20it/s]\n"
          ]
        },
        {
          "name": "stdout",
          "output_type": "stream",
          "text": [
            "Model: PINN, Final Loss: 0.090873, L1 Error: 0.500747, L2 Error: 0.490486\n",
            "\n",
            "Testing combination 35/64: {'learning_rate': 0.001, 'hidden_layers': 2, 'hidden_units': 128, 'initial_region': 0.0001, 'sample_num': 5, 'past_iterations': 5}\n"
          ]
        },
        {
          "name": "stderr",
          "output_type": "stream",
          "text": [
            "100%|██████████| 500/500 [01:49<00:00,  4.55it/s]\n"
          ]
        },
        {
          "name": "stdout",
          "output_type": "stream",
          "text": [
            "Model: PINN, Final Loss: 0.093040, L1 Error: 0.501071, L2 Error: 0.490387\n",
            "\n",
            "Testing combination 36/64: {'learning_rate': 0.001, 'hidden_layers': 2, 'hidden_units': 128, 'initial_region': 0.0001, 'sample_num': 5, 'past_iterations': 10}\n"
          ]
        },
        {
          "name": "stderr",
          "output_type": "stream",
          "text": [
            "100%|██████████| 500/500 [01:47<00:00,  4.67it/s]\n"
          ]
        },
        {
          "name": "stdout",
          "output_type": "stream",
          "text": [
            "Model: PINN, Final Loss: 0.093473, L1 Error: 0.506901, L2 Error: 0.496414\n",
            "\n",
            "Testing combination 37/64: {'learning_rate': 0.001, 'hidden_layers': 2, 'hidden_units': 128, 'initial_region': 0.001, 'sample_num': 1, 'past_iterations': 5}\n"
          ]
        },
        {
          "name": "stderr",
          "output_type": "stream",
          "text": [
            "100%|██████████| 500/500 [01:02<00:00,  7.96it/s]\n"
          ]
        },
        {
          "name": "stdout",
          "output_type": "stream",
          "text": [
            "Model: PINN, Final Loss: 0.131705, L1 Error: 0.733838, L2 Error: 0.728068\n",
            "\n",
            "Testing combination 38/64: {'learning_rate': 0.001, 'hidden_layers': 2, 'hidden_units': 128, 'initial_region': 0.001, 'sample_num': 1, 'past_iterations': 10}\n"
          ]
        },
        {
          "name": "stderr",
          "output_type": "stream",
          "text": [
            "100%|██████████| 500/500 [00:59<00:00,  8.42it/s]\n"
          ]
        },
        {
          "name": "stdout",
          "output_type": "stream",
          "text": [
            "Model: PINN, Final Loss: 0.090726, L1 Error: 0.523324, L2 Error: 0.514073\n",
            "\n",
            "Testing combination 39/64: {'learning_rate': 0.001, 'hidden_layers': 2, 'hidden_units': 128, 'initial_region': 0.001, 'sample_num': 5, 'past_iterations': 5}\n"
          ]
        },
        {
          "name": "stderr",
          "output_type": "stream",
          "text": [
            "100%|██████████| 500/500 [01:11<00:00,  7.00it/s]\n"
          ]
        },
        {
          "name": "stdout",
          "output_type": "stream",
          "text": [
            "Model: PINN, Final Loss: 0.142445, L1 Error: 0.777754, L2 Error: 0.769400\n",
            "\n",
            "Testing combination 40/64: {'learning_rate': 0.001, 'hidden_layers': 2, 'hidden_units': 128, 'initial_region': 0.001, 'sample_num': 5, 'past_iterations': 10}\n"
          ]
        },
        {
          "name": "stderr",
          "output_type": "stream",
          "text": [
            "100%|██████████| 500/500 [01:40<00:00,  4.97it/s]\n"
          ]
        },
        {
          "name": "stdout",
          "output_type": "stream",
          "text": [
            "Model: PINN, Final Loss: 0.095858, L1 Error: 0.505494, L2 Error: 0.494996\n",
            "\n",
            "Testing combination 41/64: {'learning_rate': 0.001, 'hidden_layers': 2, 'hidden_units': 256, 'initial_region': 0.0001, 'sample_num': 1, 'past_iterations': 5}\n"
          ]
        },
        {
          "name": "stderr",
          "output_type": "stream",
          "text": [
            "100%|██████████| 500/500 [00:58<00:00,  8.56it/s]\n"
          ]
        },
        {
          "name": "stdout",
          "output_type": "stream",
          "text": [
            "Model: PINN, Final Loss: 0.144982, L1 Error: 0.798688, L2 Error: 0.792174\n",
            "\n",
            "Testing combination 42/64: {'learning_rate': 0.001, 'hidden_layers': 2, 'hidden_units': 256, 'initial_region': 0.0001, 'sample_num': 1, 'past_iterations': 10}\n"
          ]
        },
        {
          "name": "stderr",
          "output_type": "stream",
          "text": [
            "100%|██████████| 500/500 [01:39<00:00,  5.03it/s]\n"
          ]
        },
        {
          "name": "stdout",
          "output_type": "stream",
          "text": [
            "Model: PINN, Final Loss: 0.069137, L1 Error: 0.464612, L2 Error: 0.454267\n",
            "\n",
            "Testing combination 43/64: {'learning_rate': 0.001, 'hidden_layers': 2, 'hidden_units': 256, 'initial_region': 0.0001, 'sample_num': 5, 'past_iterations': 5}\n"
          ]
        },
        {
          "name": "stderr",
          "output_type": "stream",
          "text": [
            "100%|██████████| 500/500 [02:32<00:00,  3.28it/s]\n"
          ]
        },
        {
          "name": "stdout",
          "output_type": "stream",
          "text": [
            "Model: PINN, Final Loss: 0.092555, L1 Error: 0.504352, L2 Error: 0.493795\n",
            "\n",
            "Testing combination 44/64: {'learning_rate': 0.001, 'hidden_layers': 2, 'hidden_units': 256, 'initial_region': 0.0001, 'sample_num': 5, 'past_iterations': 10}\n"
          ]
        },
        {
          "name": "stderr",
          "output_type": "stream",
          "text": [
            "100%|██████████| 500/500 [02:30<00:00,  3.32it/s]\n"
          ]
        },
        {
          "name": "stdout",
          "output_type": "stream",
          "text": [
            "Model: PINN, Final Loss: 0.106673, L1 Error: 0.575898, L2 Error: 0.573254\n",
            "\n",
            "Testing combination 45/64: {'learning_rate': 0.001, 'hidden_layers': 2, 'hidden_units': 256, 'initial_region': 0.001, 'sample_num': 1, 'past_iterations': 5}\n"
          ]
        },
        {
          "name": "stderr",
          "output_type": "stream",
          "text": [
            "100%|██████████| 500/500 [01:10<00:00,  7.12it/s]\n"
          ]
        },
        {
          "name": "stdout",
          "output_type": "stream",
          "text": [
            "Model: PINN, Final Loss: 0.130383, L1 Error: 0.727195, L2 Error: 0.722246\n",
            "\n",
            "Testing combination 46/64: {'learning_rate': 0.001, 'hidden_layers': 2, 'hidden_units': 256, 'initial_region': 0.001, 'sample_num': 1, 'past_iterations': 10}\n"
          ]
        },
        {
          "name": "stderr",
          "output_type": "stream",
          "text": [
            "100%|██████████| 500/500 [01:16<00:00,  6.55it/s]\n"
          ]
        },
        {
          "name": "stdout",
          "output_type": "stream",
          "text": [
            "Model: PINN, Final Loss: 0.118508, L1 Error: 0.647068, L2 Error: 0.641569\n",
            "\n",
            "Testing combination 47/64: {'learning_rate': 0.001, 'hidden_layers': 2, 'hidden_units': 256, 'initial_region': 0.001, 'sample_num': 5, 'past_iterations': 5}\n"
          ]
        },
        {
          "name": "stderr",
          "output_type": "stream",
          "text": [
            "100%|██████████| 500/500 [02:11<00:00,  3.79it/s]\n"
          ]
        },
        {
          "name": "stdout",
          "output_type": "stream",
          "text": [
            "Model: PINN, Final Loss: 0.098253, L1 Error: 0.524498, L2 Error: 0.515649\n",
            "\n",
            "Testing combination 48/64: {'learning_rate': 0.001, 'hidden_layers': 2, 'hidden_units': 256, 'initial_region': 0.001, 'sample_num': 5, 'past_iterations': 10}\n"
          ]
        },
        {
          "name": "stderr",
          "output_type": "stream",
          "text": [
            "100%|██████████| 500/500 [02:27<00:00,  3.39it/s]\n"
          ]
        },
        {
          "name": "stdout",
          "output_type": "stream",
          "text": [
            "Model: PINN, Final Loss: 0.099164, L1 Error: 0.514439, L2 Error: 0.505393\n",
            "\n",
            "Testing combination 49/64: {'learning_rate': 0.001, 'hidden_layers': 4, 'hidden_units': 128, 'initial_region': 0.0001, 'sample_num': 1, 'past_iterations': 5}\n"
          ]
        },
        {
          "name": "stderr",
          "output_type": "stream",
          "text": [
            "100%|██████████| 500/500 [02:32<00:00,  3.28it/s]\n"
          ]
        },
        {
          "name": "stdout",
          "output_type": "stream",
          "text": [
            "Model: PINN, Final Loss: 0.050115, L1 Error: 0.422479, L2 Error: 0.422542\n",
            "\n",
            "Testing combination 50/64: {'learning_rate': 0.001, 'hidden_layers': 4, 'hidden_units': 128, 'initial_region': 0.0001, 'sample_num': 1, 'past_iterations': 10}\n"
          ]
        },
        {
          "name": "stderr",
          "output_type": "stream",
          "text": [
            "100%|██████████| 500/500 [03:01<00:00,  2.76it/s]\n"
          ]
        },
        {
          "name": "stdout",
          "output_type": "stream",
          "text": [
            "Model: PINN, Final Loss: 0.054638, L1 Error: 0.408619, L2 Error: 0.403155\n",
            "\n",
            "Testing combination 51/64: {'learning_rate': 0.001, 'hidden_layers': 4, 'hidden_units': 128, 'initial_region': 0.0001, 'sample_num': 5, 'past_iterations': 5}\n"
          ]
        },
        {
          "name": "stderr",
          "output_type": "stream",
          "text": [
            "100%|██████████| 500/500 [05:46<00:00,  1.44it/s]\n"
          ]
        },
        {
          "name": "stdout",
          "output_type": "stream",
          "text": [
            "Model: PINN, Final Loss: 0.041234, L1 Error: 0.378526, L2 Error: 0.387648\n",
            "\n",
            "Testing combination 52/64: {'learning_rate': 0.001, 'hidden_layers': 4, 'hidden_units': 128, 'initial_region': 0.0001, 'sample_num': 5, 'past_iterations': 10}\n"
          ]
        },
        {
          "name": "stderr",
          "output_type": "stream",
          "text": [
            "100%|██████████| 500/500 [05:39<00:00,  1.47it/s]\n"
          ]
        },
        {
          "name": "stdout",
          "output_type": "stream",
          "text": [
            "Model: PINN, Final Loss: 0.048024, L1 Error: 0.426675, L2 Error: 0.428963\n",
            "\n",
            "Testing combination 53/64: {'learning_rate': 0.001, 'hidden_layers': 4, 'hidden_units': 128, 'initial_region': 0.001, 'sample_num': 1, 'past_iterations': 5}\n"
          ]
        },
        {
          "name": "stderr",
          "output_type": "stream",
          "text": [
            "100%|██████████| 500/500 [01:29<00:00,  5.61it/s]\n"
          ]
        },
        {
          "name": "stdout",
          "output_type": "stream",
          "text": [
            "Model: PINN, Final Loss: 0.160796, L1 Error: 0.818379, L2 Error: 0.804451\n",
            "\n",
            "Testing combination 54/64: {'learning_rate': 0.001, 'hidden_layers': 4, 'hidden_units': 128, 'initial_region': 0.001, 'sample_num': 1, 'past_iterations': 10}\n"
          ]
        },
        {
          "name": "stderr",
          "output_type": "stream",
          "text": [
            "100%|██████████| 500/500 [01:48<00:00,  4.62it/s]\n"
          ]
        },
        {
          "name": "stdout",
          "output_type": "stream",
          "text": [
            "Model: PINN, Final Loss: 0.115430, L1 Error: 0.652189, L2 Error: 0.647519\n",
            "\n",
            "Testing combination 55/64: {'learning_rate': 0.001, 'hidden_layers': 4, 'hidden_units': 128, 'initial_region': 0.001, 'sample_num': 5, 'past_iterations': 5}\n"
          ]
        },
        {
          "name": "stderr",
          "output_type": "stream",
          "text": [
            "100%|██████████| 500/500 [03:11<00:00,  2.60it/s]\n"
          ]
        },
        {
          "name": "stdout",
          "output_type": "stream",
          "text": [
            "Model: PINN, Final Loss: 0.170406, L1 Error: 0.850589, L2 Error: 0.835157\n",
            "\n",
            "Testing combination 56/64: {'learning_rate': 0.001, 'hidden_layers': 4, 'hidden_units': 128, 'initial_region': 0.001, 'sample_num': 5, 'past_iterations': 10}\n"
          ]
        },
        {
          "name": "stderr",
          "output_type": "stream",
          "text": [
            "100%|██████████| 500/500 [04:02<00:00,  2.06it/s]\n"
          ]
        },
        {
          "name": "stdout",
          "output_type": "stream",
          "text": [
            "Model: PINN, Final Loss: 0.097948, L1 Error: 0.600816, L2 Error: 0.598029\n",
            "\n",
            "Testing combination 57/64: {'learning_rate': 0.001, 'hidden_layers': 4, 'hidden_units': 256, 'initial_region': 0.0001, 'sample_num': 1, 'past_iterations': 5}\n"
          ]
        },
        {
          "name": "stderr",
          "output_type": "stream",
          "text": [
            "100%|██████████| 500/500 [03:27<00:00,  2.40it/s]\n"
          ]
        },
        {
          "name": "stdout",
          "output_type": "stream",
          "text": [
            "Model: PINN, Final Loss: 0.079158, L1 Error: 0.531571, L2 Error: 0.538553\n",
            "\n",
            "Testing combination 58/64: {'learning_rate': 0.001, 'hidden_layers': 4, 'hidden_units': 256, 'initial_region': 0.0001, 'sample_num': 1, 'past_iterations': 10}\n"
          ]
        },
        {
          "name": "stderr",
          "output_type": "stream",
          "text": [
            "100%|██████████| 500/500 [04:06<00:00,  2.03it/s]\n"
          ]
        },
        {
          "name": "stdout",
          "output_type": "stream",
          "text": [
            "Model: PINN, Final Loss: 0.085877, L1 Error: 0.491954, L2 Error: 0.481056\n",
            "\n",
            "Testing combination 59/64: {'learning_rate': 0.001, 'hidden_layers': 4, 'hidden_units': 256, 'initial_region': 0.0001, 'sample_num': 5, 'past_iterations': 5}\n"
          ]
        },
        {
          "name": "stderr",
          "output_type": "stream",
          "text": [
            "100%|██████████| 500/500 [13:29<00:00,  1.62s/it]\n"
          ]
        },
        {
          "name": "stdout",
          "output_type": "stream",
          "text": [
            "Model: PINN, Final Loss: 0.036253, L1 Error: 0.337803, L2 Error: 0.340714\n",
            "\n",
            "Testing combination 60/64: {'learning_rate': 0.001, 'hidden_layers': 4, 'hidden_units': 256, 'initial_region': 0.0001, 'sample_num': 5, 'past_iterations': 10}\n"
          ]
        },
        {
          "name": "stderr",
          "output_type": "stream",
          "text": [
            "100%|██████████| 500/500 [07:14<00:00,  1.15it/s]\n"
          ]
        },
        {
          "name": "stdout",
          "output_type": "stream",
          "text": [
            "Model: PINN, Final Loss: 0.085767, L1 Error: 0.552897, L2 Error: 0.558876\n",
            "\n",
            "Testing combination 61/64: {'learning_rate': 0.001, 'hidden_layers': 4, 'hidden_units': 256, 'initial_region': 0.001, 'sample_num': 1, 'past_iterations': 5}\n"
          ]
        },
        {
          "name": "stderr",
          "output_type": "stream",
          "text": [
            "100%|██████████| 500/500 [02:04<00:00,  4.02it/s]\n"
          ]
        },
        {
          "name": "stdout",
          "output_type": "stream",
          "text": [
            "Model: PINN, Final Loss: 0.181449, L1 Error: 0.872875, L2 Error: 0.855161\n",
            "\n",
            "Testing combination 62/64: {'learning_rate': 0.001, 'hidden_layers': 4, 'hidden_units': 256, 'initial_region': 0.001, 'sample_num': 1, 'past_iterations': 10}\n"
          ]
        },
        {
          "name": "stderr",
          "output_type": "stream",
          "text": [
            "100%|██████████| 500/500 [02:22<00:00,  3.50it/s]\n"
          ]
        },
        {
          "name": "stdout",
          "output_type": "stream",
          "text": [
            "Model: PINN, Final Loss: 0.145185, L1 Error: 0.774612, L2 Error: 0.765366\n",
            "\n",
            "Testing combination 63/64: {'learning_rate': 0.001, 'hidden_layers': 4, 'hidden_units': 256, 'initial_region': 0.001, 'sample_num': 5, 'past_iterations': 5}\n"
          ]
        },
        {
          "name": "stderr",
          "output_type": "stream",
          "text": [
            "100%|██████████| 500/500 [06:39<00:00,  1.25it/s]\n"
          ]
        },
        {
          "name": "stdout",
          "output_type": "stream",
          "text": [
            "Model: PINN, Final Loss: 0.126616, L1 Error: 0.696309, L2 Error: 0.694696\n",
            "\n",
            "Testing combination 64/64: {'learning_rate': 0.001, 'hidden_layers': 4, 'hidden_units': 256, 'initial_region': 0.001, 'sample_num': 5, 'past_iterations': 10}\n"
          ]
        },
        {
          "name": "stderr",
          "output_type": "stream",
          "text": [
            "100%|██████████| 500/500 [06:29<00:00,  1.28it/s]"
          ]
        },
        {
          "name": "stdout",
          "output_type": "stream",
          "text": [
            "Model: PINN, Final Loss: 0.129097, L1 Error: 0.722650, L2 Error: 0.718638\n",
            "\n",
            "Results saved to ./results/wave_region_optimized_results/hyperparameter_search_results.csv\n"
          ]
        },
        {
          "name": "stderr",
          "output_type": "stream",
          "text": [
            "\n"
          ]
        }
      ],
      "source": [
        "import os\n",
        "import time\n",
        "import torch\n",
        "import torch.nn as nn\n",
        "import matplotlib.pyplot as plt\n",
        "import random\n",
        "import numpy as np\n",
        "from itertools import product\n",
        "from tqdm import tqdm\n",
        "import pandas as pd\n",
        "from util import get_data, make_time_sequence, get_n_params\n",
        "from model_dict import get_model\n",
        "\n",
        "# Set seeds for reproducibility\n",
        "seed = 0\n",
        "np.random.seed(seed)\n",
        "random.seed(seed)\n",
        "torch.manual_seed(seed)\n",
        "torch.cuda.manual_seed(seed)\n",
        "\n",
        "# Check for CUDA availability\n",
        "device = \"cuda\" if torch.cuda.is_available() else \"cpu\"\n",
        "print(f\"Using device: {device}\")\n",
        "\n",
        "def init_weights(m):\n",
        "    if isinstance(m, nn.Linear):\n",
        "        torch.nn.init.xavier_uniform_(m.weight)\n",
        "        if m.bias is not None:\n",
        "            m.bias.data.fill_(0.01)\n",
        "\n",
        "def u_ana_fn(x, t):\n",
        "    # Analytical solution: u(x,t)=sin(pi*x)*cos(2*pi*t)+0.5*sin(3*pi*x)*cos(6*pi*t)\n",
        "    return np.sin(np.pi*x)*np.cos(2*np.pi*t) + 0.5*np.sin(3*np.pi*x)*np.cos(6*np.pi*t)\n",
        "\n",
        "def train_model(model_name, learning_rate, hidden_layers, hidden_units,\n",
        "                initial_region, sample_num, past_iterations,\n",
        "                device=\"cpu\", max_epochs=500):\n",
        "    # Data preparation\n",
        "    res, b_left, b_right, b_upper, b_lower = get_data([0,1],[0,1],101,101)\n",
        "    res_test, _, _, _, _ = get_data([0,1],[0,1],101,101)\n",
        "\n",
        "    # For PINNsFormer models, make time sequences\n",
        "    if model_name in ['PINNsFormer', 'PINNsFormer_Enc_Only']:\n",
        "        res = make_time_sequence(res, num_step=5, step=1e-4)\n",
        "        b_left = make_time_sequence(b_left, num_step=5, step=1e-4)\n",
        "        b_right = make_time_sequence(b_right, num_step=5, step=1e-4)\n",
        "        b_upper = make_time_sequence(b_upper, num_step=5, step=1e-4)\n",
        "        b_lower = make_time_sequence(b_lower, num_step=5, step=1e-4)\n",
        "\n",
        "    # Convert data to tensors (double precision)\n",
        "    res = torch.tensor(res, dtype=torch.float64, requires_grad=True).to(device)\n",
        "    b_left = torch.tensor(b_left, dtype=torch.float64, requires_grad=True).to(device)\n",
        "    b_right = torch.tensor(b_right, dtype=torch.float64, requires_grad=True).to(device)\n",
        "    b_upper = torch.tensor(b_upper, dtype=torch.float64, requires_grad=True).to(device)\n",
        "    b_lower = torch.tensor(b_lower, dtype=torch.float64, requires_grad=True).to(device)\n",
        "\n",
        "    x_res, t_res = res[...,0:1], res[...,1:2]\n",
        "    x_left, t_left = b_left[...,0:1], b_left[...,1:2]\n",
        "    x_right, t_right = b_right[...,0:1], b_right[...,1:2]\n",
        "    x_upper, t_upper = b_upper[...,0:1], b_upper[...,1:2]\n",
        "    x_lower, t_lower = b_lower[...,0:1], b_lower[...,1:2]\n",
        "\n",
        "    # Initialize model\n",
        "    ModelClass = get_model(model_name)\n",
        "    if model_name == 'KAN':\n",
        "        model = ModelClass(width=[2,5,5,1], grid=5, k=3, grid_eps=1.0,\n",
        "                           noise_scale_base=0.25, device=device).to(device).double()\n",
        "    elif model_name in ['PINNsFormer','PINNsFormer_Enc_Only']:\n",
        "        model = ModelClass(in_dim=2, hidden_dim=32, out_dim=1, num_layer=1).to(device).double()\n",
        "    else:\n",
        "        model = ModelClass(in_dim=2, hidden_dim=hidden_units, out_dim=1, num_layer=hidden_layers).to(device).double()\n",
        "\n",
        "    model.apply(init_weights)\n",
        "\n",
        "    # Use LBFGS optimizer\n",
        "    optimizer = torch.optim.LBFGS(model.parameters(), lr=learning_rate, max_iter=20,\n",
        "                                  history_size=50, line_search_fn='strong_wolfe')\n",
        "\n",
        "    gradient_list_overall = []\n",
        "    gradient_list_temp = []\n",
        "    gradient_variance = 1.0\n",
        "\n",
        "    loss_history = []\n",
        "    pi = torch.tensor(np.pi, dtype=torch.float64, requires_grad=False).to(device)\n",
        "\n",
        "    for epoch in tqdm(range(max_epochs)):\n",
        "        def closure():\n",
        "            optimizer.zero_grad()\n",
        "            x_res_region_sample_list = []\n",
        "            t_res_region_sample_list = []\n",
        "\n",
        "            # Region Sampling\n",
        "            clamped_value = max(min(initial_region / gradient_variance, 0.01), 0)\n",
        "            for _ in range(sample_num):\n",
        "                x_region_sample = (torch.rand_like(x_res)*clamped_value).to(device)\n",
        "                t_region_sample = (torch.rand_like(t_res)*clamped_value).to(device)\n",
        "                # clamp t to [0,1]\n",
        "                t_perturbed = torch.clamp(t_res + t_region_sample, min=0.0, max=1.0)\n",
        "                # clamp x to [0,1] since BC presumably at x=0 and x=1\n",
        "                x_perturbed = torch.clamp(x_res + x_region_sample, min=0.0, max=1.0)\n",
        "                x_res_region_sample_list.append(x_perturbed)\n",
        "                t_res_region_sample_list.append(t_perturbed)\n",
        "\n",
        "            x_res_region_sample = torch.cat(x_res_region_sample_list, dim=0)\n",
        "            t_res_region_sample = torch.cat(t_res_region_sample_list, dim=0)\n",
        "\n",
        "            pred_res = model(x_res_region_sample, t_res_region_sample)\n",
        "            pred_left = model(x_left, t_left)\n",
        "            pred_right = model(x_right, t_right)\n",
        "            pred_upper = model(x_upper, t_upper)\n",
        "            pred_lower = model(x_lower, t_lower)\n",
        "\n",
        "            # Check for NaN in predictions\n",
        "            if torch.isnan(pred_res).any():\n",
        "                print(f\"NaN in pred_res at epoch {epoch}\")\n",
        "                loss = torch.tensor(float('nan'), dtype=torch.float64, requires_grad=True).to(device)\n",
        "                loss.backward()\n",
        "                return loss\n",
        "\n",
        "            u_x = torch.autograd.grad(pred_res, x_res_region_sample, grad_outputs=torch.ones_like(pred_res),\n",
        "                                      retain_graph=True, create_graph=True)[0]\n",
        "            u_t = torch.autograd.grad(pred_res, t_res_region_sample, grad_outputs=torch.ones_like(pred_res),\n",
        "                                      retain_graph=True, create_graph=True)[0]\n",
        "            u_xx = torch.autograd.grad(u_x, x_res_region_sample, grad_outputs=torch.ones_like(u_x),\n",
        "                                       retain_graph=True, create_graph=True)[0]\n",
        "            u_tt = torch.autograd.grad(u_t, t_res_region_sample, grad_outputs=torch.ones_like(u_t),\n",
        "                                       retain_graph=True, create_graph=True)[0]\n",
        "\n",
        "            if (torch.isnan(u_x).any() or torch.isnan(u_t).any() or\n",
        "                torch.isnan(u_xx).any() or torch.isnan(u_tt).any()):\n",
        "                print(f\"NaN in derivatives at epoch {epoch}\")\n",
        "                loss = torch.tensor(float('nan'), dtype=torch.float64, requires_grad=True).to(device)\n",
        "                loss.backward()\n",
        "                return loss\n",
        "\n",
        "            # PDE Residual: u_tt =4 u_xx\n",
        "            loss_res = torch.mean((u_tt -4*u_xx)**2)\n",
        "\n",
        "            # Boundary conditions: pred_upper(t=1) and pred_lower(t=0)\n",
        "            loss_bc = torch.mean((pred_upper)**2) + torch.mean((pred_lower)**2)\n",
        "\n",
        "            ui_t = torch.autograd.grad(pred_left, t_left, grad_outputs=torch.ones_like(pred_left),\n",
        "                                       retain_graph=True, create_graph=True)[0]\n",
        "\n",
        "            loss_ic_1 = torch.mean((pred_left[...,0] - (torch.sin(pi*x_left[...,0]) + 0.5*torch.sin(3*pi*x_left[...,0])))**2)\n",
        "            loss_ic_2 = torch.mean((ui_t)**2)\n",
        "            loss_ic = loss_ic_1 + loss_ic_2\n",
        "\n",
        "            if torch.isnan(loss_res) or torch.isnan(loss_ic) or torch.isnan(loss_bc):\n",
        "                print(f\"NaN in loss components at epoch {epoch}\")\n",
        "                loss = torch.tensor(float('nan'), dtype=torch.float64, requires_grad=True).to(device)\n",
        "                loss.backward()\n",
        "                return loss\n",
        "\n",
        "            loss = loss_res + loss_ic + loss_bc\n",
        "            loss_history.append(loss.item())\n",
        "\n",
        "            loss.backward(retain_graph=True)\n",
        "\n",
        "            # Collect gradients for trust region calibration\n",
        "            grads = []\n",
        "            for p in model.parameters():\n",
        "                if p.grad is not None:\n",
        "                    grads.append(p.grad.view(-1))\n",
        "                else:\n",
        "                    grads.append(torch.zeros(1, dtype=torch.float64, device=device))\n",
        "            grads_cat = torch.cat(grads).cpu().numpy()\n",
        "            gradient_list_temp.append(grads_cat)\n",
        "\n",
        "            return loss\n",
        "\n",
        "        optimizer.step(closure)\n",
        "\n",
        "        # Trust Region Calibration\n",
        "        if gradient_list_temp:\n",
        "            gradient_list_overall.append(np.mean(np.array(gradient_list_temp), axis=0))\n",
        "            gradient_list_overall = gradient_list_overall[-past_iterations:]\n",
        "            gradient_list = np.array(gradient_list_overall)\n",
        "            gradient_variance = (\n",
        "                np.std(gradient_list, axis=0) /\n",
        "                (np.mean(np.abs(gradient_list), axis=0) + 1e-6)\n",
        "            ).mean()\n",
        "            gradient_list_temp = []\n",
        "            if gradient_variance == 0:\n",
        "                gradient_variance = 1.0\n",
        "\n",
        "    # Retrieve final loss\n",
        "    if len(loss_history)>0:\n",
        "        final_loss = loss_history[-1]\n",
        "    else:\n",
        "        final_loss = float('nan')\n",
        "\n",
        "    # Evaluation\n",
        "    with torch.no_grad():\n",
        "        if model_name in ['PINNsFormer','PINNsFormer_Enc_Only']:\n",
        "            res_test_mod = make_time_sequence(res_test, num_step=5, step=1e-4)\n",
        "        else:\n",
        "            res_test_mod = res_test\n",
        "\n",
        "        res_test_tensor = torch.tensor(res_test_mod, dtype=torch.float64).to(device)\n",
        "        x_test, t_test = res_test_tensor[...,0:1], res_test_tensor[...,1:2]\n",
        "        pred = model(x_test, t_test).cpu().numpy()\n",
        "\n",
        "    pred = pred.reshape(101,101)\n",
        "    u = u_ana_fn(res_test_tensor.cpu().numpy()[...,0], res_test_tensor.cpu().numpy()[...,1]).reshape(101,101)\n",
        "\n",
        "    denom_l1 = np.sum(np.abs(u))\n",
        "    denom_l2 = np.sum(u**2)\n",
        "    if denom_l1 == 0:\n",
        "        print(\"Warning: zero denominator in L1 error\")\n",
        "        rl1 = float('nan')\n",
        "    else:\n",
        "        rl1 = np.sum(np.abs(u - pred))/denom_l1\n",
        "\n",
        "    if denom_l2 == 0:\n",
        "        print(\"Warning: zero denominator in L2 error\")\n",
        "        rl2 = float('nan')\n",
        "    else:\n",
        "        rl2 = np.sqrt(np.sum((u - pred)**2)/denom_l2)\n",
        "\n",
        "    return final_loss, rl1, rl2\n",
        "\n",
        "def hyperparameter_search(models, param_grid, device=\"cuda\", max_epochs=500):\n",
        "    results_dir = \"./results/wave_region_optimized_results\"\n",
        "    os.makedirs(results_dir, exist_ok=True)\n",
        "    results_file = os.path.join(results_dir, \"hyperparameter_search_results.csv\")\n",
        "\n",
        "    keys = list(param_grid.keys())\n",
        "    values = [param_grid[k] for k in keys]\n",
        "    combos = list(product(*values))\n",
        "\n",
        "    results = []\n",
        "\n",
        "    for model_name in models:\n",
        "        print(f\"\\nTesting model: {model_name}\")\n",
        "        print(f\"Total hyperparameter combinations: {len(combos)}\")\n",
        "\n",
        "        for idx, combo in enumerate(combos):\n",
        "            hyperparams = dict(zip(keys, combo))\n",
        "            print(f\"\\nTesting combination {idx+1}/{len(combos)}: {hyperparams}\")\n",
        "\n",
        "            train_args = {\n",
        "                'model_name': model_name,\n",
        "                'learning_rate': hyperparams[\"learning_rate\"],\n",
        "                'hidden_layers': hyperparams[\"hidden_layers\"],\n",
        "                'hidden_units': hyperparams[\"hidden_units\"],\n",
        "                'initial_region': hyperparams[\"initial_region\"],\n",
        "                'sample_num': hyperparams[\"sample_num\"],\n",
        "                'past_iterations': hyperparams[\"past_iterations\"],\n",
        "                'device': device,\n",
        "                'max_epochs': max_epochs,\n",
        "            }\n",
        "\n",
        "            start_time = time.time()\n",
        "            try:\n",
        "                final_loss, rl1, rl2 = train_model(**train_args)\n",
        "                runtime = time.time() - start_time\n",
        "                results.append({\n",
        "                    \"model\": model_name,\n",
        "                    **hyperparams,\n",
        "                    \"final_loss\": final_loss,\n",
        "                    \"relative_L1_error\": rl1,\n",
        "                    \"relative_L2_error\": rl2,\n",
        "                    \"runtime_seconds\": runtime,\n",
        "                })\n",
        "                print(f\"Model: {model_name}, Final Loss: {final_loss:.6f}, \"\n",
        "                      f\"L1 Error: {rl1:.6f}, L2 Error: {rl2:.6f}\")\n",
        "            except Exception as e:\n",
        "                print(f\"Error with combo {hyperparams}: {e}\")\n",
        "                results.append({\n",
        "                    \"model\": model_name,\n",
        "                    **hyperparams,\n",
        "                    \"final_loss\": None,\n",
        "                    \"relative_L1_error\": None,\n",
        "                    \"relative_L2_error\": None,\n",
        "                    \"runtime_seconds\": None,\n",
        "                })\n",
        "\n",
        "    results_df = pd.DataFrame(results)\n",
        "    results_df.to_csv(results_file, index=False)\n",
        "    print(f\"\\nResults saved to {results_file}\")\n",
        "    return results_df\n",
        "\n",
        "if __name__ == \"__main__\":\n",
        "    # Param grid with region optimization parameters included\n",
        "    param_grid = {\n",
        "        \"learning_rate\": [0.0001, 0.001],\n",
        "        \"hidden_layers\": [2, 4],\n",
        "        \"hidden_units\": [128, 256],\n",
        "        \"initial_region\": [1e-4, 1e-3],\n",
        "        \"sample_num\": [1, 5],\n",
        "        \"past_iterations\": [5, 10],\n",
        "    }\n",
        "\n",
        "    models = [\"PINN\"]\n",
        "    results = hyperparameter_search(models=models, param_grid=param_grid, device=device, max_epochs=500)\n"
      ]
    },
    {
      "cell_type": "markdown",
      "source": [
        "## Convection_region"
      ],
      "metadata": {
        "id": "OyTUTrl46JCB"
      }
    },
    {
      "cell_type": "code",
      "execution_count": null,
      "metadata": {
        "colab": {
          "base_uri": "https://localhost:8080/"
        },
        "id": "T9k6yz3Np012",
        "outputId": "022188d9-62a0-4424-8eec-9c6d8920d002"
      },
      "outputs": [
        {
          "metadata": {
            "tags": null
          },
          "name": "stdout",
          "output_type": "stream",
          "text": [
            "\n",
            "Training with hyperparams: lr=0.001, hl=2, hu=128, initial_region=0.0001, sample_num=1, past_iterations=5\n"
          ]
        },
        {
          "metadata": {
            "tags": null
          },
          "name": "stderr",
          "output_type": "stream",
          "text": [
            "  0%|          | 0/500 [00:00<?, ?it/s]/usr/local/lib/python3.10/dist-packages/torch/autograd/graph.py:825: UserWarning: Attempting to run cuBLAS, but there was no current CUDA context! Attempting to set the primary context... (Triggered internally at ../aten/src/ATen/cuda/CublasHandlePool.cpp:135.)\n",
            "  return Variable._execution_engine.run_backward(  # Calls into the C++ engine to run the backward pass\n",
            "100%|██████████| 500/500 [00:35<00:00, 14.14it/s]\n"
          ]
        },
        {
          "metadata": {
            "tags": null
          },
          "name": "stdout",
          "output_type": "stream",
          "text": [
            "Final epoch Loss Res: 0.002866, Loss IC: 0.489014, Loss BC: 0.000060\n",
            "Final epoch Train Loss: 0.491940\n",
            "Hyperparams: lr=0.001, hl=2, hu=128, init_reg=0.0001, s_num=1, p_iter=5\n",
            "relative L1 error: 0.995468\n",
            "relative L2 error: 0.996439\n",
            "\n",
            "Training with hyperparams: lr=0.001, hl=2, hu=128, initial_region=0.0001, sample_num=1, past_iterations=10\n"
          ]
        },
        {
          "metadata": {
            "tags": null
          },
          "name": "stderr",
          "output_type": "stream",
          "text": [
            "100%|██████████| 500/500 [00:24<00:00, 20.47it/s]\n"
          ]
        },
        {
          "metadata": {
            "tags": null
          },
          "name": "stdout",
          "output_type": "stream",
          "text": [
            "Final epoch Loss Res: 0.002093, Loss IC: 0.490283, Loss BC: 0.000100\n",
            "Final epoch Train Loss: 0.492476\n",
            "Hyperparams: lr=0.001, hl=2, hu=128, init_reg=0.0001, s_num=1, p_iter=10\n",
            "relative L1 error: 0.989620\n",
            "relative L2 error: 0.992009\n",
            "\n",
            "Training with hyperparams: lr=0.001, hl=2, hu=128, initial_region=0.0001, sample_num=5, past_iterations=5\n"
          ]
        },
        {
          "metadata": {
            "tags": null
          },
          "name": "stderr",
          "output_type": "stream",
          "text": [
            "100%|██████████| 500/500 [00:42<00:00, 11.84it/s]\n"
          ]
        },
        {
          "metadata": {
            "tags": null
          },
          "name": "stdout",
          "output_type": "stream",
          "text": [
            "Final epoch Loss Res: 0.003076, Loss IC: 0.488668, Loss BC: 0.000047\n",
            "Final epoch Train Loss: 0.491792\n",
            "Hyperparams: lr=0.001, hl=2, hu=128, init_reg=0.0001, s_num=5, p_iter=5\n",
            "relative L1 error: 0.995638\n",
            "relative L2 error: 0.996728\n",
            "\n",
            "Training with hyperparams: lr=0.001, hl=2, hu=128, initial_region=0.0001, sample_num=5, past_iterations=10\n"
          ]
        },
        {
          "metadata": {
            "tags": null
          },
          "name": "stderr",
          "output_type": "stream",
          "text": [
            "100%|██████████| 500/500 [00:47<00:00, 10.49it/s]\n"
          ]
        },
        {
          "metadata": {
            "tags": null
          },
          "name": "stdout",
          "output_type": "stream",
          "text": [
            "Final epoch Loss Res: 0.002828, Loss IC: 0.488375, Loss BC: 0.000059\n",
            "Final epoch Train Loss: 0.491261\n",
            "Hyperparams: lr=0.001, hl=2, hu=128, init_reg=0.0001, s_num=5, p_iter=10\n",
            "relative L1 error: 0.995515\n",
            "relative L2 error: 0.996870\n",
            "\n",
            "Training with hyperparams: lr=0.001, hl=2, hu=128, initial_region=0.001, sample_num=1, past_iterations=5\n"
          ]
        },
        {
          "metadata": {
            "tags": null
          },
          "name": "stderr",
          "output_type": "stream",
          "text": [
            "100%|██████████| 500/500 [00:38<00:00, 13.08it/s]\n"
          ]
        },
        {
          "metadata": {
            "tags": null
          },
          "name": "stdout",
          "output_type": "stream",
          "text": [
            "Final epoch Loss Res: 0.002536, Loss IC: 0.489618, Loss BC: 0.000063\n",
            "Final epoch Train Loss: 0.492217\n",
            "Hyperparams: lr=0.001, hl=2, hu=128, init_reg=0.001, s_num=1, p_iter=5\n",
            "relative L1 error: 0.992775\n",
            "relative L2 error: 0.994485\n",
            "\n",
            "Training with hyperparams: lr=0.001, hl=2, hu=128, initial_region=0.001, sample_num=1, past_iterations=10\n"
          ]
        },
        {
          "metadata": {
            "tags": null
          },
          "name": "stderr",
          "output_type": "stream",
          "text": [
            "100%|██████████| 500/500 [00:38<00:00, 12.82it/s]\n"
          ]
        },
        {
          "metadata": {
            "tags": null
          },
          "name": "stdout",
          "output_type": "stream",
          "text": [
            "Final epoch Loss Res: 0.002113, Loss IC: 0.490140, Loss BC: 0.000094\n",
            "Final epoch Train Loss: 0.492347\n",
            "Hyperparams: lr=0.001, hl=2, hu=128, init_reg=0.001, s_num=1, p_iter=10\n",
            "relative L1 error: 0.991876\n",
            "relative L2 error: 0.993679\n",
            "\n",
            "Training with hyperparams: lr=0.001, hl=2, hu=128, initial_region=0.001, sample_num=5, past_iterations=5\n"
          ]
        },
        {
          "metadata": {
            "tags": null
          },
          "name": "stderr",
          "output_type": "stream",
          "text": [
            "100%|██████████| 500/500 [00:32<00:00, 15.28it/s]\n"
          ]
        },
        {
          "metadata": {
            "tags": null
          },
          "name": "stdout",
          "output_type": "stream",
          "text": [
            "Final epoch Loss Res: 0.001977, Loss IC: 0.490846, Loss BC: 0.000138\n",
            "Final epoch Train Loss: 0.492962\n",
            "Hyperparams: lr=0.001, hl=2, hu=128, init_reg=0.001, s_num=5, p_iter=5\n",
            "relative L1 error: 0.981816\n",
            "relative L2 error: 0.986257\n",
            "\n",
            "Training with hyperparams: lr=0.001, hl=2, hu=128, initial_region=0.001, sample_num=5, past_iterations=10\n"
          ]
        },
        {
          "metadata": {
            "tags": null
          },
          "name": "stderr",
          "output_type": "stream",
          "text": [
            "100%|██████████| 500/500 [00:47<00:00, 10.51it/s]\n"
          ]
        },
        {
          "metadata": {
            "tags": null
          },
          "name": "stdout",
          "output_type": "stream",
          "text": [
            "Final epoch Loss Res: 0.002497, Loss IC: 0.489824, Loss BC: 0.000079\n",
            "Final epoch Train Loss: 0.492400\n",
            "Hyperparams: lr=0.001, hl=2, hu=128, init_reg=0.001, s_num=5, p_iter=10\n",
            "relative L1 error: 0.993775\n",
            "relative L2 error: 0.995056\n",
            "\n",
            "Training with hyperparams: lr=0.001, hl=2, hu=256, initial_region=0.0001, sample_num=1, past_iterations=5\n"
          ]
        },
        {
          "metadata": {
            "tags": null
          },
          "name": "stderr",
          "output_type": "stream",
          "text": [
            "100%|██████████| 500/500 [00:32<00:00, 15.20it/s]\n"
          ]
        },
        {
          "metadata": {
            "tags": null
          },
          "name": "stdout",
          "output_type": "stream",
          "text": [
            "Final epoch Loss Res: 0.002214, Loss IC: 0.490178, Loss BC: 0.000101\n",
            "Final epoch Train Loss: 0.492492\n",
            "Hyperparams: lr=0.001, hl=2, hu=256, init_reg=0.0001, s_num=1, p_iter=5\n",
            "relative L1 error: 0.991297\n",
            "relative L2 error: 0.993163\n",
            "\n",
            "Training with hyperparams: lr=0.001, hl=2, hu=256, initial_region=0.0001, sample_num=1, past_iterations=10\n"
          ]
        },
        {
          "metadata": {
            "tags": null
          },
          "name": "stderr",
          "output_type": "stream",
          "text": [
            "100%|██████████| 500/500 [00:25<00:00, 19.28it/s]\n"
          ]
        },
        {
          "metadata": {
            "tags": null
          },
          "name": "stdout",
          "output_type": "stream",
          "text": [
            "Final epoch Loss Res: 0.001847, Loss IC: 0.490848, Loss BC: 0.000114\n",
            "Final epoch Train Loss: 0.492809\n",
            "Hyperparams: lr=0.001, hl=2, hu=256, init_reg=0.0001, s_num=1, p_iter=10\n",
            "relative L1 error: 0.990665\n",
            "relative L2 error: 0.992688\n",
            "\n",
            "Training with hyperparams: lr=0.001, hl=2, hu=256, initial_region=0.0001, sample_num=5, past_iterations=5\n"
          ]
        },
        {
          "metadata": {
            "tags": null
          },
          "name": "stderr",
          "output_type": "stream",
          "text": [
            "100%|██████████| 500/500 [00:45<00:00, 11.04it/s]\n"
          ]
        },
        {
          "metadata": {
            "tags": null
          },
          "name": "stdout",
          "output_type": "stream",
          "text": [
            "Final epoch Loss Res: 0.002618, Loss IC: 0.489293, Loss BC: 0.000057\n",
            "Final epoch Train Loss: 0.491968\n",
            "Hyperparams: lr=0.001, hl=2, hu=256, init_reg=0.0001, s_num=5, p_iter=5\n",
            "relative L1 error: 0.992254\n",
            "relative L2 error: 0.994151\n",
            "\n",
            "Training with hyperparams: lr=0.001, hl=2, hu=256, initial_region=0.0001, sample_num=5, past_iterations=10\n"
          ]
        },
        {
          "metadata": {
            "tags": null
          },
          "name": "stderr",
          "output_type": "stream",
          "text": [
            "100%|██████████| 500/500 [00:55<00:00,  8.93it/s]\n"
          ]
        },
        {
          "metadata": {
            "tags": null
          },
          "name": "stdout",
          "output_type": "stream",
          "text": [
            "Final epoch Loss Res: 0.002772, Loss IC: 0.488436, Loss BC: 0.000057\n",
            "Final epoch Train Loss: 0.491265\n",
            "Hyperparams: lr=0.001, hl=2, hu=256, init_reg=0.0001, s_num=5, p_iter=10\n",
            "relative L1 error: 0.995608\n",
            "relative L2 error: 0.996927\n",
            "\n",
            "Training with hyperparams: lr=0.001, hl=2, hu=256, initial_region=0.001, sample_num=1, past_iterations=5\n"
          ]
        },
        {
          "metadata": {
            "tags": null
          },
          "name": "stderr",
          "output_type": "stream",
          "text": [
            "100%|██████████| 500/500 [00:27<00:00, 17.92it/s]\n"
          ]
        },
        {
          "metadata": {
            "tags": null
          },
          "name": "stdout",
          "output_type": "stream",
          "text": [
            "Final epoch Loss Res: 0.002028, Loss IC: 0.491197, Loss BC: 0.000136\n",
            "Final epoch Train Loss: 0.493362\n",
            "Hyperparams: lr=0.001, hl=2, hu=256, init_reg=0.001, s_num=1, p_iter=5\n",
            "relative L1 error: 0.984517\n",
            "relative L2 error: 0.988273\n",
            "\n",
            "Training with hyperparams: lr=0.001, hl=2, hu=256, initial_region=0.001, sample_num=1, past_iterations=10\n"
          ]
        },
        {
          "metadata": {
            "tags": null
          },
          "name": "stderr",
          "output_type": "stream",
          "text": [
            "100%|██████████| 500/500 [00:28<00:00, 17.57it/s]\n"
          ]
        },
        {
          "metadata": {
            "tags": null
          },
          "name": "stdout",
          "output_type": "stream",
          "text": [
            "Final epoch Loss Res: 0.001721, Loss IC: 0.491268, Loss BC: 0.000133\n",
            "Final epoch Train Loss: 0.493121\n",
            "Hyperparams: lr=0.001, hl=2, hu=256, init_reg=0.001, s_num=1, p_iter=10\n",
            "relative L1 error: 0.990827\n",
            "relative L2 error: 0.992784\n",
            "\n",
            "Training with hyperparams: lr=0.001, hl=2, hu=256, initial_region=0.001, sample_num=5, past_iterations=5\n"
          ]
        },
        {
          "metadata": {
            "tags": null
          },
          "name": "stderr",
          "output_type": "stream",
          "text": [
            "100%|██████████| 500/500 [00:39<00:00, 12.54it/s]\n"
          ]
        },
        {
          "metadata": {
            "tags": null
          },
          "name": "stdout",
          "output_type": "stream",
          "text": [
            "Final epoch Loss Res: 0.001892, Loss IC: 0.490878, Loss BC: 0.000114\n",
            "Final epoch Train Loss: 0.492884\n",
            "Hyperparams: lr=0.001, hl=2, hu=256, init_reg=0.001, s_num=5, p_iter=5\n",
            "relative L1 error: 0.990790\n",
            "relative L2 error: 0.992793\n",
            "\n",
            "Training with hyperparams: lr=0.001, hl=2, hu=256, initial_region=0.001, sample_num=5, past_iterations=10\n"
          ]
        },
        {
          "metadata": {
            "tags": null
          },
          "name": "stderr",
          "output_type": "stream",
          "text": [
            "100%|██████████| 500/500 [00:42<00:00, 11.76it/s]\n"
          ]
        },
        {
          "metadata": {
            "tags": null
          },
          "name": "stdout",
          "output_type": "stream",
          "text": [
            "Final epoch Loss Res: 0.001540, Loss IC: 0.491822, Loss BC: 0.000165\n",
            "Final epoch Train Loss: 0.493527\n",
            "Hyperparams: lr=0.001, hl=2, hu=256, init_reg=0.001, s_num=5, p_iter=10\n",
            "relative L1 error: 0.974480\n",
            "relative L2 error: 0.980485\n",
            "\n",
            "Training with hyperparams: lr=0.001, hl=4, hu=128, initial_region=0.0001, sample_num=1, past_iterations=5\n"
          ]
        },
        {
          "metadata": {
            "tags": null
          },
          "name": "stderr",
          "output_type": "stream",
          "text": [
            "100%|██████████| 500/500 [00:47<00:00, 10.53it/s]\n"
          ]
        },
        {
          "metadata": {
            "tags": null
          },
          "name": "stdout",
          "output_type": "stream",
          "text": [
            "Final epoch Loss Res: 0.003125, Loss IC: 0.487767, Loss BC: 0.000041\n",
            "Final epoch Train Loss: 0.490932\n",
            "Hyperparams: lr=0.001, hl=4, hu=128, init_reg=0.0001, s_num=1, p_iter=5\n",
            "relative L1 error: 0.995208\n",
            "relative L2 error: 0.996331\n",
            "\n",
            "Training with hyperparams: lr=0.001, hl=4, hu=128, initial_region=0.0001, sample_num=1, past_iterations=10\n"
          ]
        },
        {
          "metadata": {
            "tags": null
          },
          "name": "stderr",
          "output_type": "stream",
          "text": [
            "100%|██████████| 500/500 [00:47<00:00, 10.46it/s]\n"
          ]
        },
        {
          "metadata": {
            "tags": null
          },
          "name": "stdout",
          "output_type": "stream",
          "text": [
            "Final epoch Loss Res: 0.003112, Loss IC: 0.487908, Loss BC: 0.000080\n",
            "Final epoch Train Loss: 0.491100\n",
            "Hyperparams: lr=0.001, hl=4, hu=128, init_reg=0.0001, s_num=1, p_iter=10\n",
            "relative L1 error: 0.992693\n",
            "relative L2 error: 0.994253\n",
            "\n",
            "Training with hyperparams: lr=0.001, hl=4, hu=128, initial_region=0.0001, sample_num=5, past_iterations=5\n"
          ]
        },
        {
          "metadata": {
            "tags": null
          },
          "name": "stderr",
          "output_type": "stream",
          "text": [
            "100%|██████████| 500/500 [01:30<00:00,  5.52it/s]\n"
          ]
        },
        {
          "metadata": {
            "tags": null
          },
          "name": "stdout",
          "output_type": "stream",
          "text": [
            "Final epoch Loss Res: 0.003367, Loss IC: 0.487323, Loss BC: 0.000051\n",
            "Final epoch Train Loss: 0.490742\n",
            "Hyperparams: lr=0.001, hl=4, hu=128, init_reg=0.0001, s_num=5, p_iter=5\n",
            "relative L1 error: 0.993852\n",
            "relative L2 error: 0.995258\n",
            "\n",
            "Training with hyperparams: lr=0.001, hl=4, hu=128, initial_region=0.0001, sample_num=5, past_iterations=10\n"
          ]
        },
        {
          "metadata": {
            "tags": null
          },
          "name": "stderr",
          "output_type": "stream",
          "text": [
            "100%|██████████| 500/500 [01:15<00:00,  6.60it/s]\n"
          ]
        },
        {
          "metadata": {
            "tags": null
          },
          "name": "stdout",
          "output_type": "stream",
          "text": [
            "Final epoch Loss Res: 0.003359, Loss IC: 0.487586, Loss BC: 0.000072\n",
            "Final epoch Train Loss: 0.491017\n",
            "Hyperparams: lr=0.001, hl=4, hu=128, init_reg=0.0001, s_num=5, p_iter=10\n",
            "relative L1 error: 0.994239\n",
            "relative L2 error: 0.995357\n",
            "\n",
            "Training with hyperparams: lr=0.001, hl=4, hu=128, initial_region=0.001, sample_num=1, past_iterations=5\n"
          ]
        },
        {
          "metadata": {
            "tags": null
          },
          "name": "stderr",
          "output_type": "stream",
          "text": [
            "100%|██████████| 500/500 [00:53<00:00,  9.38it/s]\n"
          ]
        },
        {
          "metadata": {
            "tags": null
          },
          "name": "stdout",
          "output_type": "stream",
          "text": [
            "Final epoch Loss Res: 0.003013, Loss IC: 0.487965, Loss BC: 0.000044\n",
            "Final epoch Train Loss: 0.491021\n",
            "Hyperparams: lr=0.001, hl=4, hu=128, init_reg=0.001, s_num=1, p_iter=5\n",
            "relative L1 error: 0.994931\n",
            "relative L2 error: 0.996100\n",
            "\n",
            "Training with hyperparams: lr=0.001, hl=4, hu=128, initial_region=0.001, sample_num=1, past_iterations=10\n"
          ]
        },
        {
          "metadata": {
            "tags": null
          },
          "name": "stderr",
          "output_type": "stream",
          "text": [
            "100%|██████████| 500/500 [00:55<00:00,  8.95it/s]\n"
          ]
        },
        {
          "metadata": {
            "tags": null
          },
          "name": "stdout",
          "output_type": "stream",
          "text": [
            "Final epoch Loss Res: 0.003709, Loss IC: 0.487121, Loss BC: 0.000042\n",
            "Final epoch Train Loss: 0.490872\n",
            "Hyperparams: lr=0.001, hl=4, hu=128, init_reg=0.001, s_num=1, p_iter=10\n",
            "relative L1 error: 0.995270\n",
            "relative L2 error: 0.996365\n",
            "\n",
            "Training with hyperparams: lr=0.001, hl=4, hu=128, initial_region=0.001, sample_num=5, past_iterations=5\n"
          ]
        },
        {
          "metadata": {
            "tags": null
          },
          "name": "stderr",
          "output_type": "stream",
          "text": [
            "100%|██████████| 500/500 [01:17<00:00,  6.49it/s]\n"
          ]
        },
        {
          "metadata": {
            "tags": null
          },
          "name": "stdout",
          "output_type": "stream",
          "text": [
            "Final epoch Loss Res: 0.002222, Loss IC: 0.490386, Loss BC: 0.000051\n",
            "Final epoch Train Loss: 0.492659\n",
            "Hyperparams: lr=0.001, hl=4, hu=128, init_reg=0.001, s_num=5, p_iter=5\n",
            "relative L1 error: 0.996353\n",
            "relative L2 error: 0.997079\n",
            "\n",
            "Training with hyperparams: lr=0.001, hl=4, hu=128, initial_region=0.001, sample_num=5, past_iterations=10\n"
          ]
        },
        {
          "metadata": {
            "tags": null
          },
          "name": "stderr",
          "output_type": "stream",
          "text": [
            "100%|██████████| 500/500 [00:53<00:00,  9.30it/s]\n"
          ]
        },
        {
          "metadata": {
            "tags": null
          },
          "name": "stdout",
          "output_type": "stream",
          "text": [
            "Final epoch Loss Res: 0.002160, Loss IC: 0.490149, Loss BC: 0.000098\n",
            "Final epoch Train Loss: 0.492408\n",
            "Hyperparams: lr=0.001, hl=4, hu=128, init_reg=0.001, s_num=5, p_iter=10\n",
            "relative L1 error: 0.990145\n",
            "relative L2 error: 0.992451\n",
            "\n",
            "Training with hyperparams: lr=0.001, hl=4, hu=256, initial_region=0.0001, sample_num=1, past_iterations=5\n"
          ]
        },
        {
          "metadata": {
            "tags": null
          },
          "name": "stderr",
          "output_type": "stream",
          "text": [
            "100%|██████████| 500/500 [01:00<00:00,  8.32it/s]\n"
          ]
        },
        {
          "metadata": {
            "tags": null
          },
          "name": "stdout",
          "output_type": "stream",
          "text": [
            "Final epoch Loss Res: 0.002762, Loss IC: 0.488374, Loss BC: 0.000047\n",
            "Final epoch Train Loss: 0.491183\n",
            "Hyperparams: lr=0.001, hl=4, hu=256, init_reg=0.0001, s_num=1, p_iter=5\n",
            "relative L1 error: 0.995883\n",
            "relative L2 error: 0.997019\n",
            "\n",
            "Training with hyperparams: lr=0.001, hl=4, hu=256, initial_region=0.0001, sample_num=1, past_iterations=10\n"
          ]
        },
        {
          "metadata": {
            "tags": null
          },
          "name": "stderr",
          "output_type": "stream",
          "text": [
            "100%|██████████| 500/500 [01:04<00:00,  7.70it/s]\n"
          ]
        },
        {
          "metadata": {
            "tags": null
          },
          "name": "stdout",
          "output_type": "stream",
          "text": [
            "Final epoch Loss Res: 0.002787, Loss IC: 0.488211, Loss BC: 0.000041\n",
            "Final epoch Train Loss: 0.491039\n",
            "Hyperparams: lr=0.001, hl=4, hu=256, init_reg=0.0001, s_num=1, p_iter=10\n",
            "relative L1 error: 0.994315\n",
            "relative L2 error: 0.995680\n",
            "\n",
            "Training with hyperparams: lr=0.001, hl=4, hu=256, initial_region=0.0001, sample_num=5, past_iterations=5\n"
          ]
        },
        {
          "metadata": {
            "tags": null
          },
          "name": "stderr",
          "output_type": "stream",
          "text": [
            "100%|██████████| 500/500 [01:27<00:00,  5.69it/s]\n"
          ]
        },
        {
          "metadata": {
            "tags": null
          },
          "name": "stdout",
          "output_type": "stream",
          "text": [
            "Final epoch Loss Res: 0.002451, Loss IC: 0.489918, Loss BC: 0.000072\n",
            "Final epoch Train Loss: 0.492441\n",
            "Hyperparams: lr=0.001, hl=4, hu=256, init_reg=0.0001, s_num=5, p_iter=5\n",
            "relative L1 error: 0.992724\n",
            "relative L2 error: 0.994383\n",
            "\n",
            "Training with hyperparams: lr=0.001, hl=4, hu=256, initial_region=0.0001, sample_num=5, past_iterations=10\n"
          ]
        },
        {
          "metadata": {
            "tags": null
          },
          "name": "stderr",
          "output_type": "stream",
          "text": [
            "100%|██████████| 500/500 [01:58<00:00,  4.21it/s]\n"
          ]
        },
        {
          "metadata": {
            "tags": null
          },
          "name": "stdout",
          "output_type": "stream",
          "text": [
            "Final epoch Loss Res: 0.002625, Loss IC: 0.488643, Loss BC: 0.000040\n",
            "Final epoch Train Loss: 0.491308\n",
            "Hyperparams: lr=0.001, hl=4, hu=256, init_reg=0.0001, s_num=5, p_iter=10\n",
            "relative L1 error: 0.995639\n",
            "relative L2 error: 0.996733\n",
            "\n",
            "Training with hyperparams: lr=0.001, hl=4, hu=256, initial_region=0.001, sample_num=1, past_iterations=5\n"
          ]
        },
        {
          "metadata": {
            "tags": null
          },
          "name": "stderr",
          "output_type": "stream",
          "text": [
            "100%|██████████| 500/500 [00:48<00:00, 10.31it/s]\n"
          ]
        },
        {
          "metadata": {
            "tags": null
          },
          "name": "stdout",
          "output_type": "stream",
          "text": [
            "Final epoch Loss Res: 0.002126, Loss IC: 0.490246, Loss BC: 0.000099\n",
            "Final epoch Train Loss: 0.492471\n",
            "Hyperparams: lr=0.001, hl=4, hu=256, init_reg=0.001, s_num=1, p_iter=5\n",
            "relative L1 error: 0.990541\n",
            "relative L2 error: 0.992693\n",
            "\n",
            "Training with hyperparams: lr=0.001, hl=4, hu=256, initial_region=0.001, sample_num=1, past_iterations=10\n"
          ]
        },
        {
          "metadata": {
            "tags": null
          },
          "name": "stderr",
          "output_type": "stream",
          "text": [
            "100%|██████████| 500/500 [01:01<00:00,  8.07it/s]\n"
          ]
        },
        {
          "metadata": {
            "tags": null
          },
          "name": "stdout",
          "output_type": "stream",
          "text": [
            "Final epoch Loss Res: 0.002679, Loss IC: 0.488454, Loss BC: 0.000040\n",
            "Final epoch Train Loss: 0.491172\n",
            "Hyperparams: lr=0.001, hl=4, hu=256, init_reg=0.001, s_num=1, p_iter=10\n",
            "relative L1 error: 0.994798\n",
            "relative L2 error: 0.996124\n",
            "\n",
            "Training with hyperparams: lr=0.001, hl=4, hu=256, initial_region=0.001, sample_num=5, past_iterations=5\n"
          ]
        },
        {
          "metadata": {
            "tags": null
          },
          "name": "stderr",
          "output_type": "stream",
          "text": [
            "100%|██████████| 500/500 [01:31<00:00,  5.45it/s]\n"
          ]
        },
        {
          "metadata": {
            "tags": null
          },
          "name": "stdout",
          "output_type": "stream",
          "text": [
            "Final epoch Loss Res: 0.002141, Loss IC: 0.490593, Loss BC: 0.000125\n",
            "Final epoch Train Loss: 0.492859\n",
            "Hyperparams: lr=0.001, hl=4, hu=256, init_reg=0.001, s_num=5, p_iter=5\n",
            "relative L1 error: 0.992711\n",
            "relative L2 error: 0.994031\n",
            "\n",
            "Training with hyperparams: lr=0.001, hl=4, hu=256, initial_region=0.001, sample_num=5, past_iterations=10\n"
          ]
        },
        {
          "metadata": {
            "tags": null
          },
          "name": "stderr",
          "output_type": "stream",
          "text": [
            "100%|██████████| 500/500 [01:31<00:00,  5.44it/s]\n"
          ]
        },
        {
          "metadata": {
            "tags": null
          },
          "name": "stdout",
          "output_type": "stream",
          "text": [
            "Final epoch Loss Res: 0.002238, Loss IC: 0.490545, Loss BC: 0.000088\n",
            "Final epoch Train Loss: 0.492871\n",
            "Hyperparams: lr=0.001, hl=4, hu=256, init_reg=0.001, s_num=5, p_iter=10\n",
            "relative L1 error: 0.983381\n",
            "relative L2 error: 0.987453\n",
            "\n",
            "Training with hyperparams: lr=0.01, hl=2, hu=128, initial_region=0.0001, sample_num=1, past_iterations=5\n"
          ]
        },
        {
          "metadata": {
            "tags": null
          },
          "name": "stderr",
          "output_type": "stream",
          "text": [
            "100%|██████████| 500/500 [00:50<00:00,  9.82it/s]\n"
          ]
        },
        {
          "metadata": {
            "tags": null
          },
          "name": "stdout",
          "output_type": "stream",
          "text": [
            "Final epoch Loss Res: 0.003338, Loss IC: 0.487189, Loss BC: 0.000049\n",
            "Final epoch Train Loss: 0.490576\n",
            "Hyperparams: lr=0.01, hl=2, hu=128, init_reg=0.0001, s_num=1, p_iter=5\n",
            "relative L1 error: 0.993319\n",
            "relative L2 error: 0.994927\n",
            "\n",
            "Training with hyperparams: lr=0.01, hl=2, hu=128, initial_region=0.0001, sample_num=1, past_iterations=10\n"
          ]
        },
        {
          "metadata": {
            "tags": null
          },
          "name": "stderr",
          "output_type": "stream",
          "text": [
            "100%|██████████| 500/500 [00:32<00:00, 15.60it/s]\n"
          ]
        },
        {
          "metadata": {
            "tags": null
          },
          "name": "stdout",
          "output_type": "stream",
          "text": [
            "Final epoch Loss Res: 0.002793, Loss IC: 0.488338, Loss BC: 0.000050\n",
            "Final epoch Train Loss: 0.491181\n",
            "Hyperparams: lr=0.01, hl=2, hu=128, init_reg=0.0001, s_num=1, p_iter=10\n",
            "relative L1 error: 0.995864\n",
            "relative L2 error: 0.997083\n",
            "\n",
            "Training with hyperparams: lr=0.01, hl=2, hu=128, initial_region=0.0001, sample_num=5, past_iterations=5\n"
          ]
        },
        {
          "metadata": {
            "tags": null
          },
          "name": "stderr",
          "output_type": "stream",
          "text": [
            "100%|██████████| 500/500 [00:49<00:00, 10.08it/s]\n"
          ]
        },
        {
          "metadata": {
            "tags": null
          },
          "name": "stdout",
          "output_type": "stream",
          "text": [
            "Final epoch Loss Res: 0.003374, Loss IC: 0.487371, Loss BC: 0.000058\n",
            "Final epoch Train Loss: 0.490803\n",
            "Hyperparams: lr=0.01, hl=2, hu=128, init_reg=0.0001, s_num=5, p_iter=5\n",
            "relative L1 error: 0.993294\n",
            "relative L2 error: 0.994789\n",
            "\n",
            "Training with hyperparams: lr=0.01, hl=2, hu=128, initial_region=0.0001, sample_num=5, past_iterations=10\n"
          ]
        },
        {
          "metadata": {
            "tags": null
          },
          "name": "stderr",
          "output_type": "stream",
          "text": [
            "100%|██████████| 500/500 [00:53<00:00,  9.43it/s]\n"
          ]
        },
        {
          "metadata": {
            "tags": null
          },
          "name": "stdout",
          "output_type": "stream",
          "text": [
            "Final epoch Loss Res: 0.003394, Loss IC: 0.487227, Loss BC: 0.000046\n",
            "Final epoch Train Loss: 0.490667\n",
            "Hyperparams: lr=0.01, hl=2, hu=128, init_reg=0.0001, s_num=5, p_iter=10\n",
            "relative L1 error: 0.993954\n",
            "relative L2 error: 0.995376\n",
            "\n",
            "Training with hyperparams: lr=0.01, hl=2, hu=128, initial_region=0.001, sample_num=1, past_iterations=5\n"
          ]
        },
        {
          "metadata": {
            "tags": null
          },
          "name": "stderr",
          "output_type": "stream",
          "text": [
            "100%|██████████| 500/500 [00:45<00:00, 11.10it/s]\n"
          ]
        },
        {
          "metadata": {
            "tags": null
          },
          "name": "stdout",
          "output_type": "stream",
          "text": [
            "Final epoch Loss Res: 0.003427, Loss IC: 0.487269, Loss BC: 0.000044\n",
            "Final epoch Train Loss: 0.490741\n",
            "Hyperparams: lr=0.01, hl=2, hu=128, init_reg=0.001, s_num=1, p_iter=5\n",
            "relative L1 error: 0.993610\n",
            "relative L2 error: 0.995139\n",
            "\n",
            "Training with hyperparams: lr=0.01, hl=2, hu=128, initial_region=0.001, sample_num=1, past_iterations=10\n"
          ]
        },
        {
          "metadata": {
            "tags": null
          },
          "name": "stderr",
          "output_type": "stream",
          "text": [
            "100%|██████████| 500/500 [00:46<00:00, 10.82it/s]\n"
          ]
        },
        {
          "metadata": {
            "tags": null
          },
          "name": "stdout",
          "output_type": "stream",
          "text": [
            "Final epoch Loss Res: 0.003147, Loss IC: 0.487854, Loss BC: 0.000041\n",
            "Final epoch Train Loss: 0.491042\n",
            "Hyperparams: lr=0.01, hl=2, hu=128, init_reg=0.001, s_num=1, p_iter=10\n",
            "relative L1 error: 0.994191\n",
            "relative L2 error: 0.995669\n",
            "\n",
            "Training with hyperparams: lr=0.01, hl=2, hu=128, initial_region=0.001, sample_num=5, past_iterations=5\n"
          ]
        },
        {
          "metadata": {
            "tags": null
          },
          "name": "stderr",
          "output_type": "stream",
          "text": [
            "100%|██████████| 500/500 [00:59<00:00,  8.46it/s]\n"
          ]
        },
        {
          "metadata": {
            "tags": null
          },
          "name": "stdout",
          "output_type": "stream",
          "text": [
            "Final epoch Loss Res: 0.003349, Loss IC: 0.487497, Loss BC: 0.000051\n",
            "Final epoch Train Loss: 0.490897\n",
            "Hyperparams: lr=0.01, hl=2, hu=128, init_reg=0.001, s_num=5, p_iter=5\n",
            "relative L1 error: 0.993422\n",
            "relative L2 error: 0.994937\n",
            "\n",
            "Training with hyperparams: lr=0.01, hl=2, hu=128, initial_region=0.001, sample_num=5, past_iterations=10\n"
          ]
        },
        {
          "metadata": {
            "tags": null
          },
          "name": "stderr",
          "output_type": "stream",
          "text": [
            "100%|██████████| 500/500 [00:41<00:00, 12.11it/s]\n"
          ]
        },
        {
          "metadata": {
            "tags": null
          },
          "name": "stdout",
          "output_type": "stream",
          "text": [
            "Final epoch Loss Res: 0.002742, Loss IC: 0.488504, Loss BC: 0.000046\n",
            "Final epoch Train Loss: 0.491292\n",
            "Hyperparams: lr=0.01, hl=2, hu=128, init_reg=0.001, s_num=5, p_iter=10\n",
            "relative L1 error: 0.995314\n",
            "relative L2 error: 0.996622\n",
            "\n",
            "Training with hyperparams: lr=0.01, hl=2, hu=256, initial_region=0.0001, sample_num=1, past_iterations=5\n"
          ]
        },
        {
          "metadata": {
            "tags": null
          },
          "name": "stderr",
          "output_type": "stream",
          "text": [
            "100%|██████████| 500/500 [00:35<00:00, 13.94it/s]\n"
          ]
        },
        {
          "metadata": {
            "tags": null
          },
          "name": "stdout",
          "output_type": "stream",
          "text": [
            "Final epoch Loss Res: 0.002676, Loss IC: 0.488535, Loss BC: 0.000054\n",
            "Final epoch Train Loss: 0.491265\n",
            "Hyperparams: lr=0.01, hl=2, hu=256, init_reg=0.0001, s_num=1, p_iter=5\n",
            "relative L1 error: 0.995180\n",
            "relative L2 error: 0.996586\n",
            "\n",
            "Training with hyperparams: lr=0.01, hl=2, hu=256, initial_region=0.0001, sample_num=1, past_iterations=10\n"
          ]
        },
        {
          "metadata": {
            "tags": null
          },
          "name": "stderr",
          "output_type": "stream",
          "text": [
            "100%|██████████| 500/500 [00:49<00:00, 10.00it/s]\n"
          ]
        },
        {
          "metadata": {
            "tags": null
          },
          "name": "stdout",
          "output_type": "stream",
          "text": [
            "Final epoch Loss Res: 0.003228, Loss IC: 0.487337, Loss BC: 0.000043\n",
            "Final epoch Train Loss: 0.490608\n",
            "Hyperparams: lr=0.01, hl=2, hu=256, init_reg=0.0001, s_num=1, p_iter=10\n",
            "relative L1 error: 0.994893\n",
            "relative L2 error: 0.996220\n",
            "\n",
            "Training with hyperparams: lr=0.01, hl=2, hu=256, initial_region=0.0001, sample_num=5, past_iterations=5\n"
          ]
        },
        {
          "metadata": {
            "tags": null
          },
          "name": "stderr",
          "output_type": "stream",
          "text": [
            "100%|██████████| 500/500 [01:10<00:00,  7.06it/s]\n"
          ]
        },
        {
          "metadata": {
            "tags": null
          },
          "name": "stdout",
          "output_type": "stream",
          "text": [
            "Final epoch Loss Res: 0.003180, Loss IC: 0.487846, Loss BC: 0.000048\n",
            "Final epoch Train Loss: 0.491074\n",
            "Hyperparams: lr=0.01, hl=2, hu=256, init_reg=0.0001, s_num=5, p_iter=5\n",
            "relative L1 error: 0.992741\n",
            "relative L2 error: 0.994518\n",
            "\n",
            "Training with hyperparams: lr=0.01, hl=2, hu=256, initial_region=0.0001, sample_num=5, past_iterations=10\n"
          ]
        },
        {
          "metadata": {
            "tags": null
          },
          "name": "stderr",
          "output_type": "stream",
          "text": [
            "100%|██████████| 500/500 [01:09<00:00,  7.20it/s]\n"
          ]
        },
        {
          "metadata": {
            "tags": null
          },
          "name": "stdout",
          "output_type": "stream",
          "text": [
            "Final epoch Loss Res: 0.003305, Loss IC: 0.487654, Loss BC: 0.000049\n",
            "Final epoch Train Loss: 0.491008\n",
            "Hyperparams: lr=0.01, hl=2, hu=256, init_reg=0.0001, s_num=5, p_iter=10\n",
            "relative L1 error: 0.993362\n",
            "relative L2 error: 0.994910\n",
            "\n",
            "Training with hyperparams: lr=0.01, hl=2, hu=256, initial_region=0.001, sample_num=1, past_iterations=5\n"
          ]
        },
        {
          "metadata": {
            "tags": null
          },
          "name": "stderr",
          "output_type": "stream",
          "text": [
            "100%|██████████| 500/500 [00:38<00:00, 12.95it/s]\n"
          ]
        },
        {
          "metadata": {
            "tags": null
          },
          "name": "stdout",
          "output_type": "stream",
          "text": [
            "Final epoch Loss Res: 0.002737, Loss IC: 0.488438, Loss BC: 0.000054\n",
            "Final epoch Train Loss: 0.491229\n",
            "Hyperparams: lr=0.01, hl=2, hu=256, init_reg=0.001, s_num=1, p_iter=5\n",
            "relative L1 error: 0.995802\n",
            "relative L2 error: 0.997048\n",
            "\n",
            "Training with hyperparams: lr=0.01, hl=2, hu=256, initial_region=0.001, sample_num=1, past_iterations=10\n"
          ]
        },
        {
          "metadata": {
            "tags": null
          },
          "name": "stderr",
          "output_type": "stream",
          "text": [
            "100%|██████████| 500/500 [00:45<00:00, 11.05it/s]\n"
          ]
        },
        {
          "metadata": {
            "tags": null
          },
          "name": "stdout",
          "output_type": "stream",
          "text": [
            "Final epoch Loss Res: 0.002965, Loss IC: 0.488121, Loss BC: 0.000046\n",
            "Final epoch Train Loss: 0.491132\n",
            "Hyperparams: lr=0.01, hl=2, hu=256, init_reg=0.001, s_num=1, p_iter=10\n",
            "relative L1 error: 0.994536\n",
            "relative L2 error: 0.996063\n",
            "\n",
            "Training with hyperparams: lr=0.01, hl=2, hu=256, initial_region=0.001, sample_num=5, past_iterations=5\n"
          ]
        },
        {
          "metadata": {
            "tags": null
          },
          "name": "stderr",
          "output_type": "stream",
          "text": [
            "100%|██████████| 500/500 [00:59<00:00,  8.33it/s]\n"
          ]
        },
        {
          "metadata": {
            "tags": null
          },
          "name": "stdout",
          "output_type": "stream",
          "text": [
            "Final epoch Loss Res: 0.002715, Loss IC: 0.488488, Loss BC: 0.000058\n",
            "Final epoch Train Loss: 0.491261\n",
            "Hyperparams: lr=0.01, hl=2, hu=256, init_reg=0.001, s_num=5, p_iter=5\n",
            "relative L1 error: 0.995707\n",
            "relative L2 error: 0.997016\n",
            "\n",
            "Training with hyperparams: lr=0.01, hl=2, hu=256, initial_region=0.001, sample_num=5, past_iterations=10\n"
          ]
        },
        {
          "metadata": {
            "tags": null
          },
          "name": "stderr",
          "output_type": "stream",
          "text": [
            "100%|██████████| 500/500 [01:14<00:00,  6.73it/s]\n"
          ]
        },
        {
          "metadata": {
            "tags": null
          },
          "name": "stdout",
          "output_type": "stream",
          "text": [
            "Final epoch Loss Res: 0.003023, Loss IC: 0.488048, Loss BC: 0.000040\n",
            "Final epoch Train Loss: 0.491111\n",
            "Hyperparams: lr=0.01, hl=2, hu=256, init_reg=0.001, s_num=5, p_iter=10\n",
            "relative L1 error: 0.994744\n",
            "relative L2 error: 0.996070\n",
            "\n",
            "Training with hyperparams: lr=0.01, hl=4, hu=128, initial_region=0.0001, sample_num=1, past_iterations=5\n"
          ]
        },
        {
          "metadata": {
            "tags": null
          },
          "name": "stderr",
          "output_type": "stream",
          "text": [
            "100%|██████████| 500/500 [00:54<00:00,  9.11it/s]\n"
          ]
        },
        {
          "metadata": {
            "tags": null
          },
          "name": "stdout",
          "output_type": "stream",
          "text": [
            "Final epoch Loss Res: 0.003194, Loss IC: 0.487362, Loss BC: 0.000044\n",
            "Final epoch Train Loss: 0.490600\n",
            "Hyperparams: lr=0.01, hl=4, hu=128, init_reg=0.0001, s_num=1, p_iter=5\n",
            "relative L1 error: 0.995445\n",
            "relative L2 error: 0.996714\n",
            "\n",
            "Training with hyperparams: lr=0.01, hl=4, hu=128, initial_region=0.0001, sample_num=1, past_iterations=10\n"
          ]
        },
        {
          "metadata": {
            "tags": null
          },
          "name": "stderr",
          "output_type": "stream",
          "text": [
            "100%|██████████| 500/500 [01:02<00:00,  8.00it/s]\n"
          ]
        },
        {
          "metadata": {
            "tags": null
          },
          "name": "stdout",
          "output_type": "stream",
          "text": [
            "Final epoch Loss Res: 0.003095, Loss IC: 0.486891, Loss BC: 0.000114\n",
            "Final epoch Train Loss: 0.490100\n",
            "Hyperparams: lr=0.01, hl=4, hu=128, init_reg=0.0001, s_num=1, p_iter=10\n",
            "relative L1 error: 0.987741\n",
            "relative L2 error: 0.990663\n",
            "\n",
            "Training with hyperparams: lr=0.01, hl=4, hu=128, initial_region=0.0001, sample_num=5, past_iterations=5\n"
          ]
        },
        {
          "metadata": {
            "tags": null
          },
          "name": "stderr",
          "output_type": "stream",
          "text": [
            "100%|██████████| 500/500 [01:19<00:00,  6.26it/s]\n"
          ]
        },
        {
          "metadata": {
            "tags": null
          },
          "name": "stdout",
          "output_type": "stream",
          "text": [
            "Final epoch Loss Res: 0.003273, Loss IC: 0.487243, Loss BC: 0.000050\n",
            "Final epoch Train Loss: 0.490565\n",
            "Hyperparams: lr=0.01, hl=4, hu=128, init_reg=0.0001, s_num=5, p_iter=5\n",
            "relative L1 error: 0.994981\n",
            "relative L2 error: 0.996386\n",
            "\n",
            "Training with hyperparams: lr=0.01, hl=4, hu=128, initial_region=0.0001, sample_num=5, past_iterations=10\n"
          ]
        },
        {
          "metadata": {
            "tags": null
          },
          "name": "stderr",
          "output_type": "stream",
          "text": [
            "100%|██████████| 500/500 [01:27<00:00,  5.74it/s]\n"
          ]
        },
        {
          "metadata": {
            "tags": null
          },
          "name": "stdout",
          "output_type": "stream",
          "text": [
            "Final epoch Loss Res: 0.003255, Loss IC: 0.487271, Loss BC: 0.000048\n",
            "Final epoch Train Loss: 0.490573\n",
            "Hyperparams: lr=0.01, hl=4, hu=128, init_reg=0.0001, s_num=5, p_iter=10\n",
            "relative L1 error: 0.994950\n",
            "relative L2 error: 0.996350\n",
            "\n",
            "Training with hyperparams: lr=0.01, hl=4, hu=128, initial_region=0.001, sample_num=1, past_iterations=5\n"
          ]
        },
        {
          "metadata": {
            "tags": null
          },
          "name": "stderr",
          "output_type": "stream",
          "text": [
            "100%|██████████| 500/500 [01:02<00:00,  7.97it/s]\n"
          ]
        },
        {
          "metadata": {
            "tags": null
          },
          "name": "stdout",
          "output_type": "stream",
          "text": [
            "Final epoch Loss Res: 0.003395, Loss IC: 0.487143, Loss BC: 0.000043\n",
            "Final epoch Train Loss: 0.490581\n",
            "Hyperparams: lr=0.01, hl=4, hu=128, init_reg=0.001, s_num=1, p_iter=5\n",
            "relative L1 error: 0.994725\n",
            "relative L2 error: 0.996115\n",
            "\n",
            "Training with hyperparams: lr=0.01, hl=4, hu=128, initial_region=0.001, sample_num=1, past_iterations=10\n"
          ]
        },
        {
          "metadata": {
            "tags": null
          },
          "name": "stderr",
          "output_type": "stream",
          "text": [
            "100%|██████████| 500/500 [01:01<00:00,  8.08it/s]\n"
          ]
        },
        {
          "metadata": {
            "tags": null
          },
          "name": "stdout",
          "output_type": "stream",
          "text": [
            "Final epoch Loss Res: 0.003256, Loss IC: 0.487244, Loss BC: 0.000046\n",
            "Final epoch Train Loss: 0.490546\n",
            "Hyperparams: lr=0.01, hl=4, hu=128, init_reg=0.001, s_num=1, p_iter=10\n",
            "relative L1 error: 0.995198\n",
            "relative L2 error: 0.996524\n",
            "\n",
            "Training with hyperparams: lr=0.01, hl=4, hu=128, initial_region=0.001, sample_num=5, past_iterations=5\n"
          ]
        },
        {
          "metadata": {
            "tags": null
          },
          "name": "stderr",
          "output_type": "stream",
          "text": [
            "100%|██████████| 500/500 [01:41<00:00,  4.91it/s]\n"
          ]
        },
        {
          "metadata": {
            "tags": null
          },
          "name": "stdout",
          "output_type": "stream",
          "text": [
            "Final epoch Loss Res: 0.003190, Loss IC: 0.487207, Loss BC: 0.000072\n",
            "Final epoch Train Loss: 0.490470\n",
            "Hyperparams: lr=0.01, hl=4, hu=128, init_reg=0.001, s_num=5, p_iter=5\n",
            "relative L1 error: 0.994619\n",
            "relative L2 error: 0.996198\n",
            "\n",
            "Training with hyperparams: lr=0.01, hl=4, hu=128, initial_region=0.001, sample_num=5, past_iterations=10\n"
          ]
        },
        {
          "metadata": {
            "tags": null
          },
          "name": "stderr",
          "output_type": "stream",
          "text": [
            "100%|██████████| 500/500 [01:21<00:00,  6.12it/s]\n"
          ]
        },
        {
          "metadata": {
            "tags": null
          },
          "name": "stdout",
          "output_type": "stream",
          "text": [
            "Final epoch Loss Res: 0.003371, Loss IC: 0.487257, Loss BC: 0.000046\n",
            "Final epoch Train Loss: 0.490674\n",
            "Hyperparams: lr=0.01, hl=4, hu=128, init_reg=0.001, s_num=5, p_iter=10\n",
            "relative L1 error: 0.993940\n",
            "relative L2 error: 0.995371\n",
            "\n",
            "Training with hyperparams: lr=0.01, hl=4, hu=256, initial_region=0.0001, sample_num=1, past_iterations=5\n"
          ]
        },
        {
          "metadata": {
            "tags": null
          },
          "name": "stderr",
          "output_type": "stream",
          "text": [
            "100%|██████████| 500/500 [00:48<00:00, 10.24it/s]\n"
          ]
        },
        {
          "metadata": {
            "tags": null
          },
          "name": "stdout",
          "output_type": "stream",
          "text": [
            "Final epoch Loss Res: 0.003197, Loss IC: 0.487670, Loss BC: 0.000039\n",
            "Final epoch Train Loss: 0.490906\n",
            "Hyperparams: lr=0.01, hl=4, hu=256, init_reg=0.0001, s_num=1, p_iter=5\n",
            "relative L1 error: 0.994536\n",
            "relative L2 error: 0.995888\n",
            "\n",
            "Training with hyperparams: lr=0.01, hl=4, hu=256, initial_region=0.0001, sample_num=1, past_iterations=10\n"
          ]
        },
        {
          "metadata": {
            "tags": null
          },
          "name": "stderr",
          "output_type": "stream",
          "text": [
            "100%|██████████| 500/500 [01:18<00:00,  6.40it/s]\n"
          ]
        },
        {
          "metadata": {
            "tags": null
          },
          "name": "stdout",
          "output_type": "stream",
          "text": [
            "Final epoch Loss Res: 0.003132, Loss IC: 0.486884, Loss BC: 0.000107\n",
            "Final epoch Train Loss: 0.490123\n",
            "Hyperparams: lr=0.01, hl=4, hu=256, init_reg=0.0001, s_num=1, p_iter=10\n",
            "relative L1 error: 0.987901\n",
            "relative L2 error: 0.990831\n",
            "\n",
            "Training with hyperparams: lr=0.01, hl=4, hu=256, initial_region=0.0001, sample_num=5, past_iterations=5\n"
          ]
        },
        {
          "metadata": {
            "tags": null
          },
          "name": "stderr",
          "output_type": "stream",
          "text": [
            "100%|██████████| 500/500 [01:59<00:00,  4.18it/s]\n"
          ]
        },
        {
          "metadata": {
            "tags": null
          },
          "name": "stdout",
          "output_type": "stream",
          "text": [
            "Final epoch Loss Res: 0.003284, Loss IC: 0.487582, Loss BC: 0.000055\n",
            "Final epoch Train Loss: 0.490920\n",
            "Hyperparams: lr=0.01, hl=4, hu=256, init_reg=0.0001, s_num=5, p_iter=5\n",
            "relative L1 error: 0.993795\n",
            "relative L2 error: 0.995184\n",
            "\n",
            "Training with hyperparams: lr=0.01, hl=4, hu=256, initial_region=0.0001, sample_num=5, past_iterations=10\n"
          ]
        },
        {
          "metadata": {
            "tags": null
          },
          "name": "stderr",
          "output_type": "stream",
          "text": [
            "100%|██████████| 500/500 [02:57<00:00,  2.82it/s]\n"
          ]
        },
        {
          "metadata": {
            "tags": null
          },
          "name": "stdout",
          "output_type": "stream",
          "text": [
            "Final epoch Loss Res: 0.003277, Loss IC: 0.487270, Loss BC: 0.000042\n",
            "Final epoch Train Loss: 0.490589\n",
            "Hyperparams: lr=0.01, hl=4, hu=256, init_reg=0.0001, s_num=5, p_iter=10\n",
            "relative L1 error: 0.994682\n",
            "relative L2 error: 0.996085\n",
            "\n",
            "Training with hyperparams: lr=0.01, hl=4, hu=256, initial_region=0.001, sample_num=1, past_iterations=5\n"
          ]
        },
        {
          "metadata": {
            "tags": null
          },
          "name": "stderr",
          "output_type": "stream",
          "text": [
            "100%|██████████| 500/500 [01:03<00:00,  7.89it/s]\n"
          ]
        },
        {
          "metadata": {
            "tags": null
          },
          "name": "stdout",
          "output_type": "stream",
          "text": [
            "Final epoch Loss Res: 0.003313, Loss IC: 0.487485, Loss BC: 0.000042\n",
            "Final epoch Train Loss: 0.490841\n",
            "Hyperparams: lr=0.01, hl=4, hu=256, init_reg=0.001, s_num=1, p_iter=5\n",
            "relative L1 error: 0.994207\n",
            "relative L2 error: 0.995600\n",
            "\n",
            "Training with hyperparams: lr=0.01, hl=4, hu=256, initial_region=0.001, sample_num=1, past_iterations=10\n"
          ]
        },
        {
          "metadata": {
            "tags": null
          },
          "name": "stderr",
          "output_type": "stream",
          "text": [
            "100%|██████████| 500/500 [01:09<00:00,  7.20it/s]\n"
          ]
        },
        {
          "metadata": {
            "tags": null
          },
          "name": "stdout",
          "output_type": "stream",
          "text": [
            "Final epoch Loss Res: 0.003211, Loss IC: 0.487744, Loss BC: 0.000049\n",
            "Final epoch Train Loss: 0.491004\n",
            "Hyperparams: lr=0.01, hl=4, hu=256, init_reg=0.001, s_num=1, p_iter=10\n",
            "relative L1 error: 0.993868\n",
            "relative L2 error: 0.995290\n",
            "\n",
            "Training with hyperparams: lr=0.01, hl=4, hu=256, initial_region=0.001, sample_num=5, past_iterations=5\n"
          ]
        },
        {
          "metadata": {
            "tags": null
          },
          "name": "stderr",
          "output_type": "stream",
          "text": [
            "100%|██████████| 500/500 [02:55<00:00,  2.84it/s]\n"
          ]
        },
        {
          "metadata": {
            "tags": null
          },
          "name": "stdout",
          "output_type": "stream",
          "text": [
            "Final epoch Loss Res: 0.003361, Loss IC: 0.487214, Loss BC: 0.000041\n",
            "Final epoch Train Loss: 0.490616\n",
            "Hyperparams: lr=0.01, hl=4, hu=256, init_reg=0.001, s_num=5, p_iter=5\n",
            "relative L1 error: 0.994397\n",
            "relative L2 error: 0.995820\n",
            "\n",
            "Training with hyperparams: lr=0.01, hl=4, hu=256, initial_region=0.001, sample_num=5, past_iterations=10\n"
          ]
        },
        {
          "metadata": {
            "tags": null
          },
          "name": "stderr",
          "output_type": "stream",
          "text": [
            "100%|██████████| 500/500 [02:21<00:00,  3.54it/s]\n"
          ]
        },
        {
          "metadata": {
            "tags": null
          },
          "name": "stdout",
          "output_type": "stream",
          "text": [
            "Final epoch Loss Res: 0.003336, Loss IC: 0.487320, Loss BC: 0.000041\n",
            "Final epoch Train Loss: 0.490697\n",
            "Hyperparams: lr=0.01, hl=4, hu=256, init_reg=0.001, s_num=5, p_iter=10\n",
            "relative L1 error: 0.994263\n",
            "relative L2 error: 0.995705\n",
            "\n",
            "Training with hyperparams: lr=0.02, hl=2, hu=128, initial_region=0.0001, sample_num=1, past_iterations=5\n"
          ]
        },
        {
          "metadata": {
            "tags": null
          },
          "name": "stderr",
          "output_type": "stream",
          "text": [
            "100%|██████████| 500/500 [01:26<00:00,  5.78it/s]\n"
          ]
        },
        {
          "metadata": {
            "tags": null
          },
          "name": "stdout",
          "output_type": "stream",
          "text": [
            "Final epoch Loss Res: 0.012145, Loss IC: 0.470298, Loss BC: 0.000787\n",
            "Final epoch Train Loss: 0.483231\n",
            "Hyperparams: lr=0.02, hl=2, hu=128, init_reg=0.0001, s_num=1, p_iter=5\n",
            "relative L1 error: 0.925159\n",
            "relative L2 error: 0.930150\n",
            "\n",
            "Training with hyperparams: lr=0.02, hl=2, hu=128, initial_region=0.0001, sample_num=1, past_iterations=10\n"
          ]
        },
        {
          "metadata": {
            "tags": null
          },
          "name": "stderr",
          "output_type": "stream",
          "text": [
            "100%|██████████| 500/500 [01:03<00:00,  7.89it/s]\n"
          ]
        },
        {
          "metadata": {
            "tags": null
          },
          "name": "stdout",
          "output_type": "stream",
          "text": [
            "Final epoch Loss Res: 0.003151, Loss IC: 0.486865, Loss BC: 0.000105\n",
            "Final epoch Train Loss: 0.490121\n",
            "Hyperparams: lr=0.02, hl=2, hu=128, init_reg=0.0001, s_num=1, p_iter=10\n",
            "relative L1 error: 0.988569\n",
            "relative L2 error: 0.991336\n",
            "\n",
            "Training with hyperparams: lr=0.02, hl=2, hu=128, initial_region=0.0001, sample_num=5, past_iterations=5\n"
          ]
        },
        {
          "metadata": {
            "tags": null
          },
          "name": "stderr",
          "output_type": "stream",
          "text": [
            "100%|██████████| 500/500 [01:42<00:00,  4.87it/s]\n"
          ]
        },
        {
          "metadata": {
            "tags": null
          },
          "name": "stdout",
          "output_type": "stream",
          "text": [
            "Final epoch Loss Res: 0.007554, Loss IC: 0.477710, Loss BC: 0.000527\n",
            "Final epoch Train Loss: 0.485791\n",
            "Hyperparams: lr=0.02, hl=2, hu=128, init_reg=0.0001, s_num=5, p_iter=5\n",
            "relative L1 error: 0.949920\n",
            "relative L2 error: 0.956809\n",
            "\n",
            "Training with hyperparams: lr=0.02, hl=2, hu=128, initial_region=0.0001, sample_num=5, past_iterations=10\n"
          ]
        },
        {
          "metadata": {
            "tags": null
          },
          "name": "stderr",
          "output_type": "stream",
          "text": [
            "100%|██████████| 500/500 [01:49<00:00,  4.57it/s]\n"
          ]
        },
        {
          "metadata": {
            "tags": null
          },
          "name": "stdout",
          "output_type": "stream",
          "text": [
            "Final epoch Loss Res: 0.015650, Loss IC: 0.463037, Loss BC: 0.000291\n",
            "Final epoch Train Loss: 0.478978\n",
            "Hyperparams: lr=0.02, hl=2, hu=128, init_reg=0.0001, s_num=5, p_iter=10\n",
            "relative L1 error: 1.139345\n",
            "relative L2 error: 1.103333\n",
            "\n",
            "Training with hyperparams: lr=0.02, hl=2, hu=128, initial_region=0.001, sample_num=1, past_iterations=5\n"
          ]
        },
        {
          "metadata": {
            "tags": null
          },
          "name": "stderr",
          "output_type": "stream",
          "text": [
            "100%|██████████| 500/500 [00:54<00:00,  9.17it/s]\n"
          ]
        },
        {
          "metadata": {
            "tags": null
          },
          "name": "stdout",
          "output_type": "stream",
          "text": [
            "Final epoch Loss Res: 0.003351, Loss IC: 0.487162, Loss BC: 0.000043\n",
            "Final epoch Train Loss: 0.490556\n",
            "Hyperparams: lr=0.02, hl=2, hu=128, init_reg=0.001, s_num=1, p_iter=5\n",
            "relative L1 error: 0.994692\n",
            "relative L2 error: 0.996072\n",
            "\n",
            "Training with hyperparams: lr=0.02, hl=2, hu=128, initial_region=0.001, sample_num=1, past_iterations=10\n"
          ]
        },
        {
          "metadata": {
            "tags": null
          },
          "name": "stderr",
          "output_type": "stream",
          "text": [
            "100%|██████████| 500/500 [00:55<00:00,  9.06it/s]\n"
          ]
        },
        {
          "metadata": {
            "tags": null
          },
          "name": "stdout",
          "output_type": "stream",
          "text": [
            "Final epoch Loss Res: 0.003323, Loss IC: 0.487244, Loss BC: 0.000042\n",
            "Final epoch Train Loss: 0.490609\n",
            "Hyperparams: lr=0.02, hl=2, hu=128, init_reg=0.001, s_num=1, p_iter=10\n",
            "relative L1 error: 0.994113\n",
            "relative L2 error: 0.995585\n",
            "\n",
            "Training with hyperparams: lr=0.02, hl=2, hu=128, initial_region=0.001, sample_num=5, past_iterations=5\n"
          ]
        },
        {
          "metadata": {
            "tags": null
          },
          "name": "stderr",
          "output_type": "stream",
          "text": [
            "100%|██████████| 500/500 [01:13<00:00,  6.78it/s]\n"
          ]
        },
        {
          "metadata": {
            "tags": null
          },
          "name": "stdout",
          "output_type": "stream",
          "text": [
            "Final epoch Loss Res: 0.003284, Loss IC: 0.487152, Loss BC: 0.000050\n",
            "Final epoch Train Loss: 0.490486\n",
            "Hyperparams: lr=0.02, hl=2, hu=128, init_reg=0.001, s_num=5, p_iter=5\n",
            "relative L1 error: 0.994281\n",
            "relative L2 error: 0.995826\n",
            "\n",
            "Training with hyperparams: lr=0.02, hl=2, hu=128, initial_region=0.001, sample_num=5, past_iterations=10\n"
          ]
        },
        {
          "metadata": {
            "tags": null
          },
          "name": "stderr",
          "output_type": "stream",
          "text": [
            "100%|██████████| 500/500 [00:57<00:00,  8.66it/s]\n"
          ]
        },
        {
          "metadata": {
            "tags": null
          },
          "name": "stdout",
          "output_type": "stream",
          "text": [
            "Final epoch Loss Res: 0.003385, Loss IC: 0.487281, Loss BC: 0.000043\n",
            "Final epoch Train Loss: 0.490709\n",
            "Hyperparams: lr=0.02, hl=2, hu=128, init_reg=0.001, s_num=5, p_iter=10\n",
            "relative L1 error: 0.993890\n",
            "relative L2 error: 0.995361\n",
            "\n",
            "Training with hyperparams: lr=0.02, hl=2, hu=256, initial_region=0.0001, sample_num=1, past_iterations=5\n"
          ]
        },
        {
          "metadata": {
            "tags": null
          },
          "name": "stderr",
          "output_type": "stream",
          "text": [
            "100%|██████████| 500/500 [01:25<00:00,  5.88it/s]\n"
          ]
        },
        {
          "metadata": {
            "tags": null
          },
          "name": "stdout",
          "output_type": "stream",
          "text": [
            "Final epoch Loss Res: 0.006175, Loss IC: 0.480420, Loss BC: 0.000837\n",
            "Final epoch Train Loss: 0.487432\n",
            "Hyperparams: lr=0.02, hl=2, hu=256, init_reg=0.0001, s_num=1, p_iter=5\n",
            "relative L1 error: 0.913366\n",
            "relative L2 error: 0.919324\n",
            "\n",
            "Training with hyperparams: lr=0.02, hl=2, hu=256, initial_region=0.0001, sample_num=1, past_iterations=10\n"
          ]
        },
        {
          "metadata": {
            "tags": null
          },
          "name": "stderr",
          "output_type": "stream",
          "text": [
            "100%|██████████| 500/500 [01:06<00:00,  7.48it/s]\n"
          ]
        },
        {
          "metadata": {
            "tags": null
          },
          "name": "stdout",
          "output_type": "stream",
          "text": [
            "Final epoch Loss Res: 0.003227, Loss IC: 0.486763, Loss BC: 0.000108\n",
            "Final epoch Train Loss: 0.490098\n",
            "Hyperparams: lr=0.02, hl=2, hu=256, init_reg=0.0001, s_num=1, p_iter=10\n",
            "relative L1 error: 0.987473\n",
            "relative L2 error: 0.990508\n",
            "\n",
            "Training with hyperparams: lr=0.02, hl=2, hu=256, initial_region=0.0001, sample_num=5, past_iterations=5\n"
          ]
        },
        {
          "metadata": {
            "tags": null
          },
          "name": "stderr",
          "output_type": "stream",
          "text": [
            "100%|██████████| 500/500 [02:02<00:00,  4.09it/s]\n"
          ]
        },
        {
          "metadata": {
            "tags": null
          },
          "name": "stdout",
          "output_type": "stream",
          "text": [
            "Final epoch Loss Res: 0.004993, Loss IC: 0.483070, Loss BC: 0.000721\n",
            "Final epoch Train Loss: 0.488784\n",
            "Hyperparams: lr=0.02, hl=2, hu=256, init_reg=0.0001, s_num=5, p_iter=5\n",
            "relative L1 error: 0.929189\n",
            "relative L2 error: 0.936689\n",
            "\n",
            "Training with hyperparams: lr=0.02, hl=2, hu=256, initial_region=0.0001, sample_num=5, past_iterations=10\n"
          ]
        },
        {
          "metadata": {
            "tags": null
          },
          "name": "stderr",
          "output_type": "stream",
          "text": [
            "100%|██████████| 500/500 [01:57<00:00,  4.24it/s]\n"
          ]
        },
        {
          "metadata": {
            "tags": null
          },
          "name": "stdout",
          "output_type": "stream",
          "text": [
            "Final epoch Loss Res: 0.011651, Loss IC: 0.468925, Loss BC: 0.000747\n",
            "Final epoch Train Loss: 0.481322\n",
            "Hyperparams: lr=0.02, hl=2, hu=256, init_reg=0.0001, s_num=5, p_iter=10\n",
            "relative L1 error: 0.888357\n",
            "relative L2 error: 0.883950\n",
            "\n",
            "Training with hyperparams: lr=0.02, hl=2, hu=256, initial_region=0.001, sample_num=1, past_iterations=5\n"
          ]
        },
        {
          "metadata": {
            "tags": null
          },
          "name": "stderr",
          "output_type": "stream",
          "text": [
            "100%|██████████| 500/500 [00:53<00:00,  9.42it/s]\n"
          ]
        },
        {
          "metadata": {
            "tags": null
          },
          "name": "stdout",
          "output_type": "stream",
          "text": [
            "Final epoch Loss Res: 0.003184, Loss IC: 0.487769, Loss BC: 0.000064\n",
            "Final epoch Train Loss: 0.491017\n",
            "Hyperparams: lr=0.02, hl=2, hu=256, init_reg=0.001, s_num=1, p_iter=5\n",
            "relative L1 error: 0.992223\n",
            "relative L2 error: 0.994015\n",
            "\n",
            "Training with hyperparams: lr=0.02, hl=2, hu=256, initial_region=0.001, sample_num=1, past_iterations=10\n"
          ]
        },
        {
          "metadata": {
            "tags": null
          },
          "name": "stderr",
          "output_type": "stream",
          "text": [
            "100%|██████████| 500/500 [00:48<00:00, 10.29it/s]\n"
          ]
        },
        {
          "metadata": {
            "tags": null
          },
          "name": "stdout",
          "output_type": "stream",
          "text": [
            "Final epoch Loss Res: 0.003100, Loss IC: 0.487943, Loss BC: 0.000044\n",
            "Final epoch Train Loss: 0.491086\n",
            "Hyperparams: lr=0.02, hl=2, hu=256, init_reg=0.001, s_num=1, p_iter=10\n",
            "relative L1 error: 0.994058\n",
            "relative L2 error: 0.995523\n",
            "\n",
            "Training with hyperparams: lr=0.02, hl=2, hu=256, initial_region=0.001, sample_num=5, past_iterations=5\n"
          ]
        },
        {
          "metadata": {
            "tags": null
          },
          "name": "stderr",
          "output_type": "stream",
          "text": [
            "100%|██████████| 500/500 [01:32<00:00,  5.43it/s]\n"
          ]
        },
        {
          "metadata": {
            "tags": null
          },
          "name": "stdout",
          "output_type": "stream",
          "text": [
            "Final epoch Loss Res: 0.003385, Loss IC: 0.486934, Loss BC: 0.000055\n",
            "Final epoch Train Loss: 0.490375\n",
            "Hyperparams: lr=0.02, hl=2, hu=256, init_reg=0.001, s_num=5, p_iter=5\n",
            "relative L1 error: 0.993214\n",
            "relative L2 error: 0.994934\n",
            "\n",
            "Training with hyperparams: lr=0.02, hl=2, hu=256, initial_region=0.001, sample_num=5, past_iterations=10\n"
          ]
        },
        {
          "metadata": {
            "tags": null
          },
          "name": "stderr",
          "output_type": "stream",
          "text": [
            "100%|██████████| 500/500 [01:24<00:00,  5.91it/s]\n"
          ]
        },
        {
          "metadata": {
            "tags": null
          },
          "name": "stdout",
          "output_type": "stream",
          "text": [
            "Final epoch Loss Res: 0.003401, Loss IC: 0.487371, Loss BC: 0.000073\n",
            "Final epoch Train Loss: 0.490846\n",
            "Hyperparams: lr=0.02, hl=2, hu=256, init_reg=0.001, s_num=5, p_iter=10\n",
            "relative L1 error: 0.992822\n",
            "relative L2 error: 0.994370\n",
            "\n",
            "Training with hyperparams: lr=0.02, hl=4, hu=128, initial_region=0.0001, sample_num=1, past_iterations=5\n"
          ]
        },
        {
          "metadata": {
            "tags": null
          },
          "name": "stderr",
          "output_type": "stream",
          "text": [
            "100%|██████████| 500/500 [01:28<00:00,  5.67it/s]\n"
          ]
        },
        {
          "metadata": {
            "tags": null
          },
          "name": "stdout",
          "output_type": "stream",
          "text": [
            "Final epoch Loss Res: 0.028336, Loss IC: 0.430616, Loss BC: 0.002254\n",
            "Final epoch Train Loss: 0.461207\n",
            "Hyperparams: lr=0.02, hl=4, hu=128, init_reg=0.0001, s_num=1, p_iter=5\n",
            "relative L1 error: 1.100193\n",
            "relative L2 error: 1.069879\n",
            "\n",
            "Training with hyperparams: lr=0.02, hl=4, hu=128, initial_region=0.0001, sample_num=1, past_iterations=10\n"
          ]
        },
        {
          "metadata": {
            "tags": null
          },
          "name": "stderr",
          "output_type": "stream",
          "text": [
            "100%|██████████| 500/500 [00:40<00:00, 12.21it/s]\n"
          ]
        },
        {
          "metadata": {
            "tags": null
          },
          "name": "stdout",
          "output_type": "stream",
          "text": [
            "Final epoch Loss Res: 0.003364, Loss IC: 0.487254, Loss BC: 0.000046\n",
            "Final epoch Train Loss: 0.490665\n",
            "Hyperparams: lr=0.02, hl=4, hu=128, init_reg=0.0001, s_num=1, p_iter=10\n",
            "relative L1 error: 0.993686\n",
            "relative L2 error: 0.995186\n",
            "\n",
            "Training with hyperparams: lr=0.02, hl=4, hu=128, initial_region=0.0001, sample_num=5, past_iterations=5\n"
          ]
        },
        {
          "metadata": {
            "tags": null
          },
          "name": "stderr",
          "output_type": "stream",
          "text": [
            "100%|██████████| 500/500 [02:45<00:00,  3.02it/s]\n"
          ]
        },
        {
          "metadata": {
            "tags": null
          },
          "name": "stdout",
          "output_type": "stream",
          "text": [
            "Final epoch Loss Res: 0.030360, Loss IC: 0.424457, Loss BC: 0.001375\n",
            "Final epoch Train Loss: 0.456192\n",
            "Hyperparams: lr=0.02, hl=4, hu=128, init_reg=0.0001, s_num=5, p_iter=5\n",
            "relative L1 error: 1.259101\n",
            "relative L2 error: 1.188144\n",
            "\n",
            "Training with hyperparams: lr=0.02, hl=4, hu=128, initial_region=0.0001, sample_num=5, past_iterations=10\n"
          ]
        },
        {
          "metadata": {
            "tags": null
          },
          "name": "stderr",
          "output_type": "stream",
          "text": [
            "100%|██████████| 500/500 [02:43<00:00,  3.06it/s]\n"
          ]
        },
        {
          "metadata": {
            "tags": null
          },
          "name": "stdout",
          "output_type": "stream",
          "text": [
            "Final epoch Loss Res: 0.029745, Loss IC: 0.430472, Loss BC: 0.000601\n",
            "Final epoch Train Loss: 0.460818\n",
            "Hyperparams: lr=0.02, hl=4, hu=128, init_reg=0.0001, s_num=5, p_iter=10\n",
            "relative L1 error: 1.137499\n",
            "relative L2 error: 1.104780\n",
            "\n",
            "Training with hyperparams: lr=0.02, hl=4, hu=128, initial_region=0.001, sample_num=1, past_iterations=5\n"
          ]
        },
        {
          "metadata": {
            "tags": null
          },
          "name": "stderr",
          "output_type": "stream",
          "text": [
            "100%|██████████| 500/500 [01:10<00:00,  7.11it/s]\n"
          ]
        },
        {
          "metadata": {
            "tags": null
          },
          "name": "stdout",
          "output_type": "stream",
          "text": [
            "Final epoch Loss Res: 0.003132, Loss IC: 0.486842, Loss BC: 0.000108\n",
            "Final epoch Train Loss: 0.490083\n",
            "Hyperparams: lr=0.02, hl=4, hu=128, init_reg=0.001, s_num=1, p_iter=5\n",
            "relative L1 error: 0.987303\n",
            "relative L2 error: 0.990304\n",
            "\n",
            "Training with hyperparams: lr=0.02, hl=4, hu=128, initial_region=0.001, sample_num=1, past_iterations=10\n"
          ]
        },
        {
          "metadata": {
            "tags": null
          },
          "name": "stderr",
          "output_type": "stream",
          "text": [
            "100%|██████████| 500/500 [01:05<00:00,  7.60it/s]\n"
          ]
        },
        {
          "metadata": {
            "tags": null
          },
          "name": "stdout",
          "output_type": "stream",
          "text": [
            "Final epoch Loss Res: 0.003075, Loss IC: 0.486918, Loss BC: 0.000113\n",
            "Final epoch Train Loss: 0.490107\n",
            "Hyperparams: lr=0.02, hl=4, hu=128, init_reg=0.001, s_num=1, p_iter=10\n",
            "relative L1 error: 0.987288\n",
            "relative L2 error: 0.990323\n",
            "\n",
            "Training with hyperparams: lr=0.02, hl=4, hu=128, initial_region=0.001, sample_num=5, past_iterations=5\n"
          ]
        },
        {
          "metadata": {
            "tags": null
          },
          "name": "stderr",
          "output_type": "stream",
          "text": [
            "100%|██████████| 500/500 [01:56<00:00,  4.30it/s]\n"
          ]
        },
        {
          "metadata": {
            "tags": null
          },
          "name": "stdout",
          "output_type": "stream",
          "text": [
            "Final epoch Loss Res: 0.003134, Loss IC: 0.486930, Loss BC: 0.000106\n",
            "Final epoch Train Loss: 0.490169\n",
            "Hyperparams: lr=0.02, hl=4, hu=128, init_reg=0.001, s_num=5, p_iter=5\n",
            "relative L1 error: 0.988672\n",
            "relative L2 error: 0.991355\n",
            "\n",
            "Training with hyperparams: lr=0.02, hl=4, hu=128, initial_region=0.001, sample_num=5, past_iterations=10\n"
          ]
        },
        {
          "metadata": {
            "tags": null
          },
          "name": "stderr",
          "output_type": "stream",
          "text": [
            "100%|██████████| 500/500 [01:54<00:00,  4.36it/s]\n"
          ]
        },
        {
          "metadata": {
            "tags": null
          },
          "name": "stdout",
          "output_type": "stream",
          "text": [
            "Final epoch Loss Res: 0.003086, Loss IC: 0.486856, Loss BC: 0.000117\n",
            "Final epoch Train Loss: 0.490058\n",
            "Hyperparams: lr=0.02, hl=4, hu=128, init_reg=0.001, s_num=5, p_iter=10\n",
            "relative L1 error: 0.987339\n",
            "relative L2 error: 0.990353\n",
            "\n",
            "Training with hyperparams: lr=0.02, hl=4, hu=256, initial_region=0.0001, sample_num=1, past_iterations=5\n"
          ]
        },
        {
          "metadata": {
            "tags": null
          },
          "name": "stderr",
          "output_type": "stream",
          "text": [
            "100%|██████████| 500/500 [01:59<00:00,  4.20it/s]\n"
          ]
        },
        {
          "metadata": {
            "tags": null
          },
          "name": "stdout",
          "output_type": "stream",
          "text": [
            "Final epoch Loss Res: 0.021269, Loss IC: 0.444482, Loss BC: 0.001914\n",
            "Final epoch Train Loss: 0.467664\n",
            "Hyperparams: lr=0.02, hl=4, hu=256, init_reg=0.0001, s_num=1, p_iter=5\n",
            "relative L1 error: 0.994354\n",
            "relative L2 error: 0.994681\n",
            "\n",
            "Training with hyperparams: lr=0.02, hl=4, hu=256, initial_region=0.0001, sample_num=1, past_iterations=10\n"
          ]
        },
        {
          "metadata": {
            "tags": null
          },
          "name": "stderr",
          "output_type": "stream",
          "text": [
            "100%|██████████| 500/500 [01:52<00:00,  4.46it/s]\n"
          ]
        },
        {
          "metadata": {
            "tags": null
          },
          "name": "stdout",
          "output_type": "stream",
          "text": [
            "Final epoch Loss Res: 0.027041, Loss IC: 0.433515, Loss BC: 0.000607\n",
            "Final epoch Train Loss: 0.461164\n",
            "Hyperparams: lr=0.02, hl=4, hu=256, init_reg=0.0001, s_num=1, p_iter=10\n",
            "relative L1 error: 1.213709\n",
            "relative L2 error: 1.159314\n",
            "\n",
            "Training with hyperparams: lr=0.02, hl=4, hu=256, initial_region=0.0001, sample_num=5, past_iterations=5\n"
          ]
        },
        {
          "metadata": {
            "tags": null
          },
          "name": "stderr",
          "output_type": "stream",
          "text": [
            "100%|██████████| 500/500 [05:00<00:00,  1.66it/s]\n"
          ]
        },
        {
          "metadata": {
            "tags": null
          },
          "name": "stdout",
          "output_type": "stream",
          "text": [
            "Final epoch Loss Res: 0.017948, Loss IC: 0.455906, Loss BC: 0.000506\n",
            "Final epoch Train Loss: 0.474360\n",
            "Hyperparams: lr=0.02, hl=4, hu=256, init_reg=0.0001, s_num=5, p_iter=5\n",
            "relative L1 error: 1.078291\n",
            "relative L2 error: 1.057813\n",
            "\n",
            "Training with hyperparams: lr=0.02, hl=4, hu=256, initial_region=0.0001, sample_num=5, past_iterations=10\n"
          ]
        },
        {
          "metadata": {
            "tags": null
          },
          "name": "stderr",
          "output_type": "stream",
          "text": [
            "100%|██████████| 500/500 [02:02<00:00,  4.09it/s]\n"
          ]
        },
        {
          "metadata": {
            "tags": null
          },
          "name": "stdout",
          "output_type": "stream",
          "text": [
            "Final epoch Loss Res: 0.003392, Loss IC: 0.487262, Loss BC: 0.000040\n",
            "Final epoch Train Loss: 0.490694\n",
            "Hyperparams: lr=0.02, hl=4, hu=256, init_reg=0.0001, s_num=5, p_iter=10\n",
            "relative L1 error: 0.994207\n",
            "relative L2 error: 0.995630\n",
            "\n",
            "Training with hyperparams: lr=0.02, hl=4, hu=256, initial_region=0.001, sample_num=1, past_iterations=5\n"
          ]
        },
        {
          "metadata": {
            "tags": null
          },
          "name": "stderr",
          "output_type": "stream",
          "text": [
            "100%|██████████| 500/500 [01:12<00:00,  6.90it/s]\n"
          ]
        },
        {
          "metadata": {
            "tags": null
          },
          "name": "stdout",
          "output_type": "stream",
          "text": [
            "Final epoch Loss Res: 0.003322, Loss IC: 0.487226, Loss BC: 0.000043\n",
            "Final epoch Train Loss: 0.490591\n",
            "Hyperparams: lr=0.02, hl=4, hu=256, init_reg=0.001, s_num=1, p_iter=5\n",
            "relative L1 error: 0.994907\n",
            "relative L2 error: 0.996272\n",
            "\n",
            "Training with hyperparams: lr=0.02, hl=4, hu=256, initial_region=0.001, sample_num=1, past_iterations=10\n"
          ]
        },
        {
          "metadata": {
            "tags": null
          },
          "name": "stderr",
          "output_type": "stream",
          "text": [
            "100%|██████████| 500/500 [01:18<00:00,  6.33it/s]\n"
          ]
        },
        {
          "metadata": {
            "tags": null
          },
          "name": "stdout",
          "output_type": "stream",
          "text": [
            "Final epoch Loss Res: 0.003195, Loss IC: 0.487363, Loss BC: 0.000045\n",
            "Final epoch Train Loss: 0.490603\n",
            "Hyperparams: lr=0.02, hl=4, hu=256, init_reg=0.001, s_num=1, p_iter=10\n",
            "relative L1 error: 0.994867\n",
            "relative L2 error: 0.996210\n",
            "\n",
            "Training with hyperparams: lr=0.02, hl=4, hu=256, initial_region=0.001, sample_num=5, past_iterations=5\n"
          ]
        },
        {
          "metadata": {
            "tags": null
          },
          "name": "stderr",
          "output_type": "stream",
          "text": [
            "100%|██████████| 500/500 [03:24<00:00,  2.44it/s]\n"
          ]
        },
        {
          "metadata": {
            "tags": null
          },
          "name": "stdout",
          "output_type": "stream",
          "text": [
            "Final epoch Loss Res: 0.003130, Loss IC: 0.486714, Loss BC: 0.000149\n",
            "Final epoch Train Loss: 0.489993\n",
            "Hyperparams: lr=0.02, hl=4, hu=256, init_reg=0.001, s_num=5, p_iter=5\n",
            "relative L1 error: 0.983258\n",
            "relative L2 error: 0.987065\n",
            "\n",
            "Training with hyperparams: lr=0.02, hl=4, hu=256, initial_region=0.001, sample_num=5, past_iterations=10\n"
          ]
        },
        {
          "output_type": "stream",
          "name": "stderr",
          "text": [
            "100%|██████████| 500/500 [03:02<00:00,  2.74it/s]"
          ]
        },
        {
          "output_type": "stream",
          "name": "stdout",
          "text": [
            "Final epoch Loss Res: 0.003257, Loss IC: 0.487271, Loss BC: 0.000045\n",
            "Final epoch Train Loss: 0.490573\n",
            "Hyperparams: lr=0.02, hl=4, hu=256, init_reg=0.001, s_num=5, p_iter=10\n",
            "relative L1 error: 0.994884\n",
            "relative L2 error: 0.996252\n",
            "\n",
            "Results saved to hyperparameter_search_results.csv\n"
          ]
        },
        {
          "output_type": "stream",
          "name": "stderr",
          "text": [
            "\n"
          ]
        }
      ],
      "source": [
        "import os\n",
        "import time\n",
        "import torch\n",
        "import torch.nn as nn\n",
        "import matplotlib.pyplot as plt\n",
        "import random\n",
        "from tqdm import tqdm\n",
        "import argparse\n",
        "import numpy as np\n",
        "from itertools import product\n",
        "from util import get_data, make_time_sequence, get_n_params\n",
        "from model_dict import get_model\n",
        "\n",
        "# Set seeds\n",
        "seed = 0\n",
        "np.random.seed(seed)\n",
        "random.seed(seed)\n",
        "torch.manual_seed(seed)\n",
        "torch.cuda.manual_seed(seed)\n",
        "\n",
        "parser = argparse.ArgumentParser('Training Region Optimization with Hyperparameter Search')\n",
        "parser.add_argument('--model', type=str, default='PINN', help='Model type')\n",
        "parser.add_argument('--device', type=str, default='cuda', help='Compute device')\n",
        "args, unknown = parser.parse_known_args()  # <-- parse_known_args here\n",
        "\n",
        "device = args.device\n",
        "# PDE Setup: u_t = 5 u (1-u)\n",
        "def h(x):\n",
        "    return np.exp(- (x - np.pi)**2 / (2 * (np.pi/4)**2))\n",
        "\n",
        "def u_ana(x, t):\n",
        "    return h(x)*np.exp(5*t) / (h(x)*np.exp(5*t) + 1 - h(x))\n",
        "\n",
        "# Load data\n",
        "res, b_left, b_right, b_upper, b_lower = get_data([0, 2*np.pi],[0,1],101,101)\n",
        "res_test, _, _, _, _ = get_data([0, 2*np.pi],[0,1],101,101)\n",
        "\n",
        "if args.model == 'PINNsFormer' or args.model == 'PINNsFormer_Enc_Only':\n",
        "    res = make_time_sequence(res, num_step=5, step=1e-4)\n",
        "    b_left = make_time_sequence(b_left, num_step=5, step=1e-4)\n",
        "    b_right = make_time_sequence(b_right, num_step=5, step=1e-4)\n",
        "    b_upper = make_time_sequence(b_upper, num_step=5, step=1e-4)\n",
        "    b_lower = make_time_sequence(b_lower, num_step=5, step=1e-4)\n",
        "\n",
        "res = torch.tensor(res, dtype=torch.float64, requires_grad=True).to(device)\n",
        "b_left = torch.tensor(b_left, dtype=torch.float64, requires_grad=True).to(device)\n",
        "b_right = torch.tensor(b_right, dtype=torch.float64, requires_grad=True).to(device)\n",
        "b_upper = torch.tensor(b_upper, dtype=torch.float64, requires_grad=True).to(device)\n",
        "b_lower = torch.tensor(b_lower, dtype=torch.float64, requires_grad=True).to(device)\n",
        "\n",
        "x_res, t_res = res[...,0:1], res[...,1:2]\n",
        "x_left, t_left = b_left[...,0:1], b_left[...,1:2]\n",
        "x_right, t_right = b_right[...,0:1], b_right[...,1:2]\n",
        "x_upper, t_upper = b_upper[...,0:1], b_upper[...,1:2]\n",
        "x_lower, t_lower = b_lower[...,0:1], b_lower[...,1:2]\n",
        "\n",
        "def init_weights(m):\n",
        "    if isinstance(m, nn.Linear):\n",
        "        torch.nn.init.xavier_uniform_(m.weight)\n",
        "        if m.bias is not None:\n",
        "            m.bias.data.fill_(0.0)\n",
        "\n",
        "# Param grid\n",
        "param_grid = {\n",
        "    \"learning_rate\": [0.001, 0.01, 0.02],\n",
        "    \"hidden_layers\": [2, 4],\n",
        "    \"hidden_units\": [128, 256],\n",
        "    \"initial_region\": [1e-4, 1e-3],\n",
        "    \"sample_num\": [1, 5],\n",
        "    \"past_iterations\": [5, 10],\n",
        "}\n",
        "\n",
        "max_epochs = 500\n",
        "\n",
        "# Prepare a list to store results of each run\n",
        "results = []\n",
        "\n",
        "# Iterate over all hyperparameter combinations\n",
        "for lr, hl, hu, init_reg, s_num, p_iter in product(\n",
        "    param_grid[\"learning_rate\"],\n",
        "    param_grid[\"hidden_layers\"],\n",
        "    param_grid[\"hidden_units\"],\n",
        "    param_grid[\"initial_region\"],\n",
        "    param_grid[\"sample_num\"],\n",
        "    param_grid[\"past_iterations\"]\n",
        "):\n",
        "    print(f\"\\nTraining with hyperparams: lr={lr}, hl={hl}, hu={hu}, initial_region={init_reg}, sample_num={s_num}, past_iterations={p_iter}\")\n",
        "\n",
        "    ModelClass = get_model(args.model)\n",
        "    model = ModelClass(in_dim=2, hidden_dim=hu, out_dim=1, num_layer=hl).to(device)\n",
        "    model = model.double()\n",
        "    model.apply(init_weights)\n",
        "\n",
        "    # Use LBFGS for region optimization as requested\n",
        "    optimizer = LBFGS(model.parameters(), lr=lr, max_iter=20, history_size=50, line_search_fn='strong_wolfe')\n",
        "\n",
        "    gradient_list_overall = []\n",
        "    gradient_list_temp = []\n",
        "    gradient_variance = 1.0\n",
        "\n",
        "    loss_track = []\n",
        "\n",
        "    pi = torch.tensor(np.pi, dtype=torch.float64, requires_grad=False).to(device)\n",
        "\n",
        "    for epoch in tqdm(range(max_epochs)):\n",
        "        def closure():\n",
        "            optimizer.zero_grad()\n",
        "            x_res_region_sample_list = []\n",
        "            t_res_region_sample_list = []\n",
        "\n",
        "            clamped_value = max(min(init_reg / gradient_variance, 0.01), 0)\n",
        "            for _ in range(s_num):\n",
        "                x_region_sample = (torch.rand_like(x_res)*clamped_value).to(device)\n",
        "                t_region_sample = (torch.rand_like(t_res)*clamped_value).to(device)\n",
        "                # Clamp t in [0,1]\n",
        "                t_perturbed = torch.clamp(t_res + t_region_sample, min=0.0, max=1.0)\n",
        "                # For x, if needed mod by 2π for periodicity:\n",
        "                x_perturbed = (x_res + x_region_sample) % (2*np.pi)\n",
        "                x_res_region_sample_list.append(x_perturbed)\n",
        "                t_res_region_sample_list.append(t_perturbed)\n",
        "\n",
        "            x_res_region_sample = torch.cat(x_res_region_sample_list, dim=0)\n",
        "            t_res_region_sample = torch.cat(t_res_region_sample_list, dim=0)\n",
        "\n",
        "            pred_res = model(x_res_region_sample, t_res_region_sample)\n",
        "            pred_left = model(x_left, t_left)\n",
        "            pred_right = model(x_right, t_right)\n",
        "\n",
        "            # Periodic BC in x: u(0,t)=u(2π,t)\n",
        "            loss_bc = torch.mean((pred_right - pred_left)**2)\n",
        "\n",
        "            if torch.isnan(pred_res).any():\n",
        "                print(f\"NaN in pred_res at epoch {epoch}\")\n",
        "                loss = torch.tensor(1e8, dtype=torch.float64, requires_grad=True, device=device)\n",
        "                loss.backward()\n",
        "                return loss\n",
        "\n",
        "            u_x = torch.autograd.grad(pred_res, x_res_region_sample, grad_outputs=torch.ones_like(pred_res),\n",
        "                                      retain_graph=True, create_graph=True)[0]\n",
        "            u_t = torch.autograd.grad(pred_res, t_res_region_sample, grad_outputs=torch.ones_like(pred_res),\n",
        "                                      retain_graph=True, create_graph=True)[0]\n",
        "\n",
        "            if torch.isnan(u_x).any() or torch.isnan(u_t).any():\n",
        "                print(f\"NaN in u_x or u_t at epoch {epoch}\")\n",
        "                loss = torch.tensor(1e8, dtype=torch.float64, requires_grad=True, device=device)\n",
        "                loss.backward()\n",
        "                return loss\n",
        "\n",
        "            # PDE: (u_t + 50 u_x)^2\n",
        "            loss_res = torch.mean((u_t + 50*u_x)**2)\n",
        "\n",
        "            # Initial condition: u(x,0)=sin(x)\n",
        "            # Given b_left as initial line\n",
        "            ui_t = torch.autograd.grad(pred_left, t_left, grad_outputs=torch.ones_like(pred_left),\n",
        "                                       retain_graph=True, create_graph=True)[0]\n",
        "\n",
        "            loss_ic_1 = torch.mean((pred_left[...,0] - torch.sin(x_left[...,0]))**2)\n",
        "            loss_ic_2 = torch.mean((ui_t)**2)\n",
        "            loss_ic = loss_ic_1 + loss_ic_2\n",
        "\n",
        "            if torch.isnan(loss_res) or torch.isnan(loss_bc) or torch.isnan(loss_ic):\n",
        "                print(f\"NaN in losses at epoch {epoch}\")\n",
        "                loss = torch.tensor(1e8, dtype=torch.float64, requires_grad=True, device=device)\n",
        "                loss.backward()\n",
        "                return loss\n",
        "\n",
        "            loss = loss_res + loss_ic + loss_bc\n",
        "            loss.backward(retain_graph=True)\n",
        "            loss_track.append([loss_res.item(), loss_ic.item(), loss_bc.item()])\n",
        "            return loss\n",
        "\n",
        "        try:\n",
        "            optimizer.step(closure)\n",
        "        except Exception as e:\n",
        "            print(f\"LBFGS error at epoch {epoch}: {e}\")\n",
        "            continue\n",
        "\n",
        "        # Trust Region Calibration\n",
        "        if gradient_list_temp:\n",
        "            gradient_list_overall.append(np.mean(np.array(gradient_list_temp), axis=0))\n",
        "            gradient_list_overall = gradient_list_overall[-p_iter:]\n",
        "            gradient_list = np.array(gradient_list_overall)\n",
        "            if gradient_list.size > 0:\n",
        "                gradient_variance = (\n",
        "                    np.std(gradient_list, axis=0) /\n",
        "                    (np.mean(np.abs(gradient_list), axis=0) + 1e-6)\n",
        "                ).mean()\n",
        "            else:\n",
        "                gradient_variance = 1.0\n",
        "            gradient_list_temp = []\n",
        "            if gradient_variance == 0:\n",
        "                gradient_variance = 1.0\n",
        "\n",
        "    # Print final losses\n",
        "    if len(loss_track) > 0:\n",
        "        final_loss_res = loss_track[-1][0]\n",
        "        final_loss_ic = loss_track[-1][1]\n",
        "        final_loss_bc = loss_track[-1][2]\n",
        "        final_loss_sum = final_loss_res + final_loss_ic + final_loss_bc\n",
        "    else:\n",
        "        final_loss_res = float('nan')\n",
        "        final_loss_ic = float('nan')\n",
        "        final_loss_bc = float('nan')\n",
        "        final_loss_sum = float('nan')\n",
        "\n",
        "    print('Final epoch Loss Res: {:.6f}, Loss IC: {:.6f}, Loss BC: {:.6f}'.format(\n",
        "        final_loss_res, final_loss_ic, final_loss_bc))\n",
        "    print('Final epoch Train Loss: {:.6f}'.format(final_loss_sum))\n",
        "\n",
        "    # Evaluate final model\n",
        "    res_test_tensor = torch.tensor(res_test, dtype=torch.float64, requires_grad=True).to(device)\n",
        "    x_test, t_test = res_test_tensor[...,0:1], res_test_tensor[...,1:2]\n",
        "    with torch.no_grad():\n",
        "        pred = model(x_test, t_test)\n",
        "        pred = pred.cpu().numpy().reshape(101,101)\n",
        "\n",
        "    u = u_ana(res_test[...,0], res_test[...,1]).reshape(101,101)\n",
        "    rl1 = np.sum(np.abs(u - pred))/np.sum(np.abs(u))\n",
        "    rl2 = np.sqrt(np.sum((u - pred)**2)/np.sum(u**2))\n",
        "\n",
        "    print(f\"Hyperparams: lr={lr}, hl={hl}, hu={hu}, init_reg={init_reg}, s_num={s_num}, p_iter={p_iter}\")\n",
        "    print('relative L1 error: {:.6f}'.format(rl1))\n",
        "    print('relative L2 error: {:.6f}'.format(rl2))\n",
        "\n",
        "    # Store results in a list\n",
        "    # We'll append after finishing training each combination\n",
        "    if 'results' not in globals():\n",
        "        results = []\n",
        "    results.append({\n",
        "        \"learning_rate\": lr,\n",
        "        \"hidden_layers\": hl,\n",
        "        \"hidden_units\": hu,\n",
        "        \"initial_region\": init_reg,\n",
        "        \"sample_num\": s_num,\n",
        "        \"past_iterations\": p_iter,\n",
        "        \"final_loss_res\": final_loss_res,\n",
        "        \"final_loss_ic\": final_loss_ic,\n",
        "        \"final_loss_bc\": final_loss_bc,\n",
        "        \"final_loss_sum\": final_loss_sum,\n",
        "        \"relative_L1_error\": rl1,\n",
        "        \"relative_L2_error\": rl2,\n",
        "    })\n",
        "\n",
        "# After finishing all combinations, save results to CSV\n",
        "results_df = pd.DataFrame(results)\n",
        "results_df.to_csv(\"convection_region_hyperparameter_search_results.csv\", index=False)\n",
        "print(\"\\nResults saved to hyperparameter_search_results.csv\")\n"
      ]
    },
    {
      "cell_type": "markdown",
      "source": [
        "## Convection Point"
      ],
      "metadata": {
        "id": "_rOtCGXn6CS2"
      }
    },
    {
      "cell_type": "code",
      "source": [
        "import os\n",
        "import time\n",
        "import torch\n",
        "import torch.nn as nn\n",
        "import matplotlib.pyplot as plt\n",
        "import random\n",
        "import numpy as np\n",
        "import pandas as pd\n",
        "from itertools import product\n",
        "from tqdm import tqdm\n",
        "import argparse\n",
        "from util import get_data, get_n_params, make_time_sequence\n",
        "from model_dict import get_model\n",
        "\n",
        "# Set seeds for reproducibility\n",
        "seed = 0\n",
        "np.random.seed(seed)\n",
        "random.seed(seed)\n",
        "torch.manual_seed(seed)\n",
        "torch.cuda.manual_seed(seed)\n",
        "\n",
        "# Parse arguments\n",
        "parser = argparse.ArgumentParser(description='Training PINN with Hyperparameter Search')\n",
        "parser.add_argument('--device', type=str, default='cpu', help='Compute device (e.g. \"cpu\" or \"cuda:0\")')\n",
        "args, unknown = parser.parse_known_args()  # Use parse_known_args to avoid Jupyter extra args\n",
        "device = args.device\n",
        "\n",
        "# PDE Setup: u_t + 50 u_x = 0\n",
        "# Analytical solution: u(x,t) = sin(x - 50 t)\n",
        "def u_exact(x, t):\n",
        "    return np.sin(x - 50*t)\n",
        "\n",
        "# Load data\n",
        "res, b_left, b_right, b_upper, b_lower = get_data([0, 2*np.pi],[0,1],101,101)\n",
        "res_test, _, _, _, _ = get_data([0, 2*np.pi],[0,1],101,101)\n",
        "\n",
        "# Convert data to tensors\n",
        "res = torch.tensor(res, dtype=torch.float32, requires_grad=True).to(device)\n",
        "b_left = torch.tensor(b_left, dtype=torch.float32, requires_grad=True).to(device)\n",
        "b_right = torch.tensor(b_right, dtype=torch.float32, requires_grad=True).to(device)\n",
        "b_upper = torch.tensor(b_upper, dtype=torch.float32, requires_grad=True).to(device)\n",
        "b_lower = torch.tensor(b_lower, dtype=torch.float32, requires_grad=True).to(device)\n",
        "\n",
        "x_res, t_res = res[:,0:1], res[:,1:2]\n",
        "x_left, t_left = b_left[:,0:1], b_left[:,1:2]\n",
        "x_right, t_right = b_right[:,0:1], b_right[:,1:2]\n",
        "x_upper, t_upper = b_upper[:,0:1], b_upper[:,1:2]\n",
        "x_lower, t_lower = b_lower[:,0:1], b_lower[:,1:2]\n",
        "\n",
        "def init_weights(m):\n",
        "    if isinstance(m, nn.Linear):\n",
        "        torch.nn.init.xavier_uniform_(m.weight)\n",
        "        m.bias.data.fill_(0.0)\n",
        "\n",
        "# Parameter grid\n",
        "param_grid = {\n",
        "    \"learning_rate\": [0.001, 0.01, 0.02],\n",
        "    \"hidden_layers\": [2, 4],\n",
        "    \"hidden_units\": [128, 256],\n",
        "}\n",
        "\n",
        "max_epochs = 500\n",
        "\n",
        "results = []\n",
        "\n",
        "for lr, hl, hu in product(param_grid[\"learning_rate\"], param_grid[\"hidden_layers\"], param_grid[\"hidden_units\"]):\n",
        "    print(f\"\\nTraining with hyperparams: learning_rate={lr}, hidden_layers={hl}, hidden_units={hu}\")\n",
        "\n",
        "    # Initialize the PINN model\n",
        "    ModelClass = get_model(\"PINN\")  # Only PINN model\n",
        "    model = ModelClass(in_dim=2, hidden_dim=hu, out_dim=1, num_layer=hl).to(device)\n",
        "    model.apply(init_weights)\n",
        "\n",
        "    # Use LBFGS optimizer\n",
        "    optimizer = torch.optim.LBFGS(model.parameters(), lr=lr, max_iter=20, history_size=50, line_search_fn='strong_wolfe')\n",
        "\n",
        "    loss_track = []\n",
        "\n",
        "    for epoch in tqdm(range(max_epochs)):\n",
        "        def closure():\n",
        "            optimizer.zero_grad()\n",
        "            pred_res = model(x_res, t_res)\n",
        "            pred_left = model(x_left, t_left)\n",
        "            pred_right = model(x_right, t_right)\n",
        "            pred_upper = model(x_upper, t_upper)\n",
        "            pred_lower = model(x_lower, t_lower)\n",
        "\n",
        "            # PDE residual calculation\n",
        "            u_x = torch.autograd.grad(pred_res, x_res, grad_outputs=torch.ones_like(pred_res),\n",
        "                                      retain_graph=True, create_graph=True)[0]\n",
        "            u_t = torch.autograd.grad(pred_res, t_res, grad_outputs=torch.ones_like(pred_res),\n",
        "                                      retain_graph=True, create_graph=True)[0]\n",
        "\n",
        "            # PDE: u_t + 50 u_x = 0\n",
        "            loss_res = torch.mean((u_t + 50*u_x)**2)\n",
        "            # Periodic BC in x: u(0,t)=u(2π,t)\n",
        "            loss_bc = torch.mean((pred_upper - pred_lower)**2)\n",
        "            # Initial condition: u(x,0)=sin(x)\n",
        "            loss_ic = torch.mean((pred_left[:,0] - torch.sin(x_left[:,0]))**2)\n",
        "\n",
        "            loss = loss_res + loss_bc + loss_ic\n",
        "            loss.backward(retain_graph=True)\n",
        "            loss_track.append([loss_res.item(), loss_bc.item(), loss_ic.item()])\n",
        "            return loss\n",
        "\n",
        "        optimizer.step(closure)\n",
        "\n",
        "    # Extract final losses\n",
        "    final_loss_res = loss_track[-1][0]\n",
        "    final_loss_bc = loss_track[-1][1]\n",
        "    final_loss_ic = loss_track[-1][2]\n",
        "    final_loss_sum = final_loss_res + final_loss_bc + final_loss_ic\n",
        "\n",
        "    # Evaluate on test data\n",
        "    res_test_tensor = torch.tensor(res_test, dtype=torch.float32, requires_grad=True).to(device)\n",
        "    x_test, t_test = res_test_tensor[:,0:1], res_test_tensor[:,1:2]\n",
        "    with torch.no_grad():\n",
        "        pred = model(x_test, t_test).cpu().numpy().reshape(101,101)\n",
        "\n",
        "    u = u_exact(res_test[:,0], res_test[:,1]).reshape(101,101)\n",
        "    rl1 = np.sum(np.abs(u - pred))/np.sum(np.abs(u))\n",
        "    rl2 = np.sqrt(np.sum((u - pred)**2)/np.sum(u**2))\n",
        "\n",
        "    print(f\"Hyperparams: lr={lr}, hl={hl}, hu={hu}\")\n",
        "    print('Final Loss Res: {:.6f}, Loss BC: {:.6f}, Loss IC: {:.6f}, Loss Sum: {:.6f}'.format(\n",
        "        final_loss_res, final_loss_bc, final_loss_ic, final_loss_sum))\n",
        "    print('relative L1 error: {:.6f}'.format(rl1))\n",
        "    print('relative L2 error: {:.6f}'.format(rl2))\n",
        "\n",
        "    # Store results\n",
        "    results.append({\n",
        "        \"learning_rate\": lr,\n",
        "        \"hidden_layers\": hl,\n",
        "        \"hidden_units\": hu,\n",
        "        \"final_loss_res\": final_loss_res,\n",
        "        \"final_loss_bc\": final_loss_bc,\n",
        "        \"final_loss_ic\": final_loss_ic,\n",
        "        \"final_loss_sum\": final_loss_sum,\n",
        "        \"relative_L1_error\": rl1,\n",
        "        \"relative_L2_error\": rl2\n",
        "    })\n",
        "\n",
        "# Save results to CSV\n",
        "results_df = pd.DataFrame(results)\n",
        "if not os.path.exists(\"./results/\"):\n",
        "    os.makedirs(\"./results/\")\n",
        "results_df.to_csv(\"./results/hyperparameter_search_results.csv\", index=False)\n",
        "print(\"Results saved to ./results/hyperparameter_search_results.csv\")\n",
        "\n",
        "# Optional: Save final model and visualize last run\n",
        "torch.save(model.state_dict(), \"./results/final_model.pt\")\n",
        "\n",
        "plt.figure(figsize=(4,3))\n",
        "plt.imshow(pred, aspect='equal')\n",
        "plt.title('Predicted u(x,t) for last run')\n",
        "plt.colorbar()\n",
        "plt.tight_layout()\n",
        "plt.axis('off')\n",
        "plt.savefig(\"./results/final_pred.png\", bbox_inches='tight')\n",
        "print(\"Saved final prediction image and final model.\")\n"
      ],
      "metadata": {
        "id": "NdZhOKL5i2Nj",
        "colab": {
          "base_uri": "https://localhost:8080/",
          "height": 1000
        },
        "outputId": "6e8bea86-a327-4d05-e54e-2fb95503d80e"
      },
      "execution_count": null,
      "outputs": [
        {
          "output_type": "stream",
          "name": "stdout",
          "text": [
            "\n",
            "Training with hyperparams: learning_rate=0.001, hidden_layers=2, hidden_units=128\n"
          ]
        },
        {
          "output_type": "stream",
          "name": "stderr",
          "text": [
            "100%|██████████| 500/500 [00:56<00:00,  8.93it/s]\n"
          ]
        },
        {
          "output_type": "stream",
          "name": "stdout",
          "text": [
            "Hyperparams: lr=0.001, hl=2, hu=128\n",
            "Final Loss Res: 0.004589, Loss BC: 0.000532, Loss IC: 0.483162, Loss Sum: 0.488282\n",
            "relative L1 error: 1.004138\n",
            "relative L2 error: 1.008294\n",
            "\n",
            "Training with hyperparams: learning_rate=0.001, hidden_layers=2, hidden_units=256\n"
          ]
        },
        {
          "output_type": "stream",
          "name": "stderr",
          "text": [
            "100%|██████████| 500/500 [01:36<00:00,  5.16it/s]\n"
          ]
        },
        {
          "output_type": "stream",
          "name": "stdout",
          "text": [
            "Hyperparams: lr=0.001, hl=2, hu=256\n",
            "Final Loss Res: 0.000885, Loss BC: 0.000081, Loss IC: 0.497085, Loss Sum: 0.498052\n",
            "relative L1 error: 1.001281\n",
            "relative L2 error: 1.002503\n",
            "\n",
            "Training with hyperparams: learning_rate=0.001, hidden_layers=4, hidden_units=128\n"
          ]
        },
        {
          "output_type": "stream",
          "name": "stderr",
          "text": [
            "100%|██████████| 500/500 [02:03<00:00,  4.06it/s]\n"
          ]
        },
        {
          "output_type": "stream",
          "name": "stdout",
          "text": [
            "Hyperparams: lr=0.001, hl=4, hu=128\n",
            "Final Loss Res: 0.001967, Loss BC: 0.000014, Loss IC: 0.492468, Loss Sum: 0.494449\n",
            "relative L1 error: 1.000237\n",
            "relative L2 error: 1.000455\n",
            "\n",
            "Training with hyperparams: learning_rate=0.001, hidden_layers=4, hidden_units=256\n"
          ]
        },
        {
          "output_type": "stream",
          "name": "stderr",
          "text": [
            "100%|██████████| 500/500 [04:35<00:00,  1.82it/s]\n"
          ]
        },
        {
          "output_type": "stream",
          "name": "stdout",
          "text": [
            "Hyperparams: lr=0.001, hl=4, hu=256\n",
            "Final Loss Res: 0.007641, Loss BC: 0.000159, Loss IC: 0.494796, Loss Sum: 0.502596\n",
            "relative L1 error: 1.002134\n",
            "relative L2 error: 1.004266\n",
            "\n",
            "Training with hyperparams: learning_rate=0.01, hidden_layers=2, hidden_units=128\n"
          ]
        },
        {
          "output_type": "stream",
          "name": "stderr",
          "text": [
            "100%|██████████| 500/500 [02:16<00:00,  3.65it/s]\n"
          ]
        },
        {
          "output_type": "stream",
          "name": "stdout",
          "text": [
            "Hyperparams: lr=0.01, hl=2, hu=128\n",
            "Final Loss Res: 0.002515, Loss BC: 0.059988, Loss IC: 0.236820, Loss Sum: 0.299322\n",
            "relative L1 error: 1.059129\n",
            "relative L2 error: 1.117055\n",
            "\n",
            "Training with hyperparams: learning_rate=0.01, hidden_layers=2, hidden_units=256\n"
          ]
        },
        {
          "output_type": "stream",
          "name": "stderr",
          "text": [
            "100%|██████████| 500/500 [01:54<00:00,  4.37it/s]\n"
          ]
        },
        {
          "output_type": "stream",
          "name": "stdout",
          "text": [
            "Hyperparams: lr=0.01, hl=2, hu=256\n",
            "Final Loss Res: 0.003759, Loss BC: 0.019191, Loss IC: 0.448468, Loss Sum: 0.471418\n",
            "relative L1 error: 1.224753\n",
            "relative L2 error: 1.348747\n",
            "\n",
            "Training with hyperparams: learning_rate=0.01, hidden_layers=4, hidden_units=128\n"
          ]
        },
        {
          "output_type": "stream",
          "name": "stderr",
          "text": [
            "100%|██████████| 500/500 [10:49<00:00,  1.30s/it]\n"
          ]
        },
        {
          "output_type": "stream",
          "name": "stdout",
          "text": [
            "Hyperparams: lr=0.01, hl=4, hu=128\n",
            "Final Loss Res: 0.000493, Loss BC: 0.017746, Loss IC: 0.000753, Loss Sum: 0.018992\n",
            "relative L1 error: 0.809912\n",
            "relative L2 error: 0.866818\n",
            "\n",
            "Training with hyperparams: learning_rate=0.01, hidden_layers=4, hidden_units=256\n"
          ]
        },
        {
          "output_type": "stream",
          "name": "stderr",
          "text": [
            "100%|██████████| 500/500 [22:34<00:00,  2.71s/it]\n"
          ]
        },
        {
          "output_type": "stream",
          "name": "stdout",
          "text": [
            "Hyperparams: lr=0.01, hl=4, hu=256\n",
            "Final Loss Res: 0.000454, Loss BC: 0.017195, Loss IC: 0.000750, Loss Sum: 0.018399\n",
            "relative L1 error: 0.802384\n",
            "relative L2 error: 0.860212\n",
            "\n",
            "Training with hyperparams: learning_rate=0.02, hidden_layers=2, hidden_units=128\n"
          ]
        },
        {
          "output_type": "stream",
          "name": "stderr",
          "text": [
            "100%|██████████| 500/500 [00:36<00:00, 13.65it/s]\n"
          ]
        },
        {
          "output_type": "stream",
          "name": "stdout",
          "text": [
            "Hyperparams: lr=0.02, hl=2, hu=128\n",
            "Final Loss Res: 0.002761, Loss BC: 0.019707, Loss IC: 0.446943, Loss Sum: 0.469410\n",
            "relative L1 error: 1.234404\n",
            "relative L2 error: 1.360157\n",
            "\n",
            "Training with hyperparams: learning_rate=0.02, hidden_layers=2, hidden_units=256\n"
          ]
        },
        {
          "output_type": "stream",
          "name": "stderr",
          "text": [
            "100%|██████████| 500/500 [01:54<00:00,  4.38it/s]\n"
          ]
        },
        {
          "output_type": "stream",
          "name": "stdout",
          "text": [
            "Hyperparams: lr=0.02, hl=2, hu=256\n",
            "Final Loss Res: 0.001666, Loss BC: 0.021370, Loss IC: 0.446968, Loss Sum: 0.470004\n",
            "relative L1 error: 1.255014\n",
            "relative L2 error: 1.383394\n",
            "\n",
            "Training with hyperparams: learning_rate=0.02, hidden_layers=4, hidden_units=128\n"
          ]
        },
        {
          "output_type": "stream",
          "name": "stderr",
          "text": [
            "100%|██████████| 500/500 [09:33<00:00,  1.15s/it]\n"
          ]
        },
        {
          "output_type": "stream",
          "name": "stdout",
          "text": [
            "Hyperparams: lr=0.02, hl=4, hu=128\n",
            "Final Loss Res: 0.000603, Loss BC: 0.016800, Loss IC: 0.000686, Loss Sum: 0.018088\n",
            "relative L1 error: 0.795714\n",
            "relative L2 error: 0.855855\n",
            "\n",
            "Training with hyperparams: learning_rate=0.02, hidden_layers=4, hidden_units=256\n"
          ]
        },
        {
          "output_type": "stream",
          "name": "stderr",
          "text": [
            "100%|██████████| 500/500 [24:09<00:00,  2.90s/it]\n"
          ]
        },
        {
          "output_type": "stream",
          "name": "stdout",
          "text": [
            "Hyperparams: lr=0.02, hl=4, hu=256\n",
            "Final Loss Res: 0.001687, Loss BC: 0.033747, Loss IC: 0.003854, Loss Sum: 0.039288\n",
            "relative L1 error: 0.914091\n",
            "relative L2 error: 0.948863\n",
            "Results saved to ./results/hyperparameter_search_results.csv\n",
            "Saved final prediction image and final model.\n"
          ]
        },
        {
          "output_type": "display_data",
          "data": {
            "text/plain": [
              "<Figure size 400x300 with 2 Axes>"
            ],
            "image/png": "[encoded data removed]"
          },
          "metadata": {}
        }
      ]
    }
  ],
  "metadata": {
    "colab": {
      "machine_shape": "hm",
      "provenance": [],
      "collapsed_sections": [
        "Y4CkCXYMppqU",
        "qvG9be7VpdyW",
        "OyTUTrl46JCB",
        "_rOtCGXn6CS2"
      ]
    },
    "kernelspec": {
      "display_name": "Python 3",
      "name": "python3"
    },
    "language_info": {
      "name": "python"
    }
  },
  "nbformat": 4,
  "nbformat_minor": 0
}